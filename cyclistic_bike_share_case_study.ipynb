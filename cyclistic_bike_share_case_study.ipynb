{
  "cells": [
    {
      "cell_type": "markdown",
      "metadata": {
        "id": "view-in-github",
        "colab_type": "text"
      },
      "source": [
        "<a href=\"https://colab.research.google.com/github/TG5128/MachineLearning/blob/main/cyclistic_bike_share_case_study.ipynb\" target=\"_parent\"><img src=\"https://colab.research.google.com/assets/colab-badge.svg\" alt=\"Open In Colab\"/></a>"
      ]
    },
    {
      "cell_type": "markdown",
      "id": "9ab261b9",
      "metadata": {
        "_cell_guid": "ccc6b951-4b7a-4661-be36-1642756fe028",
        "_uuid": "20f80c8d-af23-4bcd-89ee-ea8786705d3b",
        "jupyter": {
          "outputs_hidden": false
        },
        "papermill": {
          "duration": 0.089913,
          "end_time": "2022-02-09T17:49:46.395042",
          "exception": false,
          "start_time": "2022-02-09T17:49:46.305129",
          "status": "completed"
        },
        "tags": [],
        "id": "9ab261b9"
      },
      "source": [
        "## Introduction\n",
        "\n",
        "This is a capstone project as a part of my [Google Data Analytics Professional Certificate](https://www.coursera.org/professional-certificates/google-data-analytics) course.\n",
        "\n",
        "**For this project following data analysis steps will be followed :**\n",
        "\n",
        " * Ask\n",
        " * Prepare\n",
        " * Process\n",
        " * Analyze\n",
        " * Share\n",
        " * Act\n",
        "\n",
        "**Following Case Study Roadmap will be followed on each data analysis process**\n",
        "\n",
        " * Code, when needed on the step.\n",
        " * Key tasks, as a checklist.\n",
        " * Deliverable, as a checklist.\n",
        "\n",
        "## Scenario\n",
        "\n",
        "You are a junior data analyst working in the marketing analyst team at Cyclistic, a bike-share company in Chicago. The director of marketing believes the company’s future success depends on maximizing the number of annual memberships. Therefore, your team wants to understand how casual riders and annual members use Cyclistic bikes differently. From these insights, your team will design a new marketing strategy to convert casual riders into annual members. But first, Cyclistic executives must approve your recommendations, so they must be backed up with compelling data insights and professional data visualizations.\n",
        "\n",
        "\n",
        "## Ask\n",
        "\n",
        "Three questions will guide the future marketing program:\n",
        "1. How do annual members and casual riders use Cyclistic bikes differently?\n",
        "2. Why would casual riders buy Cyclistic annual memberships?\n",
        "3. How can Cyclistic use digital media to influence casual riders to become members?\n",
        "\n",
        "The director of marketing and your manager *Lily Moreno* has assigned you the first question to answer: *How do annual members and casual riders use Cyclistic bikes differently?*\n",
        "\n",
        "#### Key tasks\n",
        "\n",
        "- Identify the business task\n",
        "\n",
        "    * The main objective is to build the best marketing strategies to turn casual bike riders into annual members by analyzing how the 'Casual' and 'Annual' customers use Cyclistic bike share differently.\n",
        "\n",
        "\n",
        "- Consider key stakeholders\n",
        "\n",
        "    * Cyclistic executive team, Director of Marketing (Lily Moreno), Marketing Analytics team.\n",
        "\n",
        "\n",
        "#### Deliverable\n",
        "\n",
        "-  A clear statement of the business task\n",
        "\n",
        "    * Find the differences between casual and member riders.\n",
        "\n",
        "\n",
        "## Prepare\n",
        "\n",
        "I will use Cyclistic’s historical trip data to analyze and identify trends. The data has been made available by\n",
        "**Motivate International Inc.** under this [license](https://www.divvybikes.com/data-license-agreement).\n",
        "Datasets are avilable [here](https://divvy-tripdata.s3.amazonaws.com/index.html).\n",
        "\n",
        "#### Key tasks\n",
        "\n",
        "- Download data and store it appropriately.\n",
        "\n",
        "    * Data has been downloaded from [here](https://divvy-tripdata.s3.amazonaws.com/index.html) and copies have been stored securely on my computer and here on Kaggle.\n",
        "\n",
        "\n",
        "-  Identify how it’s organized.\n",
        "\n",
        "    * All trip data is in comma-delimited (.CSV) format. Column names \"ride_id\", \"rideable_type\", \"started_at\", \"ended_at\", \"start_station_name\", \"start_station_id\", \"end_station_name\", \"end_station_id\", \"start_lat\", \"start_lng\", \"end_lat\", \"end_lng\", \"member_casual\" (Total 13 column)\n",
        "\n",
        "\n",
        "-  Sort and filter the data.\n",
        "\n",
        "    * For this analysis I'm going to use last 12 months data of the year 2021, as it's the more current period to the business task.\n",
        "\n",
        "\n",
        "- Determine the credibility of the data.\n",
        "\n",
        "    * For the purposes of this case study, the datasets are appropriate and it will enable me to answer the business questions. But due data-privacy I cannot use rider's personally identification information, and this will prevent me from determining if a single user/rider taken several rides. All ride ids are unique in this data-set.\n",
        "\n",
        "\n",
        "#### Deliverable\n",
        "\n",
        "-  A description of all data sources used\n",
        "\n",
        "    * Main source of data provided by the [Cylistic company](https://divvy-tripdata.s3.amazonaws.com/index.html).\n",
        "\n",
        "\n",
        "#### Collect and combine data into a single data frame (Code)"
      ]
    },
    {
      "cell_type": "code",
      "source": [
        "install.packages(\"janitor\")\n",
        "install.packages(\"ggmap\")"
      ],
      "metadata": {
        "colab": {
          "base_uri": "https://localhost:8080/"
        },
        "id": "ukibjGAmYWj3",
        "outputId": "772ed710-1d0e-4538-bfd9-bd1d699cb108"
      },
      "id": "ukibjGAmYWj3",
      "execution_count": null,
      "outputs": [
        {
          "output_type": "stream",
          "name": "stderr",
          "text": [
            "Installing package into ‘/usr/local/lib/R/site-library’\n",
            "(as ‘lib’ is unspecified)\n",
            "\n",
            "Installing package into ‘/usr/local/lib/R/site-library’\n",
            "(as ‘lib’ is unspecified)\n",
            "\n",
            "also installing the dependencies ‘png’, ‘plyr’, ‘jpeg’, ‘bitops’\n",
            "\n",
            "\n"
          ]
        }
      ]
    },
    {
      "cell_type": "markdown",
      "source": [],
      "metadata": {
        "id": "4ixS0d3PYWSj"
      },
      "id": "4ixS0d3PYWSj"
    },
    {
      "cell_type": "code",
      "execution_count": 5,
      "id": "8319928c",
      "metadata": {
        "_kg_hide-output": true,
        "execution": {
          "iopub.execute_input": "2022-02-09T17:49:46.582443Z",
          "iopub.status.busy": "2022-02-09T17:49:46.579733Z",
          "iopub.status.idle": "2022-02-09T17:49:48.339391Z",
          "shell.execute_reply": "2022-02-09T17:49:48.338097Z"
        },
        "papermill": {
          "duration": 1.85474,
          "end_time": "2022-02-09T17:49:48.339578",
          "exception": false,
          "start_time": "2022-02-09T17:49:46.484838",
          "status": "completed"
        },
        "tags": [],
        "id": "8319928c",
        "outputId": "ec562f6e-8ffd-42bb-f527-8855ff0f823c",
        "colab": {
          "base_uri": "https://localhost:8080/",
          "height": 106
        }
      },
      "outputs": [
        {
          "output_type": "error",
          "ename": "ERROR",
          "evalue": "Error in library(ggmap): there is no package called ‘ggmap’\n",
          "traceback": [
            "Error in library(ggmap): there is no package called ‘ggmap’\nTraceback:\n",
            "1. stop(packageNotFoundError(package, lib.loc, sys.call()))"
          ]
        }
      ],
      "source": [
        "\n",
        "## install and load necessary packages\n",
        "library(tidyverse)\n",
        "library(janitor)\n",
        "library(ggmap)\n",
        "library(geosphere)\n",
        "library(lubridate)\n"
      ]
    },
    {
      "cell_type": "code",
      "execution_count": null,
      "id": "9b439ea3",
      "metadata": {
        "_kg_hide-input": false,
        "_kg_hide-output": true,
        "execution": {
          "iopub.execute_input": "2022-02-09T17:49:48.566827Z",
          "iopub.status.busy": "2022-02-09T17:49:48.536429Z",
          "iopub.status.idle": "2022-02-09T17:49:54.261772Z",
          "shell.execute_reply": "2022-02-09T17:49:54.260245Z"
        },
        "papermill": {
          "duration": 5.821597,
          "end_time": "2022-02-09T17:49:54.261946",
          "exception": false,
          "start_time": "2022-02-09T17:49:48.440349",
          "status": "completed"
        },
        "tags": [],
        "id": "9b439ea3"
      },
      "outputs": [],
      "source": [
        "## import data in R studio\n",
        "jan21 <- read_csv(\"../input/divvytripdata/202101-divvy-tripdata.csv\")\n",
        "feb21 <- read_csv(\"../input/divvytripdata/202102-divvy-tripdata.csv\")\n",
        "mar21 <- read_csv(\"../input/divvytripdata/202103-divvy-tripdata.csv\")\n",
        "apr21 <- read_csv(\"../input/divvytripdata/202104-divvy-tripdata.csv\")\n",
        "may21 <- read_csv(\"../input/divvytripdata/202105-divvy-tripdata.csv\")\n",
        "jun21 <- read_csv(\"../input/divvytripdata/202106-divvy-tripdata.csv\")\n",
        "jul21 <- read_csv(\"../input/divvytripdata/202107-divvy-tripdata.csv\")\n",
        "aug21 <- read_csv(\"../input/divvytripdata/202108-divvy-tripdata.csv\")\n",
        "sep21 <- read_csv(\"../input/divvytripdata/202109-divvy-tripdata.csv\")\n",
        "oct21 <- read_csv(\"../input/divvytripdata/202110-divvy-tripdata.csv\")\n",
        "nov21 <- read_csv(\"../input/divvytripdata/202111-divvy-tripdata.csv\")\n",
        "dec21 <- read_csv(\"../input/divvytripdata/202112-divvy-tripdata.csv\")"
      ]
    },
    {
      "cell_type": "code",
      "execution_count": null,
      "id": "e88e47c3",
      "metadata": {
        "_kg_hide-output": true,
        "execution": {
          "iopub.execute_input": "2022-02-09T17:49:54.548463Z",
          "iopub.status.busy": "2022-02-09T17:49:54.546792Z",
          "iopub.status.idle": "2022-02-09T17:49:55.093168Z",
          "shell.execute_reply": "2022-02-09T17:49:55.091354Z"
        },
        "papermill": {
          "duration": 0.674156,
          "end_time": "2022-02-09T17:49:55.093328",
          "exception": false,
          "start_time": "2022-02-09T17:49:54.419172",
          "status": "completed"
        },
        "tags": [],
        "id": "e88e47c3"
      },
      "outputs": [],
      "source": [
        "## checking data sets for consistency\n",
        "colnames(jan21)\n",
        "colnames(feb21)\n",
        "colnames(mar21)\n",
        "colnames(apr21)\n",
        "colnames(may21)\n",
        "colnames(jun21)\n",
        "colnames(jul21)\n",
        "colnames(aug21)\n",
        "colnames(sep21)\n",
        "colnames(oct21)\n",
        "colnames(nov21)\n",
        "colnames(dec21)\n",
        "\n",
        "## to check data structures (dbl, chr, date)\n",
        "str(jan21)\n",
        "str(feb21)\n",
        "str(mar21)\n",
        "str(apr21)\n",
        "str(may21)\n",
        "str(jun21)\n",
        "str(jul21)\n",
        "str(aug21)\n",
        "str(sep21)\n",
        "str(oct21)\n",
        "str(nov21)\n",
        "str(dec21)"
      ]
    },
    {
      "cell_type": "code",
      "execution_count": null,
      "id": "5127c721",
      "metadata": {
        "_kg_hide-output": true,
        "execution": {
          "iopub.execute_input": "2022-02-09T17:49:55.405804Z",
          "iopub.status.busy": "2022-02-09T17:49:55.403618Z",
          "iopub.status.idle": "2022-02-09T17:50:20.645233Z",
          "shell.execute_reply": "2022-02-09T17:50:20.643347Z"
        },
        "papermill": {
          "duration": 25.400241,
          "end_time": "2022-02-09T17:50:20.645463",
          "exception": false,
          "start_time": "2022-02-09T17:49:55.245222",
          "status": "completed"
        },
        "tags": [],
        "id": "5127c721"
      },
      "outputs": [],
      "source": [
        "## merge individual monthly data frames into one large data frame\n",
        "tripdata <- bind_rows(jan21, feb21, mar21, apr21, may21, jun21, jul21, aug21, sep21, oct21, nov21, dec21)"
      ]
    },
    {
      "cell_type": "markdown",
      "id": "18a60337",
      "metadata": {
        "papermill": {
          "duration": 0.149141,
          "end_time": "2022-02-09T17:50:20.944906",
          "exception": false,
          "start_time": "2022-02-09T17:50:20.795765",
          "status": "completed"
        },
        "tags": [],
        "id": "18a60337"
      },
      "source": [
        "## Process\n",
        "\n",
        "Cleaning and Preparation of data for analysis\n",
        "\n",
        "#### Key tasks\n",
        "\n",
        "- Check the data for errors.\n",
        "- Choose your tools.\n",
        "- Transform the data so you can work with it effectively.\n",
        "- Document the cleaning process.\n",
        "\n",
        "#### Deliverable\n",
        "\n",
        "- Documentation of any cleaning or manipulation of data\n",
        "\n",
        "#### Following code chunks will be used for this 'Process' phase.\n"
      ]
    },
    {
      "cell_type": "code",
      "execution_count": null,
      "id": "639305a0",
      "metadata": {
        "_kg_hide-output": true,
        "execution": {
          "iopub.execute_input": "2022-02-09T17:50:21.248737Z",
          "iopub.status.busy": "2022-02-09T17:50:21.246760Z",
          "iopub.status.idle": "2022-02-09T17:50:27.777248Z",
          "shell.execute_reply": "2022-02-09T17:50:27.775318Z"
        },
        "papermill": {
          "duration": 6.684378,
          "end_time": "2022-02-09T17:50:27.777421",
          "exception": false,
          "start_time": "2022-02-09T17:50:21.093043",
          "status": "completed"
        },
        "tags": [],
        "id": "639305a0"
      },
      "outputs": [],
      "source": [
        "## checking merged data frame\n",
        "colnames(tripdata)  #List of column names\n",
        "head(tripdata)  #See the first 6 rows of data frame.  Also tail(tripdata)\n",
        "str(tripdata)  #See list of columns and data types (numeric, character, etc)\n",
        "summary(tripdata)  #Statistical summary of data. Mainly for numeric."
      ]
    },
    {
      "cell_type": "code",
      "execution_count": null,
      "id": "8eb14bf1",
      "metadata": {
        "_kg_hide-output": true,
        "execution": {
          "iopub.execute_input": "2022-02-09T17:50:28.103544Z",
          "iopub.status.busy": "2022-02-09T17:50:28.102087Z",
          "iopub.status.idle": "2022-02-09T17:50:42.686595Z",
          "shell.execute_reply": "2022-02-09T17:50:42.685330Z"
        },
        "papermill": {
          "duration": 14.746623,
          "end_time": "2022-02-09T17:50:42.686838",
          "exception": false,
          "start_time": "2022-02-09T17:50:27.940215",
          "status": "completed"
        },
        "tags": [],
        "id": "8eb14bf1"
      },
      "outputs": [],
      "source": [
        "## Adding date, month, year, day of week columns\n",
        "tripdata <- tripdata %>%\n",
        "  mutate(year = format(as.Date(started_at), \"%Y\")) %>% # extract year\n",
        "  mutate(month = format(as.Date(started_at), \"%B\")) %>% #extract month\n",
        "  mutate(date = format(as.Date(started_at), \"%d\")) %>% # extract date\n",
        "  mutate(day_of_week = format(as.Date(started_at), \"%A\")) %>% # extract day of week\n",
        "  mutate(ride_length = difftime(ended_at, started_at)) %>%\n",
        "  mutate(start_time = strftime(started_at, \"%H\"))\n",
        "\n",
        "# converting 'ride_length' to numeric for calculation on data\n",
        "\n",
        "tripdata <- tripdata %>%\n",
        "  mutate(ride_length = as.numeric(ride_length))\n",
        "is.numeric(tripdata$ride_length) # to check it is right format"
      ]
    },
    {
      "cell_type": "code",
      "execution_count": null,
      "id": "270dcf2c",
      "metadata": {
        "execution": {
          "iopub.execute_input": "2022-02-09T17:50:43.026391Z",
          "iopub.status.busy": "2022-02-09T17:50:43.024781Z",
          "iopub.status.idle": "2022-02-09T17:50:52.537877Z",
          "shell.execute_reply": "2022-02-09T17:50:52.536452Z"
        },
        "papermill": {
          "duration": 9.680707,
          "end_time": "2022-02-09T17:50:52.538035",
          "exception": false,
          "start_time": "2022-02-09T17:50:42.857328",
          "status": "completed"
        },
        "tags": [],
        "id": "270dcf2c"
      },
      "outputs": [],
      "source": [
        "# adding ride distance in km\n",
        "tripdata$ride_distance <- distGeo(matrix(c(tripdata$start_lng, tripdata$start_lat), ncol = 2), matrix(c(tripdata$end_lng, tripdata$end_lat), ncol = 2))\n",
        "\n",
        "tripdata$ride_distance <- tripdata$ride_distance/1000 #distance in km"
      ]
    },
    {
      "cell_type": "code",
      "execution_count": null,
      "id": "cd9be554",
      "metadata": {
        "execution": {
          "iopub.execute_input": "2022-02-09T17:50:52.856482Z",
          "iopub.status.busy": "2022-02-09T17:50:52.855141Z",
          "iopub.status.idle": "2022-02-09T17:50:54.277148Z",
          "shell.execute_reply": "2022-02-09T17:50:54.276022Z"
        },
        "papermill": {
          "duration": 1.582899,
          "end_time": "2022-02-09T17:50:54.277302",
          "exception": false,
          "start_time": "2022-02-09T17:50:52.694403",
          "status": "completed"
        },
        "tags": [],
        "id": "cd9be554"
      },
      "outputs": [],
      "source": [
        "# Remove \"bad\" data\n",
        "# The dataframe includes a few hundred entries when bikes were taken out of docks\n",
        "# and checked for quality by Divvy where ride_length was negative or 'zero'\n",
        "tripdata_clean <- tripdata[!(tripdata$ride_length <= 0),]"
      ]
    },
    {
      "cell_type": "markdown",
      "id": "f53bc651",
      "metadata": {
        "papermill": {
          "duration": 0.156281,
          "end_time": "2022-02-09T17:50:54.589532",
          "exception": false,
          "start_time": "2022-02-09T17:50:54.433251",
          "status": "completed"
        },
        "tags": [],
        "id": "f53bc651"
      },
      "source": [
        "## Analyze\n",
        "\n",
        "Now all the required information are in one place and ready for exploration.\n",
        "\n",
        "#### Key tasks\n",
        "\n",
        "-  Aggregate your data so it’s useful and accessible.\n",
        "-  Organize and format your data.\n",
        "-  Perform calculations.\n",
        "-  Identify trends and relationships.\n",
        "\n",
        "#### Deliverable\n",
        "\n",
        "-  A summary of the analysis\n",
        "\n",
        "#### Following code chunks will be used for this 'Analyze' phase\n",
        "\n",
        "#### Compare members and casual users :"
      ]
    },
    {
      "cell_type": "code",
      "execution_count": null,
      "id": "ab7c8462",
      "metadata": {
        "execution": {
          "iopub.execute_input": "2022-02-09T17:50:54.913992Z",
          "iopub.status.busy": "2022-02-09T17:50:54.912683Z",
          "iopub.status.idle": "2022-02-09T17:50:54.959267Z",
          "shell.execute_reply": "2022-02-09T17:50:54.957148Z"
        },
        "papermill": {
          "duration": 0.211193,
          "end_time": "2022-02-09T17:50:54.959472",
          "exception": false,
          "start_time": "2022-02-09T17:50:54.748279",
          "status": "completed"
        },
        "scrolled": true,
        "tags": [],
        "id": "ab7c8462"
      },
      "outputs": [],
      "source": [
        "# first lets check the cleaned data frame\n",
        "str(tripdata_clean)"
      ]
    },
    {
      "cell_type": "code",
      "execution_count": null,
      "id": "0dcf0543",
      "metadata": {
        "execution": {
          "iopub.execute_input": "2022-02-09T17:50:55.281717Z",
          "iopub.status.busy": "2022-02-09T17:50:55.279689Z",
          "iopub.status.idle": "2022-02-09T17:50:58.862063Z",
          "shell.execute_reply": "2022-02-09T17:50:58.860301Z"
        },
        "papermill": {
          "duration": 3.745546,
          "end_time": "2022-02-09T17:50:58.862218",
          "exception": false,
          "start_time": "2022-02-09T17:50:55.116672",
          "status": "completed"
        },
        "scrolled": true,
        "tags": [],
        "id": "0dcf0543"
      },
      "outputs": [],
      "source": [
        "# lets check summarised details about the cleaned dataset\n",
        "summary(tripdata_clean)"
      ]
    },
    {
      "cell_type": "markdown",
      "id": "4e1f1000",
      "metadata": {
        "papermill": {
          "duration": 0.157098,
          "end_time": "2022-02-09T17:50:59.176484",
          "exception": false,
          "start_time": "2022-02-09T17:50:59.019386",
          "status": "completed"
        },
        "tags": [],
        "id": "4e1f1000"
      },
      "source": [
        "#### Conduct descriptive analysis :"
      ]
    },
    {
      "cell_type": "code",
      "execution_count": null,
      "id": "28b62020",
      "metadata": {
        "execution": {
          "iopub.execute_input": "2022-02-09T17:50:59.502336Z",
          "iopub.status.busy": "2022-02-09T17:50:59.500422Z",
          "iopub.status.idle": "2022-02-09T17:50:59.782971Z",
          "shell.execute_reply": "2022-02-09T17:50:59.781740Z"
        },
        "papermill": {
          "duration": 0.448126,
          "end_time": "2022-02-09T17:50:59.783154",
          "exception": false,
          "start_time": "2022-02-09T17:50:59.335028",
          "status": "completed"
        },
        "scrolled": true,
        "tags": [],
        "id": "28b62020"
      },
      "outputs": [],
      "source": [
        "## Conduct descriptive analysis\n",
        "# descriptive analysis on 'ride_length'\n",
        "# mean = straight average (total ride length / total rides)\n",
        "# median = midpoint number of ride length array\n",
        "# max = longest ride\n",
        "# min = shortest ride\n",
        "\n",
        "tripdata_clean %>%\n",
        "  summarise(average_ride_length = mean(ride_length), median_length = median(ride_length),\n",
        "            max_ride_length = max(ride_length), min_ride_length = min(ride_length))"
      ]
    },
    {
      "cell_type": "markdown",
      "id": "14731d5d",
      "metadata": {
        "papermill": {
          "duration": 0.160623,
          "end_time": "2022-02-09T17:51:00.105471",
          "exception": false,
          "start_time": "2022-02-09T17:50:59.944848",
          "status": "completed"
        },
        "tags": [],
        "id": "14731d5d"
      },
      "source": [
        " * This above data is about 'ride_length' depending on the whole year 2021. Minimum ride length (min_ride_length) and Maximum ride length (max_ride_length) has absurd values, due to the lack of scope it not possible to find out the problem behind it, but it need to be analyzed further."
      ]
    },
    {
      "cell_type": "markdown",
      "id": "924088a9",
      "metadata": {
        "papermill": {
          "duration": 0.193771,
          "end_time": "2022-02-09T17:51:00.463779",
          "exception": false,
          "start_time": "2022-02-09T17:51:00.270008",
          "status": "completed"
        },
        "tags": [],
        "id": "924088a9"
      },
      "source": [
        "#### Compare members and casual users\n",
        "\n",
        " * Members vs casual riders difference depending on total rides taken"
      ]
    },
    {
      "cell_type": "code",
      "execution_count": null,
      "id": "5ecaffdb",
      "metadata": {
        "execution": {
          "iopub.execute_input": "2022-02-09T17:51:00.791134Z",
          "iopub.status.busy": "2022-02-09T17:51:00.789343Z",
          "iopub.status.idle": "2022-02-09T17:51:07.512950Z",
          "shell.execute_reply": "2022-02-09T17:51:07.512066Z"
        },
        "papermill": {
          "duration": 6.888071,
          "end_time": "2022-02-09T17:51:07.513154",
          "exception": false,
          "start_time": "2022-02-09T17:51:00.625083",
          "status": "completed"
        },
        "tags": [],
        "id": "5ecaffdb"
      },
      "outputs": [],
      "source": [
        "# members vs casual riders difference depending on total rides taken\n",
        "tripdata_clean %>%\n",
        "    group_by(member_casual) %>%\n",
        "    summarise(ride_count = length(ride_id), ride_percentage = (length(ride_id) / nrow(tripdata_clean)) * 100)\n",
        "\n",
        "ggplot(tripdata_clean, aes(x = member_casual, fill=member_casual)) +\n",
        "    geom_bar() +\n",
        "    labs(x=\"Casuals vs Members\", y=\"Number Of Rides\", title= \"Casuals vs Members distribution\")"
      ]
    },
    {
      "cell_type": "markdown",
      "id": "8949865c",
      "metadata": {
        "papermill": {
          "duration": 0.169897,
          "end_time": "2022-02-09T17:51:07.849165",
          "exception": false,
          "start_time": "2022-02-09T17:51:07.679268",
          "status": "completed"
        },
        "tags": [],
        "id": "8949865c"
      },
      "source": [
        "* We can see on the Casuals vs Members distribution chart, members possesing ~55%, and casual riders have ~45% of the dataset. So it is clearly visible that in the whole year 2021 members used ride share ~10% more than casual riders."
      ]
    },
    {
      "cell_type": "markdown",
      "id": "4e0a5f96",
      "metadata": {
        "papermill": {
          "duration": 0.163685,
          "end_time": "2022-02-09T17:51:08.177825",
          "exception": false,
          "start_time": "2022-02-09T17:51:08.014140",
          "status": "completed"
        },
        "tags": [],
        "id": "4e0a5f96"
      },
      "source": [
        "#### Comparison between Members Causal riders depending on ride length (mean, median, minimum, maximum)"
      ]
    },
    {
      "cell_type": "code",
      "execution_count": null,
      "id": "5a462eef",
      "metadata": {
        "execution": {
          "iopub.execute_input": "2022-02-09T17:51:08.505995Z",
          "iopub.status.busy": "2022-02-09T17:51:08.504258Z",
          "iopub.status.idle": "2022-02-09T17:51:09.273284Z",
          "shell.execute_reply": "2022-02-09T17:51:09.272025Z"
        },
        "papermill": {
          "duration": 0.934253,
          "end_time": "2022-02-09T17:51:09.273438",
          "exception": false,
          "start_time": "2022-02-09T17:51:08.339185",
          "status": "completed"
        },
        "tags": [],
        "id": "5a462eef"
      },
      "outputs": [],
      "source": [
        "tripdata_clean %>%\n",
        "  group_by(member_casual) %>%\n",
        "  summarise(average_ride_length = mean(ride_length), median_length = median(ride_length),\n",
        "            max_ride_length = max(ride_length), min_ride_length = min(ride_length))"
      ]
    },
    {
      "cell_type": "markdown",
      "id": "67ac4494",
      "metadata": {
        "papermill": {
          "duration": 0.164069,
          "end_time": "2022-02-09T17:51:09.600668",
          "exception": false,
          "start_time": "2022-02-09T17:51:09.436599",
          "status": "completed"
        },
        "tags": [],
        "id": "67ac4494"
      },
      "source": [
        "* From the above table we can conclude that casual riders took bike for longer rides than members, as the average trip duration / average ride length of member riders is lower than the average trip duration / average ride length of casual riders."
      ]
    },
    {
      "cell_type": "markdown",
      "id": "5344f915",
      "metadata": {
        "papermill": {
          "duration": 0.16897,
          "end_time": "2022-02-09T17:51:09.934402",
          "exception": false,
          "start_time": "2022-02-09T17:51:09.765432",
          "status": "completed"
        },
        "tags": [],
        "id": "5344f915"
      },
      "source": [
        "\n",
        "#### See total rides and average ride time by each day for members vs casual riders"
      ]
    },
    {
      "cell_type": "code",
      "execution_count": null,
      "id": "5ff463d4",
      "metadata": {
        "execution": {
          "iopub.execute_input": "2022-02-09T17:51:10.279146Z",
          "iopub.status.busy": "2022-02-09T17:51:10.277354Z",
          "iopub.status.idle": "2022-02-09T17:51:10.598322Z",
          "shell.execute_reply": "2022-02-09T17:51:10.596995Z"
        },
        "papermill": {
          "duration": 0.495698,
          "end_time": "2022-02-09T17:51:10.598502",
          "exception": false,
          "start_time": "2022-02-09T17:51:10.102804",
          "status": "completed"
        },
        "tags": [],
        "id": "5ff463d4"
      },
      "outputs": [],
      "source": [
        "\n",
        "# lets fix the days of the week order.\n",
        "tripdata_clean$day_of_week <- ordered(tripdata_clean$day_of_week,\n",
        "                                    levels=c(\"Sunday\", \"Monday\", \"Tuesday\", \"Wednesday\", \"Thursday\", \"Friday\", \"Saturday\"))\n",
        "\n",
        "tripdata_clean %>%\n",
        "  group_by(member_casual, day_of_week) %>%  #groups by member_casual\n",
        "  summarise(number_of_rides = n() #calculates the number of rides and average duration\n",
        "  ,average_ride_length = mean(ride_length),.groups=\"drop\") %>% # calculates the average duration\n",
        "  arrange(member_casual, day_of_week) #sort\n"
      ]
    },
    {
      "cell_type": "markdown",
      "id": "df4e1ef8",
      "metadata": {
        "papermill": {
          "duration": 0.17115,
          "end_time": "2022-02-09T17:51:10.935047",
          "exception": false,
          "start_time": "2022-02-09T17:51:10.763897",
          "status": "completed"
        },
        "tags": [],
        "id": "df4e1ef8"
      },
      "source": [
        "#### Visualize total rides data by type and day of week"
      ]
    },
    {
      "cell_type": "code",
      "execution_count": null,
      "id": "007bc80e",
      "metadata": {
        "execution": {
          "iopub.execute_input": "2022-02-09T17:51:11.275162Z",
          "iopub.status.busy": "2022-02-09T17:51:11.272184Z",
          "iopub.status.idle": "2022-02-09T17:51:11.780324Z",
          "shell.execute_reply": "2022-02-09T17:51:11.779723Z"
        },
        "papermill": {
          "duration": 0.679244,
          "end_time": "2022-02-09T17:51:11.780462",
          "exception": false,
          "start_time": "2022-02-09T17:51:11.101218",
          "status": "completed"
        },
        "tags": [],
        "id": "007bc80e"
      },
      "outputs": [],
      "source": [
        "tripdata_clean %>%\n",
        "  group_by(member_casual, day_of_week) %>%\n",
        "  summarise(number_of_rides = n(), .groups=\"drop\") %>%\n",
        "  arrange(member_casual, day_of_week)  %>%\n",
        "  ggplot(aes(x = day_of_week, y = number_of_rides, fill = member_casual)) +\n",
        "  labs(title =\"Total rides by Members and Casual riders Vs. Day of the week\") +\n",
        "  geom_col(width=0.5, position = position_dodge(width=0.5)) +\n",
        "  scale_y_continuous(labels = function(x) format(x, scientific = FALSE))\n"
      ]
    },
    {
      "cell_type": "markdown",
      "id": "98acdcbb",
      "metadata": {
        "papermill": {
          "duration": 0.177365,
          "end_time": "2022-02-09T17:51:12.130613",
          "exception": false,
          "start_time": "2022-02-09T17:51:11.953248",
          "status": "completed"
        },
        "tags": [],
        "id": "98acdcbb"
      },
      "source": [
        "#### Visualize average ride time data by type and day of week"
      ]
    },
    {
      "cell_type": "code",
      "execution_count": null,
      "id": "fe9ecf8d",
      "metadata": {
        "execution": {
          "iopub.execute_input": "2022-02-09T17:51:12.483946Z",
          "iopub.status.busy": "2022-02-09T17:51:12.482242Z",
          "iopub.status.idle": "2022-02-09T17:51:13.001358Z",
          "shell.execute_reply": "2022-02-09T17:51:13.001908Z"
        },
        "papermill": {
          "duration": 0.695098,
          "end_time": "2022-02-09T17:51:13.002098",
          "exception": false,
          "start_time": "2022-02-09T17:51:12.307000",
          "status": "completed"
        },
        "tags": [],
        "id": "fe9ecf8d"
      },
      "outputs": [],
      "source": [
        "tripdata_clean %>%\n",
        "  group_by(member_casual, day_of_week) %>%\n",
        "  summarise(average_ride_length = mean(ride_length), .groups=\"drop\") %>%\n",
        "  ggplot(aes(x = day_of_week, y = average_ride_length, fill = member_casual)) +\n",
        "  geom_col(width=0.5, position = position_dodge(width=0.5)) +\n",
        "  labs(title =\"Average ride time by Members and Casual riders Vs. Day of the week\")"
      ]
    },
    {
      "cell_type": "markdown",
      "id": "67e0f5d9",
      "metadata": {
        "papermill": {
          "duration": 0.17181,
          "end_time": "2022-02-09T17:51:13.346172",
          "exception": false,
          "start_time": "2022-02-09T17:51:13.174362",
          "status": "completed"
        },
        "tags": [],
        "id": "67e0f5d9"
      },
      "source": [
        "\n",
        " * From the first chart above members took consistent trips throughout the week, but there is less rides in Sunday. For casual riders the most taken rides are in weekends, starting rise in Friday followed by Saturday and Sunday.\n",
        "\n",
        " * The average ride length for members are much much less than that of casual riders. Also it can be seen that weekend average ride length is much higher for casual riders along with total rides. So both of this facts can be correlated for casual riders. For members average ride lengh is about the same throughout the week (<1000 sec)."
      ]
    },
    {
      "cell_type": "markdown",
      "id": "a7437e2a",
      "metadata": {
        "papermill": {
          "duration": 0.173317,
          "end_time": "2022-02-09T17:51:13.690007",
          "exception": false,
          "start_time": "2022-02-09T17:51:13.516690",
          "status": "completed"
        },
        "tags": [],
        "id": "a7437e2a"
      },
      "source": [
        "#### See total rides and average ride time by each month for members vs casual riders"
      ]
    },
    {
      "cell_type": "code",
      "execution_count": null,
      "id": "c7381425",
      "metadata": {
        "execution": {
          "iopub.execute_input": "2022-02-09T17:51:14.041187Z",
          "iopub.status.busy": "2022-02-09T17:51:14.039438Z",
          "iopub.status.idle": "2022-02-09T17:51:14.348915Z",
          "shell.execute_reply": "2022-02-09T17:51:14.347303Z"
        },
        "papermill": {
          "duration": 0.483036,
          "end_time": "2022-02-09T17:51:14.349080",
          "exception": false,
          "start_time": "2022-02-09T17:51:13.866044",
          "status": "completed"
        },
        "tags": [],
        "id": "c7381425"
      },
      "outputs": [],
      "source": [
        "# First lets fix the days of the week order.\n",
        "tripdata_clean$month <- ordered(tripdata_clean$month,\n",
        "                            levels=c(\"January\", \"February\", \"March\", \"April\", \"May\", \"June\", \"July\", \"August\", \"September\", \"October\", \"November\", \"December\"))\n",
        "\n",
        "tripdata_clean %>%\n",
        "  group_by(member_casual, month) %>%\n",
        "  summarise(number_of_rides = n(), average_ride_length = mean(ride_length), .groups=\"drop\") %>%\n",
        "  arrange(member_casual, month)"
      ]
    },
    {
      "cell_type": "markdown",
      "id": "251dbf17",
      "metadata": {
        "papermill": {
          "duration": 0.175904,
          "end_time": "2022-02-09T17:51:14.699058",
          "exception": false,
          "start_time": "2022-02-09T17:51:14.523154",
          "status": "completed"
        },
        "tags": [],
        "id": "251dbf17"
      },
      "source": [
        "#### Visualize total rides data by type and month"
      ]
    },
    {
      "cell_type": "code",
      "execution_count": null,
      "id": "4fdb85c0",
      "metadata": {
        "execution": {
          "iopub.execute_input": "2022-02-09T17:51:15.103417Z",
          "iopub.status.busy": "2022-02-09T17:51:15.101025Z",
          "iopub.status.idle": "2022-02-09T17:51:15.974356Z",
          "shell.execute_reply": "2022-02-09T17:51:15.973683Z"
        },
        "papermill": {
          "duration": 1.097417,
          "end_time": "2022-02-09T17:51:15.974496",
          "exception": false,
          "start_time": "2022-02-09T17:51:14.877079",
          "status": "completed"
        },
        "tags": [],
        "id": "4fdb85c0"
      },
      "outputs": [],
      "source": [
        "tripdata_clean %>%\n",
        "  group_by(member_casual, month) %>%\n",
        "  summarise(number_of_rides = n(),.groups=\"drop\") %>%\n",
        "  arrange(member_casual, month)  %>%\n",
        "  ggplot(aes(x = month, y = number_of_rides, fill = member_casual)) +\n",
        "  labs(title =\"Total rides by Members and Casual riders Vs. Month\", x = \"Month\", y= \"Number Of Rides\") +\n",
        "  theme(axis.text.x = element_text(angle = 45)) +\n",
        "  geom_col(width=0.5, position = position_dodge(width=0.5)) +\n",
        "  scale_y_continuous(labels = function(x) format(x, scientific = FALSE))"
      ]
    },
    {
      "cell_type": "markdown",
      "id": "e57f2603",
      "metadata": {
        "papermill": {
          "duration": 0.180205,
          "end_time": "2022-02-09T17:51:16.333405",
          "exception": false,
          "start_time": "2022-02-09T17:51:16.153200",
          "status": "completed"
        },
        "tags": [],
        "id": "e57f2603"
      },
      "source": [
        "#### Visualize average ride time data by type and month"
      ]
    },
    {
      "cell_type": "code",
      "execution_count": null,
      "id": "4c72ce88",
      "metadata": {
        "execution": {
          "iopub.execute_input": "2022-02-09T17:51:16.698220Z",
          "iopub.status.busy": "2022-02-09T17:51:16.696543Z",
          "iopub.status.idle": "2022-02-09T17:51:17.177285Z",
          "shell.execute_reply": "2022-02-09T17:51:17.176714Z"
        },
        "papermill": {
          "duration": 0.663905,
          "end_time": "2022-02-09T17:51:17.177421",
          "exception": false,
          "start_time": "2022-02-09T17:51:16.513516",
          "status": "completed"
        },
        "tags": [],
        "id": "4c72ce88"
      },
      "outputs": [],
      "source": [
        "tripdata_clean %>%\n",
        "  group_by(member_casual, month) %>%\n",
        "  summarise(average_ride_length = mean(ride_length),.groups=\"drop\") %>%\n",
        "  ggplot(aes(x = month, y = average_ride_length, fill = member_casual)) +\n",
        "  geom_col(width=0.5, position = position_dodge(width=0.5)) +\n",
        "  labs(title =\"Average ride length by Members and Casual riders Vs. Month\") +\n",
        "  theme(axis.text.x = element_text(angle = 30))"
      ]
    },
    {
      "cell_type": "markdown",
      "id": "878f4c58",
      "metadata": {
        "papermill": {
          "duration": 0.177192,
          "end_time": "2022-02-09T17:51:17.530872",
          "exception": false,
          "start_time": "2022-02-09T17:51:17.353680",
          "status": "completed"
        },
        "tags": [],
        "id": "878f4c58"
      },
      "source": [
        "* The months June, July, August and September are the most busy time of the year among both members and casual riders. It is possible due to winter there is a significant drop in total rides in the months of November, December, January and February for both type of customers. But we can see that member's total rides are higher than casual riders throughout the year except from June, July and August.\n",
        "\n",
        "* Average ride length of members is about the same <1000 secs throughout the year. While casual riders average ride length is between 1000 - 2000 secs throughout the year. But in the month of February average right length is higher but total rides are lowest as compared to other months."
      ]
    },
    {
      "cell_type": "markdown",
      "id": "6dc081cd",
      "metadata": {
        "papermill": {
          "duration": 0.180014,
          "end_time": "2022-02-09T17:51:17.891429",
          "exception": false,
          "start_time": "2022-02-09T17:51:17.711415",
          "status": "completed"
        },
        "tags": [],
        "id": "6dc081cd"
      },
      "source": [
        "#### Comparison between Members and Casual riders depending on ride distance"
      ]
    },
    {
      "cell_type": "code",
      "execution_count": null,
      "id": "0abb4646",
      "metadata": {
        "execution": {
          "iopub.execute_input": "2022-02-09T17:51:18.262861Z",
          "iopub.status.busy": "2022-02-09T17:51:18.261461Z",
          "iopub.status.idle": "2022-02-09T17:51:21.145192Z",
          "shell.execute_reply": "2022-02-09T17:51:21.144309Z"
        },
        "papermill": {
          "duration": 3.070267,
          "end_time": "2022-02-09T17:51:21.145332",
          "exception": false,
          "start_time": "2022-02-09T17:51:18.075065",
          "status": "completed"
        },
        "tags": [],
        "id": "0abb4646"
      },
      "outputs": [],
      "source": [
        "tripdata_clean %>%\n",
        "  group_by(member_casual) %>% drop_na() %>%\n",
        "  summarise(average_ride_distance = mean(ride_distance)) %>%\n",
        "  ggplot() +\n",
        "  geom_col(mapping= aes(x= member_casual,y= average_ride_distance,fill=member_casual), show.legend = FALSE)+\n",
        "  labs(title = \"Mean travel distance by Members and Casual riders\", x=\"Member and Casual riders\", y=\"Average distance In Km\")\n"
      ]
    },
    {
      "cell_type": "markdown",
      "id": "75258336",
      "metadata": {
        "papermill": {
          "duration": 0.180586,
          "end_time": "2022-02-09T17:51:21.509428",
          "exception": false,
          "start_time": "2022-02-09T17:51:21.328842",
          "status": "completed"
        },
        "tags": [],
        "id": "75258336"
      },
      "source": [
        "* From the above chart we can see that both riders travel about the same average distance. This similarity could be possible due to that member take (same ride time) rides throughout the week, but casual riders took rides mostly in weekends with higher ride time."
      ]
    },
    {
      "cell_type": "markdown",
      "id": "084ed565",
      "metadata": {
        "papermill": {
          "duration": 0.18331,
          "end_time": "2022-02-09T17:51:21.872929",
          "exception": false,
          "start_time": "2022-02-09T17:51:21.689619",
          "status": "completed"
        },
        "tags": [],
        "id": "084ed565"
      },
      "source": [
        "#### Analysis and visualization on cyclistic's bike demand by hour in a day"
      ]
    },
    {
      "cell_type": "code",
      "execution_count": null,
      "id": "0dddd567",
      "metadata": {
        "execution": {
          "iopub.execute_input": "2022-02-09T17:51:22.277967Z",
          "iopub.status.busy": "2022-02-09T17:51:22.276928Z",
          "iopub.status.idle": "2022-02-09T17:51:27.215523Z",
          "shell.execute_reply": "2022-02-09T17:51:27.214452Z"
        },
        "papermill": {
          "duration": 5.161771,
          "end_time": "2022-02-09T17:51:27.215730",
          "exception": false,
          "start_time": "2022-02-09T17:51:22.053959",
          "status": "completed"
        },
        "tags": [],
        "id": "0dddd567"
      },
      "outputs": [],
      "source": [
        "tripdata_clean %>%\n",
        "    ggplot(aes(start_time, fill= member_casual)) +\n",
        "    labs(x=\"Hour of the day\", title=\"Cyclistic's Bike demand by hour in a day\") +\n",
        "    geom_bar()"
      ]
    },
    {
      "cell_type": "markdown",
      "id": "1ca01f34",
      "metadata": {
        "papermill": {
          "duration": 0.19048,
          "end_time": "2022-02-09T17:51:27.593306",
          "exception": false,
          "start_time": "2022-02-09T17:51:27.402826",
          "status": "completed"
        },
        "tags": [],
        "id": "1ca01f34"
      },
      "source": [
        "* From the above chart we can see more members between 7am and 11am and more casual riders between 3pm and 12am. Also there is bigger volume rise in the afternoon for both type of riders. This information needs to be checked on day basis."
      ]
    },
    {
      "cell_type": "markdown",
      "id": "4c0b79c4",
      "metadata": {
        "papermill": {
          "duration": 0.190607,
          "end_time": "2022-02-09T17:51:27.972751",
          "exception": false,
          "start_time": "2022-02-09T17:51:27.782144",
          "status": "completed"
        },
        "tags": [],
        "id": "4c0b79c4"
      },
      "source": [
        "#### Analysis and visualization on cyclistic's bike demand per hour by day of the week"
      ]
    },
    {
      "cell_type": "code",
      "execution_count": null,
      "id": "ac15512e",
      "metadata": {
        "execution": {
          "iopub.execute_input": "2022-02-09T17:51:28.351452Z",
          "iopub.status.busy": "2022-02-09T17:51:28.349624Z",
          "iopub.status.idle": "2022-02-09T17:51:37.535765Z",
          "shell.execute_reply": "2022-02-09T17:51:37.536261Z"
        },
        "papermill": {
          "duration": 9.375184,
          "end_time": "2022-02-09T17:51:37.536423",
          "exception": false,
          "start_time": "2022-02-09T17:51:28.161239",
          "status": "completed"
        },
        "tags": [],
        "id": "ac15512e"
      },
      "outputs": [],
      "source": [
        "tripdata_clean %>%\n",
        "    ggplot(aes(start_time, fill=member_casual)) +\n",
        "    geom_bar() +\n",
        "    labs(x=\"Hour of the day\", title=\"Cyclistic's bike demand per hour by day of the week\") +\n",
        "    facet_wrap(~ day_of_week)"
      ]
    },
    {
      "cell_type": "markdown",
      "id": "2184e23b",
      "metadata": {
        "papermill": {
          "duration": 0.188432,
          "end_time": "2022-02-09T17:51:37.916714",
          "exception": false,
          "start_time": "2022-02-09T17:51:37.728282",
          "status": "completed"
        },
        "tags": [],
        "id": "2184e23b"
      },
      "source": [
        "* There is a lot of diferrence between the weekdays and weekends. There is a big increase of volume in the weekdays between 7am to 10am and another volume increase from 5pm to 7pm. We can hypothesize that members use the bikes as daily routine like going to work (same behaviour throughout the weekdays) and go back from work (5pm - 7pm). Weekends are completely different for members and casual riders, Friday, Saturday and Sunday there is huge peak in volume for casual riders, from this we can hypothesize that casual riders mostly use bike share for leisure activity in the weekends."
      ]
    },
    {
      "cell_type": "markdown",
      "id": "12b1d9b3",
      "metadata": {
        "papermill": {
          "duration": 0.18622,
          "end_time": "2022-02-09T17:51:38.289418",
          "exception": false,
          "start_time": "2022-02-09T17:51:38.103198",
          "status": "completed"
        },
        "tags": [],
        "id": "12b1d9b3"
      },
      "source": [
        "#### Analysis and visualization of Rideable type Vs. total rides by Members and casual riders"
      ]
    },
    {
      "cell_type": "code",
      "execution_count": null,
      "id": "d8c465cb",
      "metadata": {
        "execution": {
          "iopub.execute_input": "2022-02-09T17:51:38.664140Z",
          "iopub.status.busy": "2022-02-09T17:51:38.662743Z",
          "iopub.status.idle": "2022-02-09T17:51:42.848343Z",
          "shell.execute_reply": "2022-02-09T17:51:42.847598Z"
        },
        "papermill": {
          "duration": 4.376015,
          "end_time": "2022-02-09T17:51:42.848487",
          "exception": false,
          "start_time": "2022-02-09T17:51:38.472472",
          "status": "completed"
        },
        "tags": [],
        "id": "d8c465cb"
      },
      "outputs": [],
      "source": [
        "tripdata_clean %>%\n",
        "    group_by(rideable_type) %>%\n",
        "    summarise(count = length(ride_id))\n",
        "\n",
        "ggplot(tripdata_clean, aes(x=rideable_type, fill=member_casual)) +\n",
        "    labs(x=\"Rideable type\", title=\"Rideable type Vs. total rides by Members and casual riders\") +\n",
        "    geom_bar()"
      ]
    },
    {
      "cell_type": "markdown",
      "id": "3492ae16",
      "metadata": {
        "papermill": {
          "duration": 0.195605,
          "end_time": "2022-02-09T17:51:43.235328",
          "exception": false,
          "start_time": "2022-02-09T17:51:43.039723",
          "status": "completed"
        },
        "tags": [],
        "id": "3492ae16"
      },
      "source": [
        "* From the above viz we can see that members mostly use classic bikes, followed by electric bikes Docked bikes mostly used by casual riders. Electric bikes are more favored by members."
      ]
    },
    {
      "cell_type": "markdown",
      "id": "54238dfd",
      "metadata": {
        "papermill": {
          "duration": 0.192422,
          "end_time": "2022-02-09T17:51:43.625542",
          "exception": false,
          "start_time": "2022-02-09T17:51:43.433120",
          "status": "completed"
        },
        "tags": [],
        "id": "54238dfd"
      },
      "source": [
        "#### Now analyze and visualize the dataset on coordinate basis"
      ]
    },
    {
      "cell_type": "code",
      "execution_count": null,
      "id": "5c5e44dc",
      "metadata": {
        "execution": {
          "iopub.execute_input": "2022-02-09T17:51:44.020425Z",
          "iopub.status.busy": "2022-02-09T17:51:44.018900Z",
          "iopub.status.idle": "2022-02-09T17:52:27.240782Z",
          "shell.execute_reply": "2022-02-09T17:52:27.239627Z"
        },
        "papermill": {
          "duration": 43.421469,
          "end_time": "2022-02-09T17:52:27.240924",
          "exception": false,
          "start_time": "2022-02-09T17:51:43.819455",
          "status": "completed"
        },
        "tags": [],
        "id": "5c5e44dc"
      },
      "outputs": [],
      "source": [
        "#Lets check the coordinates data of the rides.\n",
        "#adding a new data frame only for the most popular routes >200 rides\n",
        "coordinates_df <- tripdata_clean %>%\n",
        "filter(start_lng != end_lng & start_lat != end_lat) %>%\n",
        "group_by(start_lng, start_lat, end_lng, end_lat, member_casual, rideable_type) %>%\n",
        "summarise(total_rides = n(),.groups=\"drop\") %>%\n",
        "filter(total_rides > 200)\n",
        "\n",
        "# now lets create two different data frames depending on rider type (member_casual)\n",
        "\n",
        "casual_riders <- coordinates_df %>% filter(member_casual == \"casual\")\n",
        "member_riders <- coordinates_df %>% filter(member_casual == \"member\")\n"
      ]
    },
    {
      "cell_type": "markdown",
      "id": "7d8f86e1",
      "metadata": {
        "papermill": {
          "duration": 0.191564,
          "end_time": "2022-02-09T17:52:27.623432",
          "exception": false,
          "start_time": "2022-02-09T17:52:27.431868",
          "status": "completed"
        },
        "tags": [],
        "id": "7d8f86e1"
      },
      "source": [
        "#### Lets setup ggmap and store map of Chicago (bbox, stamen map)"
      ]
    },
    {
      "cell_type": "code",
      "execution_count": null,
      "id": "56470c0e",
      "metadata": {
        "_kg_hide-output": true,
        "execution": {
          "iopub.execute_input": "2022-02-09T17:52:28.011818Z",
          "iopub.status.busy": "2022-02-09T17:52:28.010114Z",
          "iopub.status.idle": "2022-02-09T17:52:29.909678Z",
          "shell.execute_reply": "2022-02-09T17:52:29.908305Z"
        },
        "papermill": {
          "duration": 2.094391,
          "end_time": "2022-02-09T17:52:29.909845",
          "exception": false,
          "start_time": "2022-02-09T17:52:27.815454",
          "status": "completed"
        },
        "tags": [],
        "id": "56470c0e"
      },
      "outputs": [],
      "source": [
        "chicago <- c(left = -87.700424, bottom = 41.790769, right = -87.554855, top = 41.990119)\n",
        "\n",
        "chicago_map <- get_stamenmap(bbox = chicago, zoom = 12, maptype = \"terrain\")"
      ]
    },
    {
      "cell_type": "markdown",
      "id": "98e2cbd5",
      "metadata": {
        "papermill": {
          "duration": 0.205934,
          "end_time": "2022-02-09T17:52:30.324122",
          "exception": false,
          "start_time": "2022-02-09T17:52:30.118188",
          "status": "completed"
        },
        "tags": [],
        "id": "98e2cbd5"
      },
      "source": [
        "#### Visualization on the map"
      ]
    },
    {
      "cell_type": "code",
      "execution_count": null,
      "id": "bce34012",
      "metadata": {
        "execution": {
          "iopub.execute_input": "2022-02-09T17:52:30.720568Z",
          "iopub.status.busy": "2022-02-09T17:52:30.719177Z",
          "iopub.status.idle": "2022-02-09T17:52:32.021609Z",
          "shell.execute_reply": "2022-02-09T17:52:32.022078Z"
        },
        "papermill": {
          "duration": 1.50274,
          "end_time": "2022-02-09T17:52:32.022248",
          "exception": false,
          "start_time": "2022-02-09T17:52:30.519508",
          "status": "completed"
        },
        "tags": [],
        "id": "bce34012"
      },
      "outputs": [],
      "source": [
        "# maps on casual riders\n",
        "ggmap(chicago_map,darken = c(0.1, \"white\")) +\n",
        "   geom_point(casual_riders, mapping = aes(x = start_lng, y = start_lat, color=rideable_type), size = 2) +\n",
        "   coord_fixed(0.8) +\n",
        "   labs(title = \"Most used routes by Casual riders\",x=NULL,y=NULL) +\n",
        "   theme(legend.position=\"none\")\n",
        "\n",
        "#map on member riders\n",
        "ggmap(chicago_map,darken = c(0.1, \"white\")) +\n",
        "    geom_point(member_riders, mapping = aes(x = start_lng, y = start_lat, color=rideable_type), size = 2) +\n",
        "    coord_fixed(0.8) +\n",
        "    labs(title = \"Most used routes by Member riders\",x=NULL,y=NULL) +\n",
        "    theme(legend.position=\"none\")\n"
      ]
    },
    {
      "cell_type": "markdown",
      "id": "57af31a5",
      "metadata": {
        "papermill": {
          "duration": 0.236195,
          "end_time": "2022-02-09T17:52:32.490143",
          "exception": false,
          "start_time": "2022-02-09T17:52:32.253948",
          "status": "completed"
        },
        "tags": [],
        "id": "57af31a5"
      },
      "source": [
        " * We can clearly see the casual rides are mostly located around the center of the town (or the bay area), with all their trips located around that area points towards their bike usage pattern, which is for leisure, probably tourist or sightseeing related rides.\n",
        "\n",
        " * Members are mostly use bike all over the city including main city area and outside main center. This can be hypothesize as they travel for work purpose."
      ]
    },
    {
      "cell_type": "markdown",
      "id": "40b0a9af",
      "metadata": {
        "papermill": {
          "duration": 0.231693,
          "end_time": "2022-02-09T17:52:32.951472",
          "exception": false,
          "start_time": "2022-02-09T17:52:32.719779",
          "status": "completed"
        },
        "tags": [],
        "id": "40b0a9af"
      },
      "source": [
        "## Share\n",
        "\n",
        "This phase will be done by presentation, but here on [Kaggle](www.kaggle.com) we can use Notebooks to share our analysis and visualizations.\n",
        "\n",
        "#### Key tasks\n",
        "\n",
        "-  Determine the best way to share your findings.\n",
        "-  Create effective data visualizations.\n",
        "-  Present your findings.\n",
        "-  Ensure your work is accessible.\n",
        "\n",
        "#### Deliverable\n",
        "\n",
        "-  Supporting visualizations and key findings\n",
        "\n",
        "#### Main insights and finding conclusions\n",
        "\n",
        "* Members holds the biggest proportion of the total rides, ~10% bigger than casuals riders.\n",
        "* In all months we have more members than casual riders.\n",
        "* For casual riders the biggest volume of data is on the the weekend.\n",
        "* There is a bigger volume of bikers in the afternoon.\n",
        "\n",
        "This could be possible that member use bikes for work purpose, this information can be backed by their bike usage in colder months, where there is significant drop in casual members in those months.\n",
        "\n",
        "#### **Now for how members differs from casuals:**\n",
        "\n",
        "* Members have the bigger volume of data, except on saturday and sunday. On the weekend, casuals riders have the most data points.\n",
        "* Casuals riders have more ride length (ride duration) than members. Average ride time of member are mostly same slight increase in end of week.\n",
        "* We have more members during the morning, mainly between 7am and 10am. And more casuals between 3pm and 12am.\n",
        "* Members have a bigger preference for classic bikes, followed by electric bike.\n",
        "* Members have a more fixed use for bikes for routine activities. Where as casual rider's usage is different, mostly all activiy in the weekend.\n",
        "* Casual member spend time near the center of the city or the bay area, where as member are scattered throughout the city."
      ]
    },
    {
      "cell_type": "markdown",
      "id": "521937b2",
      "metadata": {
        "papermill": {
          "duration": 0.228979,
          "end_time": "2022-02-09T17:52:33.411860",
          "exception": false,
          "start_time": "2022-02-09T17:52:33.182881",
          "status": "completed"
        },
        "tags": [],
        "id": "521937b2"
      },
      "source": [
        "## Act\n",
        "\n",
        "Act phase will be done by the Cyclistic's executive team, Director of Marketing (Lily Moreno), Marketing Analytics team on the basis of my analysis. (Data-driven decision making)\n",
        "\n",
        "#### Deliverable\n",
        "\n",
        "-  Your top three recommendations based on your analysis\n",
        "\n",
        "    * Offer a weekend-only membership at a different price point than the full annual membership.\n",
        "\n",
        "    * Coupons and discounts could be handed out along with the annual subscription / weekend-only membership for the usage of electric bikes targeting casual riders. Also increasing the number of electric bike while reducing classic bikes if electric bike costs more for the pass, this can be beneficial for the company. (As electric bike are already in trend and usage is good as per member and ride type data.\n",
        "\n",
        "    * Create marketing campaigns which can be sent via email, or advertisement in the docking stations explaining why annual member is beneficial. Campaigns should be placed at the peak months of the year.\n",
        "\n",
        "***Note : All ride ids are unique so we cannot conclude if the same rider taken several rides. More rider data needed for further analysis***\n",
        "\n",
        "Additonal data that could expand scope of analysis\n",
        "\n",
        "* Pricing details for members and casual riders - Based on this data, we might be to optimize cost structure for casual riders or provide discounts without affecting the profit margin.\n",
        "* Address/ neighborhood details of members to investigate if there are any location specific parameters that encourage membership.\n",
        "* Way to determine a recurring bike user using payment information or any personal identification."
      ]
    },
    {
      "cell_type": "markdown",
      "id": "6208b0f4",
      "metadata": {
        "papermill": {
          "duration": 0.237843,
          "end_time": "2022-02-09T17:52:33.879983",
          "exception": false,
          "start_time": "2022-02-09T17:52:33.642140",
          "status": "completed"
        },
        "tags": [],
        "id": "6208b0f4"
      },
      "source": [
        "\n",
        "#### Resources\n",
        "\n",
        "* [RDocumentation](https://www.rdocumentation.org/).\n",
        "* [RStudio](https://community.rstudio.com/) and [Kaggle](https://www.kaggle.com/discussion) community.\n",
        "\n"
      ]
    }
  ],
  "metadata": {
    "kernelspec": {
      "display_name": "R",
      "language": "R",
      "name": "ir"
    },
    "language_info": {
      "codemirror_mode": "r",
      "file_extension": ".r",
      "mimetype": "text/x-r-source",
      "name": "R",
      "pygments_lexer": "r",
      "version": "4.0.5"
    },
    "papermill": {
      "default_parameters": {},
      "duration": 172.40467,
      "end_time": "2022-02-09T17:52:34.901923",
      "environment_variables": {},
      "exception": null,
      "input_path": "__notebook__.ipynb",
      "output_path": "__notebook__.ipynb",
      "parameters": {},
      "start_time": "2022-02-09T17:49:42.497253",
      "version": "2.3.3"
    },
    "colab": {
      "provenance": [],
      "include_colab_link": true
    }
  },
  "nbformat": 4,
  "nbformat_minor": 5
}