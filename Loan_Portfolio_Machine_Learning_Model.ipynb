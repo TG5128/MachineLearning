{
  "cells": [
    {
      "cell_type": "markdown",
      "metadata": {
        "id": "view-in-github",
        "colab_type": "text"
      },
      "source": [
        "<a href=\"https://colab.research.google.com/github/TG5128/MachineLearning/blob/main/Loan_Portfolio_Machine_Learning_Model.ipynb\" target=\"_parent\"><img src=\"https://colab.research.google.com/assets/colab-badge.svg\" alt=\"Open In Colab\"/></a>"
      ]
    },
    {
      "cell_type": "markdown",
      "metadata": {
        "id": "DHfDiKk9bBqB"
      },
      "source": [
        "# Loan Investment Portfolio Project (Machine Learning Model - Random Forest Classifier & Logistic Regression)\n",
        "\n",
        "## Overview\n",
        "\n",
        "In this project, I will build a machine learning model to predict which loans will be repaid out of the given dataset and based on that a loan investment portfolio will be created for investors.\n"
      ]
    },
    {
      "cell_type": "markdown",
      "metadata": {
        "id": "ZGRH-J93bBqD"
      },
      "source": [
        "## Table of Contents\n",
        "\n",
        "\n",
        "[**Part 1:Data Understanding**](#-1:-Business-Understanding-and-Data-Understanding)\n",
        "\n",
        "- [**Data Understanding**](#Data-Understanding)\n",
        "\n",
        "   - [**1.1: Loading the Data Dictionary and the Data File**](#Task-1.1:-Load-the-Data-Dictionary-and-the-Data-File)\n",
        "   - [**1.2: Checking Basic DataFrame Information**](#Task-1.2:-Check-Basic-DataFrame-Information)\n",
        "   - [**1.3: Statistics of Numeric Columns**](#Task-1.3:-Statistics-of-Numeric-Columns)\n",
        "- [**Exploratory Data Analysis-EDA**](#Exploratory-Data-Analysis---EDA)\n",
        "   - [**Loan Term and Interest Rate**](#Loan-Term-and-Interest-Rate)\n",
        "   - [**1.4: Loan Grade**](#Task-1.4:-Loan-Grade)\n",
        "   - [**1.5: Loan Grade and Interest Rate**](#Task-1.5:-Loan-Grade-and-Interest-Rate)\n",
        "   - [**1.5: Distribution of Interest Rate**](#Task-5:-Distribution-of-Interest-Rate)\n",
        "   - [**1.6: Loan by State**](#Task-1.6:-Loan-by-State)\n",
        "   - [**1.7: Borrowers Annual Income Distribution**](#Task-1.7:-Borrowers-Annual-Income-Distribution)\n",
        "   - [**1.8: Borrower Annual Income by State**](#Task-1.8:-Borrower-Annual-Income-by-State)\n",
        "   - [**1.9: Annual Income and Interest Rate**](#Task-1.9:-Annual-Income-and-Interest-Rate)\n",
        "   - [**1.10: Converting Date Column**](#Task-1.10:-Convert-Date-Column)\n",
        "   - [**1.11: Loan Issued Over Year**](#Task-1.11:-Loan-Issued-Over-Year)\n",
        "   - [**1.12: Interest Rate Change**](#Task-1.12:-Interest-Rate-Change)\n",
        "   - [**1.13: Loan Status**](#Task-1.13:-Loan-Status)\n",
        "   - [**1.14: Loan Term and Loan Status**](#Task-1.14:-Loan-Term-and-Loan-Status)\n",
        "   - [**1.15: Loan Grade and Loan Status**](#Task-1.15:-Loan-Grade-and-Loan-Status)\n",
        "   \n",
        "[**Part 2: Data Preparation, Modeling and Model Evaluation**](#-2:-Data-Preparation,-Modeling-and-Model-Evaluation)\n",
        "- [**Data Preparation**](#Data-Preparation)\n",
        "   - [**Loan Status**](#Loan-Status)\n",
        "   - [**Paid Off Rate**](#Paid-Off-Rate)\n",
        "   - [**2.1: Loan Term in Year**](#Task-2.1:-Loan-Term-in-Year)\n",
        "   - [**2.2: Encode Categorical Features**](#Task-2.2:-Encode-Categorical-Features)\n",
        "   - [**2.3: Manage Missing Values**](#Task-2.3:-Manage-Missing-Values)\n",
        "- [**Modeling and Model Evaluation**](#Modeling-and-Model-Evaluation)\n",
        "   - [**Keep Columns**](#Keep-Columns)\n",
        "   - [**Split DataFrame to Train and Test**](#Split-DataFrame-to-Train-and-Test)\n",
        "   - [**Random Forest Classifier**](#Random-Forest-Classifier)\n",
        "   - [**2.4: Logistic Regression with Default Class Weight**](#Task-2.4:-Logistic-Regression-with-Default-Class-Weight)\n",
        "   - [**2.5: Logistic Regression with Balanced Class Weight**](#Task-2.5:-Logistic-Regression-with-Balanced-Class-Weight)\n",
        "   \n",
        "[**Part 3: Construct Loan Portfolio**](#-3:-Construct-Loan-Portfolio)\n",
        "   - [**3.1 Portfolio Annual Return**](#Portfolio-Annual-Return)\n",
        "   - [**3.2 Construct Loan Portfolio with RandomForestClassifier**](#Construct-Loan-Portfolio-with-RandomForestClassifier)\n",
        "   - [**3.3 Impact of Loan Term**](#Impact-of-Loan-Term)\n",
        "   - [**3.4 Improvements with Filters**](#Improvements-with-Filters)"
      ]
    },
    {
      "cell_type": "markdown",
      "metadata": {
        "id": "g92YSkIlbBqF"
      },
      "source": [
        "\n",
        "## Business Understanding\n",
        "This initial phase focuses on understanding the project objectives and requirements from a business perspective, start with understanding of how Lending Club works.\n",
        "\n",
        "### Lending Club\n",
        "\n",
        "LendingClub is an American peer-to-peer lending company, headquartered in San Francisco, California. It is the world's largest peer-to-peer lending platform.\n",
        "\n",
        "LendingClub enables borrowers to create unsecured personal loans between \\\\$1,000 and \\\\$40,000. Investors can search and browse the loan listings on LendingClub website and select loans that they want to invest in based on the information supplied about the borrower, amount of loan, loan grade, and loan purpose, with the minimum investment of $25 per note. Investors make money from interest. LendingClub makes money by charging borrowers an origination fee and investors a service fee.\n"
      ]
    },
    {
      "cell_type": "markdown",
      "metadata": {
        "id": "7yRXvG5DbBqF"
      },
      "source": [
        "## Data Understanding\n",
        "The data understanding phase starts with an initial data collection and proceeds with activities in order to get familiar with the data, to identify data quality problems and to discover first insights into the data\n"
      ]
    },
    {
      "cell_type": "markdown",
      "metadata": {
        "id": "9L3ZqcYYbBqF"
      },
      "source": [
        "### Data File\n",
        "\n",
        "The data file **lending_club_2007_2011_6_states.csv** contains the loan and borrower information for loans initiated from 2007 to 2011 in six states, California, New York, Florida, Texas, New Jersey and Illinois.\n",
        "\n",
        "The data dictionary file **data_dictionary.csv** contains descriptions of all the columns in the data file."
      ]
    },
    {
      "cell_type": "code",
      "execution_count": 7,
      "metadata": {
        "id": "Sc_N8rVobBqF"
      },
      "outputs": [],
      "source": [
        "%matplotlib inline\n",
        "\n",
        "import numpy as np\n",
        "import pandas as pd\n",
        "import seaborn as sns\n",
        "import matplotlib.pyplot as plt\n",
        "\n",
        "#display all dataframe columns in df.head()\n",
        "pd.options.display.max_columns = None\n",
        "#display long string in datafame\n",
        "pd.options.display.max_colwidth = 300\n",
        "\n",
        "#filter out warning messages\n",
        "import warnings\n",
        "warnings.filterwarnings('ignore')\n"
      ]
    },
    {
      "cell_type": "code",
      "source": [
        "from google.colab import files\n",
        "uploaded = files.upload()\n"
      ],
      "metadata": {
        "colab": {
          "base_uri": "https://localhost:8080/",
          "height": 73
        },
        "id": "eGnFOkX7bMxV",
        "outputId": "34d64787-c450-4a09-a870-01a493e6f0d2"
      },
      "execution_count": 8,
      "outputs": [
        {
          "output_type": "display_data",
          "data": {
            "text/plain": [
              "<IPython.core.display.HTML object>"
            ],
            "text/html": [
              "\n",
              "     <input type=\"file\" id=\"files-cac95209-75ca-42ea-83fa-7b29f7c9eae8\" name=\"files[]\" multiple disabled\n",
              "        style=\"border:none\" />\n",
              "     <output id=\"result-cac95209-75ca-42ea-83fa-7b29f7c9eae8\">\n",
              "      Upload widget is only available when the cell has been executed in the\n",
              "      current browser session. Please rerun this cell to enable.\n",
              "      </output>\n",
              "      <script>// Copyright 2017 Google LLC\n",
              "//\n",
              "// Licensed under the Apache License, Version 2.0 (the \"License\");\n",
              "// you may not use this file except in compliance with the License.\n",
              "// You may obtain a copy of the License at\n",
              "//\n",
              "//      http://www.apache.org/licenses/LICENSE-2.0\n",
              "//\n",
              "// Unless required by applicable law or agreed to in writing, software\n",
              "// distributed under the License is distributed on an \"AS IS\" BASIS,\n",
              "// WITHOUT WARRANTIES OR CONDITIONS OF ANY KIND, either express or implied.\n",
              "// See the License for the specific language governing permissions and\n",
              "// limitations under the License.\n",
              "\n",
              "/**\n",
              " * @fileoverview Helpers for google.colab Python module.\n",
              " */\n",
              "(function(scope) {\n",
              "function span(text, styleAttributes = {}) {\n",
              "  const element = document.createElement('span');\n",
              "  element.textContent = text;\n",
              "  for (const key of Object.keys(styleAttributes)) {\n",
              "    element.style[key] = styleAttributes[key];\n",
              "  }\n",
              "  return element;\n",
              "}\n",
              "\n",
              "// Max number of bytes which will be uploaded at a time.\n",
              "const MAX_PAYLOAD_SIZE = 100 * 1024;\n",
              "\n",
              "function _uploadFiles(inputId, outputId) {\n",
              "  const steps = uploadFilesStep(inputId, outputId);\n",
              "  const outputElement = document.getElementById(outputId);\n",
              "  // Cache steps on the outputElement to make it available for the next call\n",
              "  // to uploadFilesContinue from Python.\n",
              "  outputElement.steps = steps;\n",
              "\n",
              "  return _uploadFilesContinue(outputId);\n",
              "}\n",
              "\n",
              "// This is roughly an async generator (not supported in the browser yet),\n",
              "// where there are multiple asynchronous steps and the Python side is going\n",
              "// to poll for completion of each step.\n",
              "// This uses a Promise to block the python side on completion of each step,\n",
              "// then passes the result of the previous step as the input to the next step.\n",
              "function _uploadFilesContinue(outputId) {\n",
              "  const outputElement = document.getElementById(outputId);\n",
              "  const steps = outputElement.steps;\n",
              "\n",
              "  const next = steps.next(outputElement.lastPromiseValue);\n",
              "  return Promise.resolve(next.value.promise).then((value) => {\n",
              "    // Cache the last promise value to make it available to the next\n",
              "    // step of the generator.\n",
              "    outputElement.lastPromiseValue = value;\n",
              "    return next.value.response;\n",
              "  });\n",
              "}\n",
              "\n",
              "/**\n",
              " * Generator function which is called between each async step of the upload\n",
              " * process.\n",
              " * @param {string} inputId Element ID of the input file picker element.\n",
              " * @param {string} outputId Element ID of the output display.\n",
              " * @return {!Iterable<!Object>} Iterable of next steps.\n",
              " */\n",
              "function* uploadFilesStep(inputId, outputId) {\n",
              "  const inputElement = document.getElementById(inputId);\n",
              "  inputElement.disabled = false;\n",
              "\n",
              "  const outputElement = document.getElementById(outputId);\n",
              "  outputElement.innerHTML = '';\n",
              "\n",
              "  const pickedPromise = new Promise((resolve) => {\n",
              "    inputElement.addEventListener('change', (e) => {\n",
              "      resolve(e.target.files);\n",
              "    });\n",
              "  });\n",
              "\n",
              "  const cancel = document.createElement('button');\n",
              "  inputElement.parentElement.appendChild(cancel);\n",
              "  cancel.textContent = 'Cancel upload';\n",
              "  const cancelPromise = new Promise((resolve) => {\n",
              "    cancel.onclick = () => {\n",
              "      resolve(null);\n",
              "    };\n",
              "  });\n",
              "\n",
              "  // Wait for the user to pick the files.\n",
              "  const files = yield {\n",
              "    promise: Promise.race([pickedPromise, cancelPromise]),\n",
              "    response: {\n",
              "      action: 'starting',\n",
              "    }\n",
              "  };\n",
              "\n",
              "  cancel.remove();\n",
              "\n",
              "  // Disable the input element since further picks are not allowed.\n",
              "  inputElement.disabled = true;\n",
              "\n",
              "  if (!files) {\n",
              "    return {\n",
              "      response: {\n",
              "        action: 'complete',\n",
              "      }\n",
              "    };\n",
              "  }\n",
              "\n",
              "  for (const file of files) {\n",
              "    const li = document.createElement('li');\n",
              "    li.append(span(file.name, {fontWeight: 'bold'}));\n",
              "    li.append(span(\n",
              "        `(${file.type || 'n/a'}) - ${file.size} bytes, ` +\n",
              "        `last modified: ${\n",
              "            file.lastModifiedDate ? file.lastModifiedDate.toLocaleDateString() :\n",
              "                                    'n/a'} - `));\n",
              "    const percent = span('0% done');\n",
              "    li.appendChild(percent);\n",
              "\n",
              "    outputElement.appendChild(li);\n",
              "\n",
              "    const fileDataPromise = new Promise((resolve) => {\n",
              "      const reader = new FileReader();\n",
              "      reader.onload = (e) => {\n",
              "        resolve(e.target.result);\n",
              "      };\n",
              "      reader.readAsArrayBuffer(file);\n",
              "    });\n",
              "    // Wait for the data to be ready.\n",
              "    let fileData = yield {\n",
              "      promise: fileDataPromise,\n",
              "      response: {\n",
              "        action: 'continue',\n",
              "      }\n",
              "    };\n",
              "\n",
              "    // Use a chunked sending to avoid message size limits. See b/62115660.\n",
              "    let position = 0;\n",
              "    do {\n",
              "      const length = Math.min(fileData.byteLength - position, MAX_PAYLOAD_SIZE);\n",
              "      const chunk = new Uint8Array(fileData, position, length);\n",
              "      position += length;\n",
              "\n",
              "      const base64 = btoa(String.fromCharCode.apply(null, chunk));\n",
              "      yield {\n",
              "        response: {\n",
              "          action: 'append',\n",
              "          file: file.name,\n",
              "          data: base64,\n",
              "        },\n",
              "      };\n",
              "\n",
              "      let percentDone = fileData.byteLength === 0 ?\n",
              "          100 :\n",
              "          Math.round((position / fileData.byteLength) * 100);\n",
              "      percent.textContent = `${percentDone}% done`;\n",
              "\n",
              "    } while (position < fileData.byteLength);\n",
              "  }\n",
              "\n",
              "  // All done.\n",
              "  yield {\n",
              "    response: {\n",
              "      action: 'complete',\n",
              "    }\n",
              "  };\n",
              "}\n",
              "\n",
              "scope.google = scope.google || {};\n",
              "scope.google.colab = scope.google.colab || {};\n",
              "scope.google.colab._files = {\n",
              "  _uploadFiles,\n",
              "  _uploadFilesContinue,\n",
              "};\n",
              "})(self);\n",
              "</script> "
            ]
          },
          "metadata": {}
        },
        {
          "output_type": "stream",
          "name": "stdout",
          "text": [
            "Saving data_dictionary.csv to data_dictionary.csv\n"
          ]
        }
      ]
    },
    {
      "cell_type": "code",
      "source": [
        "uploaded = files.upload()\n"
      ],
      "metadata": {
        "colab": {
          "base_uri": "https://localhost:8080/",
          "height": 73
        },
        "id": "1c_aGUecbRTC",
        "outputId": "370ff75e-5207-4d7f-f13f-70f32727159c"
      },
      "execution_count": 9,
      "outputs": [
        {
          "output_type": "display_data",
          "data": {
            "text/plain": [
              "<IPython.core.display.HTML object>"
            ],
            "text/html": [
              "\n",
              "     <input type=\"file\" id=\"files-e1112490-af8f-4fa1-b4de-dd1d673a939c\" name=\"files[]\" multiple disabled\n",
              "        style=\"border:none\" />\n",
              "     <output id=\"result-e1112490-af8f-4fa1-b4de-dd1d673a939c\">\n",
              "      Upload widget is only available when the cell has been executed in the\n",
              "      current browser session. Please rerun this cell to enable.\n",
              "      </output>\n",
              "      <script>// Copyright 2017 Google LLC\n",
              "//\n",
              "// Licensed under the Apache License, Version 2.0 (the \"License\");\n",
              "// you may not use this file except in compliance with the License.\n",
              "// You may obtain a copy of the License at\n",
              "//\n",
              "//      http://www.apache.org/licenses/LICENSE-2.0\n",
              "//\n",
              "// Unless required by applicable law or agreed to in writing, software\n",
              "// distributed under the License is distributed on an \"AS IS\" BASIS,\n",
              "// WITHOUT WARRANTIES OR CONDITIONS OF ANY KIND, either express or implied.\n",
              "// See the License for the specific language governing permissions and\n",
              "// limitations under the License.\n",
              "\n",
              "/**\n",
              " * @fileoverview Helpers for google.colab Python module.\n",
              " */\n",
              "(function(scope) {\n",
              "function span(text, styleAttributes = {}) {\n",
              "  const element = document.createElement('span');\n",
              "  element.textContent = text;\n",
              "  for (const key of Object.keys(styleAttributes)) {\n",
              "    element.style[key] = styleAttributes[key];\n",
              "  }\n",
              "  return element;\n",
              "}\n",
              "\n",
              "// Max number of bytes which will be uploaded at a time.\n",
              "const MAX_PAYLOAD_SIZE = 100 * 1024;\n",
              "\n",
              "function _uploadFiles(inputId, outputId) {\n",
              "  const steps = uploadFilesStep(inputId, outputId);\n",
              "  const outputElement = document.getElementById(outputId);\n",
              "  // Cache steps on the outputElement to make it available for the next call\n",
              "  // to uploadFilesContinue from Python.\n",
              "  outputElement.steps = steps;\n",
              "\n",
              "  return _uploadFilesContinue(outputId);\n",
              "}\n",
              "\n",
              "// This is roughly an async generator (not supported in the browser yet),\n",
              "// where there are multiple asynchronous steps and the Python side is going\n",
              "// to poll for completion of each step.\n",
              "// This uses a Promise to block the python side on completion of each step,\n",
              "// then passes the result of the previous step as the input to the next step.\n",
              "function _uploadFilesContinue(outputId) {\n",
              "  const outputElement = document.getElementById(outputId);\n",
              "  const steps = outputElement.steps;\n",
              "\n",
              "  const next = steps.next(outputElement.lastPromiseValue);\n",
              "  return Promise.resolve(next.value.promise).then((value) => {\n",
              "    // Cache the last promise value to make it available to the next\n",
              "    // step of the generator.\n",
              "    outputElement.lastPromiseValue = value;\n",
              "    return next.value.response;\n",
              "  });\n",
              "}\n",
              "\n",
              "/**\n",
              " * Generator function which is called between each async step of the upload\n",
              " * process.\n",
              " * @param {string} inputId Element ID of the input file picker element.\n",
              " * @param {string} outputId Element ID of the output display.\n",
              " * @return {!Iterable<!Object>} Iterable of next steps.\n",
              " */\n",
              "function* uploadFilesStep(inputId, outputId) {\n",
              "  const inputElement = document.getElementById(inputId);\n",
              "  inputElement.disabled = false;\n",
              "\n",
              "  const outputElement = document.getElementById(outputId);\n",
              "  outputElement.innerHTML = '';\n",
              "\n",
              "  const pickedPromise = new Promise((resolve) => {\n",
              "    inputElement.addEventListener('change', (e) => {\n",
              "      resolve(e.target.files);\n",
              "    });\n",
              "  });\n",
              "\n",
              "  const cancel = document.createElement('button');\n",
              "  inputElement.parentElement.appendChild(cancel);\n",
              "  cancel.textContent = 'Cancel upload';\n",
              "  const cancelPromise = new Promise((resolve) => {\n",
              "    cancel.onclick = () => {\n",
              "      resolve(null);\n",
              "    };\n",
              "  });\n",
              "\n",
              "  // Wait for the user to pick the files.\n",
              "  const files = yield {\n",
              "    promise: Promise.race([pickedPromise, cancelPromise]),\n",
              "    response: {\n",
              "      action: 'starting',\n",
              "    }\n",
              "  };\n",
              "\n",
              "  cancel.remove();\n",
              "\n",
              "  // Disable the input element since further picks are not allowed.\n",
              "  inputElement.disabled = true;\n",
              "\n",
              "  if (!files) {\n",
              "    return {\n",
              "      response: {\n",
              "        action: 'complete',\n",
              "      }\n",
              "    };\n",
              "  }\n",
              "\n",
              "  for (const file of files) {\n",
              "    const li = document.createElement('li');\n",
              "    li.append(span(file.name, {fontWeight: 'bold'}));\n",
              "    li.append(span(\n",
              "        `(${file.type || 'n/a'}) - ${file.size} bytes, ` +\n",
              "        `last modified: ${\n",
              "            file.lastModifiedDate ? file.lastModifiedDate.toLocaleDateString() :\n",
              "                                    'n/a'} - `));\n",
              "    const percent = span('0% done');\n",
              "    li.appendChild(percent);\n",
              "\n",
              "    outputElement.appendChild(li);\n",
              "\n",
              "    const fileDataPromise = new Promise((resolve) => {\n",
              "      const reader = new FileReader();\n",
              "      reader.onload = (e) => {\n",
              "        resolve(e.target.result);\n",
              "      };\n",
              "      reader.readAsArrayBuffer(file);\n",
              "    });\n",
              "    // Wait for the data to be ready.\n",
              "    let fileData = yield {\n",
              "      promise: fileDataPromise,\n",
              "      response: {\n",
              "        action: 'continue',\n",
              "      }\n",
              "    };\n",
              "\n",
              "    // Use a chunked sending to avoid message size limits. See b/62115660.\n",
              "    let position = 0;\n",
              "    do {\n",
              "      const length = Math.min(fileData.byteLength - position, MAX_PAYLOAD_SIZE);\n",
              "      const chunk = new Uint8Array(fileData, position, length);\n",
              "      position += length;\n",
              "\n",
              "      const base64 = btoa(String.fromCharCode.apply(null, chunk));\n",
              "      yield {\n",
              "        response: {\n",
              "          action: 'append',\n",
              "          file: file.name,\n",
              "          data: base64,\n",
              "        },\n",
              "      };\n",
              "\n",
              "      let percentDone = fileData.byteLength === 0 ?\n",
              "          100 :\n",
              "          Math.round((position / fileData.byteLength) * 100);\n",
              "      percent.textContent = `${percentDone}% done`;\n",
              "\n",
              "    } while (position < fileData.byteLength);\n",
              "  }\n",
              "\n",
              "  // All done.\n",
              "  yield {\n",
              "    response: {\n",
              "      action: 'complete',\n",
              "    }\n",
              "  };\n",
              "}\n",
              "\n",
              "scope.google = scope.google || {};\n",
              "scope.google.colab = scope.google.colab || {};\n",
              "scope.google.colab._files = {\n",
              "  _uploadFiles,\n",
              "  _uploadFilesContinue,\n",
              "};\n",
              "})(self);\n",
              "</script> "
            ]
          },
          "metadata": {}
        },
        {
          "output_type": "stream",
          "name": "stdout",
          "text": [
            "Saving lending_club_2007_2011_6_states.csv to lending_club_2007_2011_6_states.csv\n"
          ]
        }
      ]
    },
    {
      "cell_type": "markdown",
      "metadata": {
        "id": "82O6_wXMbBqG"
      },
      "source": [
        "\n",
        "### 1.1: Load the Data Dictionary and the Data File\n",
        "Loading the `data_dictionary.csv`,  `lending_club_2007_2011_6_states.csv`to Dataframes"
      ]
    },
    {
      "cell_type": "code",
      "execution_count": 10,
      "metadata": {
        "scrolled": false,
        "id": "A0XtJFSDbBqG"
      },
      "outputs": [],
      "source": [
        "dict=pd.read_csv('data_dictionary.csv')"
      ]
    },
    {
      "cell_type": "code",
      "execution_count": 11,
      "metadata": {
        "scrolled": true,
        "id": "U2ttA_sCbBqH"
      },
      "outputs": [],
      "source": [
        "loan_df = pd.read_csv('lending_club_2007_2011_6_states.csv')\n"
      ]
    },
    {
      "cell_type": "code",
      "source": [
        "loan_df.head()"
      ],
      "metadata": {
        "colab": {
          "base_uri": "https://localhost:8080/",
          "height": 409
        },
        "id": "3MMWjvh-bnKB",
        "outputId": "7f8940ae-32d3-4a42-adaf-361f7c37338b"
      },
      "execution_count": 12,
      "outputs": [
        {
          "output_type": "execute_result",
          "data": {
            "text/plain": [
              "   loan_amnt  funded_amnt  funded_amnt_inv       term  int_rate  installment  \\\n",
              "0       2400         2400           2400.0  36 months     15.96        84.33   \n",
              "1      10000        10000          10000.0  36 months     13.49       339.31   \n",
              "2       3000         3000           3000.0  36 months     18.64       109.43   \n",
              "3       5600         5600           5600.0  60 months     21.28       152.39   \n",
              "4       5375         5375           5350.0  60 months     12.69       121.45   \n",
              "\n",
              "  grade sub_grade            emp_title emp_length home_ownership  annual_inc  \\\n",
              "0     C        C5                  NaN  10+ years           RENT     12252.0   \n",
              "1     C        C1  AIR RESOURCES BOARD  10+ years           RENT     49200.0   \n",
              "2     E        E1      MKC Accounting     9 years           RENT     48000.0   \n",
              "3     F        F2                  NaN    4 years            OWN     40000.0   \n",
              "4     B        B5            Starbucks   < 1 year           RENT     15000.0   \n",
              "\n",
              "  verification_status   issue_d  loan_status pymnt_plan         purpose  \\\n",
              "0        Not Verified  Dec-2011   Fully Paid          n  small_business   \n",
              "1     Source Verified  Dec-2011   Fully Paid          n           other   \n",
              "2     Source Verified  Dec-2011   Fully Paid          n             car   \n",
              "3     Source Verified  Dec-2011  Charged Off          n  small_business   \n",
              "4            Verified  Dec-2011  Charged Off          n           other   \n",
              "\n",
              "                                  title zip_code addr_state    dti  \\\n",
              "0                  real estate business    606xx         IL   8.72   \n",
              "1                              personel    917xx         CA  20.00   \n",
              "2                       Car Downpayment    900xx         CA   5.35   \n",
              "3  Expand Business & Buy Debt Portfolio    958xx         CA   5.55   \n",
              "4           Building my credit history.    774xx         TX  18.08   \n",
              "\n",
              "   delinq_2yrs earliest_cr_line  inq_last_6mths  mths_since_last_delinq  \\\n",
              "0          0.0         Nov-2001             2.0                     NaN   \n",
              "1          0.0         Feb-1996             1.0                    35.0   \n",
              "2          0.0         Jan-2007             2.0                     NaN   \n",
              "3          0.0         Apr-2004             2.0                     NaN   \n",
              "4          0.0         Sep-2004             0.0                     NaN   \n",
              "\n",
              "   mths_since_last_record  open_acc  pub_rec  revol_bal  revol_util  \\\n",
              "0                     NaN       2.0      0.0       2956        98.5   \n",
              "1                     NaN      10.0      0.0       5598        21.0   \n",
              "2                     NaN       4.0      0.0       8221        87.5   \n",
              "3                     NaN      11.0      0.0       5210        32.6   \n",
              "4                     NaN       2.0      0.0       9279        36.5   \n",
              "\n",
              "   total_acc initial_list_status  out_prncp  out_prncp_inv   total_pymnt  \\\n",
              "0       10.0                   f        0.0            0.0   3005.666844   \n",
              "1       37.0                   f        0.0            0.0  12231.890000   \n",
              "2        4.0                   f        0.0            0.0   3939.135294   \n",
              "3       13.0                   f        0.0            0.0    647.500000   \n",
              "4        3.0                   f        0.0            0.0   1484.590000   \n",
              "\n",
              "   total_pymnt_inv  total_rec_prncp  total_rec_int  total_rec_late_fee  \\\n",
              "0          3005.67          2400.00         605.67                0.00   \n",
              "1         12231.89         10000.00        2214.92               16.97   \n",
              "2          3939.14          3000.00         939.14                0.00   \n",
              "3           647.50           162.02         294.94                0.00   \n",
              "4          1477.70           673.48         533.42                0.00   \n",
              "\n",
              "   recoveries  collection_recovery_fee last_pymnt_d  last_pymnt_amnt  \\\n",
              "0        0.00                     0.00     Jun-2014           649.91   \n",
              "1        0.00                     0.00     Jan-2015           357.48   \n",
              "2        0.00                     0.00     Jan-2015           111.34   \n",
              "3      190.54                     2.09     Apr-2012           152.39   \n",
              "4      277.69                     2.52     Nov-2012           121.45   \n",
              "\n",
              "   next_pymnt_d last_credit_pull_d  collections_12_mths_ex_med  \\\n",
              "0           NaN           Jun-2017                         0.0   \n",
              "1           NaN           Apr-2016                         0.0   \n",
              "2           NaN           Dec-2014                         0.0   \n",
              "3           NaN           Oct-2016                         0.0   \n",
              "4           NaN           Dec-2016                         0.0   \n",
              "\n",
              "   mths_since_last_major_derog  policy_code application_type  acc_now_delinq  \\\n",
              "0                          NaN            1       Individual             0.0   \n",
              "1                          NaN            1       Individual             0.0   \n",
              "2                          NaN            1       Individual             0.0   \n",
              "3                          NaN            1       Individual             0.0   \n",
              "4                          NaN            1       Individual             0.0   \n",
              "\n",
              "   chargeoff_within_12_mths  delinq_amnt  pub_rec_bankruptcies  tax_liens  \\\n",
              "0                       0.0          0.0                   0.0        0.0   \n",
              "1                       0.0          0.0                   0.0        0.0   \n",
              "2                       0.0          0.0                   0.0        0.0   \n",
              "3                       0.0          0.0                   0.0        0.0   \n",
              "4                       0.0          0.0                   0.0        0.0   \n",
              "\n",
              "  hardship_flag disbursement_method debt_settlement_flag  \\\n",
              "0             N                Cash                    N   \n",
              "1             N                Cash                    N   \n",
              "2             N                Cash                    N   \n",
              "3             N                Cash                    N   \n",
              "4             N                Cash                    N   \n",
              "\n",
              "  debt_settlement_flag_date  \n",
              "0                       NaN  \n",
              "1                       NaN  \n",
              "2                       NaN  \n",
              "3                       NaN  \n",
              "4                       NaN  "
            ],
            "text/html": [
              "\n",
              "  <div id=\"df-2bbae0d8-2614-43bc-bd61-1e51dc697aa1\">\n",
              "    <div class=\"colab-df-container\">\n",
              "      <div>\n",
              "<style scoped>\n",
              "    .dataframe tbody tr th:only-of-type {\n",
              "        vertical-align: middle;\n",
              "    }\n",
              "\n",
              "    .dataframe tbody tr th {\n",
              "        vertical-align: top;\n",
              "    }\n",
              "\n",
              "    .dataframe thead th {\n",
              "        text-align: right;\n",
              "    }\n",
              "</style>\n",
              "<table border=\"1\" class=\"dataframe\">\n",
              "  <thead>\n",
              "    <tr style=\"text-align: right;\">\n",
              "      <th></th>\n",
              "      <th>loan_amnt</th>\n",
              "      <th>funded_amnt</th>\n",
              "      <th>funded_amnt_inv</th>\n",
              "      <th>term</th>\n",
              "      <th>int_rate</th>\n",
              "      <th>installment</th>\n",
              "      <th>grade</th>\n",
              "      <th>sub_grade</th>\n",
              "      <th>emp_title</th>\n",
              "      <th>emp_length</th>\n",
              "      <th>home_ownership</th>\n",
              "      <th>annual_inc</th>\n",
              "      <th>verification_status</th>\n",
              "      <th>issue_d</th>\n",
              "      <th>loan_status</th>\n",
              "      <th>pymnt_plan</th>\n",
              "      <th>purpose</th>\n",
              "      <th>title</th>\n",
              "      <th>zip_code</th>\n",
              "      <th>addr_state</th>\n",
              "      <th>dti</th>\n",
              "      <th>delinq_2yrs</th>\n",
              "      <th>earliest_cr_line</th>\n",
              "      <th>inq_last_6mths</th>\n",
              "      <th>mths_since_last_delinq</th>\n",
              "      <th>mths_since_last_record</th>\n",
              "      <th>open_acc</th>\n",
              "      <th>pub_rec</th>\n",
              "      <th>revol_bal</th>\n",
              "      <th>revol_util</th>\n",
              "      <th>total_acc</th>\n",
              "      <th>initial_list_status</th>\n",
              "      <th>out_prncp</th>\n",
              "      <th>out_prncp_inv</th>\n",
              "      <th>total_pymnt</th>\n",
              "      <th>total_pymnt_inv</th>\n",
              "      <th>total_rec_prncp</th>\n",
              "      <th>total_rec_int</th>\n",
              "      <th>total_rec_late_fee</th>\n",
              "      <th>recoveries</th>\n",
              "      <th>collection_recovery_fee</th>\n",
              "      <th>last_pymnt_d</th>\n",
              "      <th>last_pymnt_amnt</th>\n",
              "      <th>next_pymnt_d</th>\n",
              "      <th>last_credit_pull_d</th>\n",
              "      <th>collections_12_mths_ex_med</th>\n",
              "      <th>mths_since_last_major_derog</th>\n",
              "      <th>policy_code</th>\n",
              "      <th>application_type</th>\n",
              "      <th>acc_now_delinq</th>\n",
              "      <th>chargeoff_within_12_mths</th>\n",
              "      <th>delinq_amnt</th>\n",
              "      <th>pub_rec_bankruptcies</th>\n",
              "      <th>tax_liens</th>\n",
              "      <th>hardship_flag</th>\n",
              "      <th>disbursement_method</th>\n",
              "      <th>debt_settlement_flag</th>\n",
              "      <th>debt_settlement_flag_date</th>\n",
              "    </tr>\n",
              "  </thead>\n",
              "  <tbody>\n",
              "    <tr>\n",
              "      <th>0</th>\n",
              "      <td>2400</td>\n",
              "      <td>2400</td>\n",
              "      <td>2400.0</td>\n",
              "      <td>36 months</td>\n",
              "      <td>15.96</td>\n",
              "      <td>84.33</td>\n",
              "      <td>C</td>\n",
              "      <td>C5</td>\n",
              "      <td>NaN</td>\n",
              "      <td>10+ years</td>\n",
              "      <td>RENT</td>\n",
              "      <td>12252.0</td>\n",
              "      <td>Not Verified</td>\n",
              "      <td>Dec-2011</td>\n",
              "      <td>Fully Paid</td>\n",
              "      <td>n</td>\n",
              "      <td>small_business</td>\n",
              "      <td>real estate business</td>\n",
              "      <td>606xx</td>\n",
              "      <td>IL</td>\n",
              "      <td>8.72</td>\n",
              "      <td>0.0</td>\n",
              "      <td>Nov-2001</td>\n",
              "      <td>2.0</td>\n",
              "      <td>NaN</td>\n",
              "      <td>NaN</td>\n",
              "      <td>2.0</td>\n",
              "      <td>0.0</td>\n",
              "      <td>2956</td>\n",
              "      <td>98.5</td>\n",
              "      <td>10.0</td>\n",
              "      <td>f</td>\n",
              "      <td>0.0</td>\n",
              "      <td>0.0</td>\n",
              "      <td>3005.666844</td>\n",
              "      <td>3005.67</td>\n",
              "      <td>2400.00</td>\n",
              "      <td>605.67</td>\n",
              "      <td>0.00</td>\n",
              "      <td>0.00</td>\n",
              "      <td>0.00</td>\n",
              "      <td>Jun-2014</td>\n",
              "      <td>649.91</td>\n",
              "      <td>NaN</td>\n",
              "      <td>Jun-2017</td>\n",
              "      <td>0.0</td>\n",
              "      <td>NaN</td>\n",
              "      <td>1</td>\n",
              "      <td>Individual</td>\n",
              "      <td>0.0</td>\n",
              "      <td>0.0</td>\n",
              "      <td>0.0</td>\n",
              "      <td>0.0</td>\n",
              "      <td>0.0</td>\n",
              "      <td>N</td>\n",
              "      <td>Cash</td>\n",
              "      <td>N</td>\n",
              "      <td>NaN</td>\n",
              "    </tr>\n",
              "    <tr>\n",
              "      <th>1</th>\n",
              "      <td>10000</td>\n",
              "      <td>10000</td>\n",
              "      <td>10000.0</td>\n",
              "      <td>36 months</td>\n",
              "      <td>13.49</td>\n",
              "      <td>339.31</td>\n",
              "      <td>C</td>\n",
              "      <td>C1</td>\n",
              "      <td>AIR RESOURCES BOARD</td>\n",
              "      <td>10+ years</td>\n",
              "      <td>RENT</td>\n",
              "      <td>49200.0</td>\n",
              "      <td>Source Verified</td>\n",
              "      <td>Dec-2011</td>\n",
              "      <td>Fully Paid</td>\n",
              "      <td>n</td>\n",
              "      <td>other</td>\n",
              "      <td>personel</td>\n",
              "      <td>917xx</td>\n",
              "      <td>CA</td>\n",
              "      <td>20.00</td>\n",
              "      <td>0.0</td>\n",
              "      <td>Feb-1996</td>\n",
              "      <td>1.0</td>\n",
              "      <td>35.0</td>\n",
              "      <td>NaN</td>\n",
              "      <td>10.0</td>\n",
              "      <td>0.0</td>\n",
              "      <td>5598</td>\n",
              "      <td>21.0</td>\n",
              "      <td>37.0</td>\n",
              "      <td>f</td>\n",
              "      <td>0.0</td>\n",
              "      <td>0.0</td>\n",
              "      <td>12231.890000</td>\n",
              "      <td>12231.89</td>\n",
              "      <td>10000.00</td>\n",
              "      <td>2214.92</td>\n",
              "      <td>16.97</td>\n",
              "      <td>0.00</td>\n",
              "      <td>0.00</td>\n",
              "      <td>Jan-2015</td>\n",
              "      <td>357.48</td>\n",
              "      <td>NaN</td>\n",
              "      <td>Apr-2016</td>\n",
              "      <td>0.0</td>\n",
              "      <td>NaN</td>\n",
              "      <td>1</td>\n",
              "      <td>Individual</td>\n",
              "      <td>0.0</td>\n",
              "      <td>0.0</td>\n",
              "      <td>0.0</td>\n",
              "      <td>0.0</td>\n",
              "      <td>0.0</td>\n",
              "      <td>N</td>\n",
              "      <td>Cash</td>\n",
              "      <td>N</td>\n",
              "      <td>NaN</td>\n",
              "    </tr>\n",
              "    <tr>\n",
              "      <th>2</th>\n",
              "      <td>3000</td>\n",
              "      <td>3000</td>\n",
              "      <td>3000.0</td>\n",
              "      <td>36 months</td>\n",
              "      <td>18.64</td>\n",
              "      <td>109.43</td>\n",
              "      <td>E</td>\n",
              "      <td>E1</td>\n",
              "      <td>MKC Accounting</td>\n",
              "      <td>9 years</td>\n",
              "      <td>RENT</td>\n",
              "      <td>48000.0</td>\n",
              "      <td>Source Verified</td>\n",
              "      <td>Dec-2011</td>\n",
              "      <td>Fully Paid</td>\n",
              "      <td>n</td>\n",
              "      <td>car</td>\n",
              "      <td>Car Downpayment</td>\n",
              "      <td>900xx</td>\n",
              "      <td>CA</td>\n",
              "      <td>5.35</td>\n",
              "      <td>0.0</td>\n",
              "      <td>Jan-2007</td>\n",
              "      <td>2.0</td>\n",
              "      <td>NaN</td>\n",
              "      <td>NaN</td>\n",
              "      <td>4.0</td>\n",
              "      <td>0.0</td>\n",
              "      <td>8221</td>\n",
              "      <td>87.5</td>\n",
              "      <td>4.0</td>\n",
              "      <td>f</td>\n",
              "      <td>0.0</td>\n",
              "      <td>0.0</td>\n",
              "      <td>3939.135294</td>\n",
              "      <td>3939.14</td>\n",
              "      <td>3000.00</td>\n",
              "      <td>939.14</td>\n",
              "      <td>0.00</td>\n",
              "      <td>0.00</td>\n",
              "      <td>0.00</td>\n",
              "      <td>Jan-2015</td>\n",
              "      <td>111.34</td>\n",
              "      <td>NaN</td>\n",
              "      <td>Dec-2014</td>\n",
              "      <td>0.0</td>\n",
              "      <td>NaN</td>\n",
              "      <td>1</td>\n",
              "      <td>Individual</td>\n",
              "      <td>0.0</td>\n",
              "      <td>0.0</td>\n",
              "      <td>0.0</td>\n",
              "      <td>0.0</td>\n",
              "      <td>0.0</td>\n",
              "      <td>N</td>\n",
              "      <td>Cash</td>\n",
              "      <td>N</td>\n",
              "      <td>NaN</td>\n",
              "    </tr>\n",
              "    <tr>\n",
              "      <th>3</th>\n",
              "      <td>5600</td>\n",
              "      <td>5600</td>\n",
              "      <td>5600.0</td>\n",
              "      <td>60 months</td>\n",
              "      <td>21.28</td>\n",
              "      <td>152.39</td>\n",
              "      <td>F</td>\n",
              "      <td>F2</td>\n",
              "      <td>NaN</td>\n",
              "      <td>4 years</td>\n",
              "      <td>OWN</td>\n",
              "      <td>40000.0</td>\n",
              "      <td>Source Verified</td>\n",
              "      <td>Dec-2011</td>\n",
              "      <td>Charged Off</td>\n",
              "      <td>n</td>\n",
              "      <td>small_business</td>\n",
              "      <td>Expand Business &amp; Buy Debt Portfolio</td>\n",
              "      <td>958xx</td>\n",
              "      <td>CA</td>\n",
              "      <td>5.55</td>\n",
              "      <td>0.0</td>\n",
              "      <td>Apr-2004</td>\n",
              "      <td>2.0</td>\n",
              "      <td>NaN</td>\n",
              "      <td>NaN</td>\n",
              "      <td>11.0</td>\n",
              "      <td>0.0</td>\n",
              "      <td>5210</td>\n",
              "      <td>32.6</td>\n",
              "      <td>13.0</td>\n",
              "      <td>f</td>\n",
              "      <td>0.0</td>\n",
              "      <td>0.0</td>\n",
              "      <td>647.500000</td>\n",
              "      <td>647.50</td>\n",
              "      <td>162.02</td>\n",
              "      <td>294.94</td>\n",
              "      <td>0.00</td>\n",
              "      <td>190.54</td>\n",
              "      <td>2.09</td>\n",
              "      <td>Apr-2012</td>\n",
              "      <td>152.39</td>\n",
              "      <td>NaN</td>\n",
              "      <td>Oct-2016</td>\n",
              "      <td>0.0</td>\n",
              "      <td>NaN</td>\n",
              "      <td>1</td>\n",
              "      <td>Individual</td>\n",
              "      <td>0.0</td>\n",
              "      <td>0.0</td>\n",
              "      <td>0.0</td>\n",
              "      <td>0.0</td>\n",
              "      <td>0.0</td>\n",
              "      <td>N</td>\n",
              "      <td>Cash</td>\n",
              "      <td>N</td>\n",
              "      <td>NaN</td>\n",
              "    </tr>\n",
              "    <tr>\n",
              "      <th>4</th>\n",
              "      <td>5375</td>\n",
              "      <td>5375</td>\n",
              "      <td>5350.0</td>\n",
              "      <td>60 months</td>\n",
              "      <td>12.69</td>\n",
              "      <td>121.45</td>\n",
              "      <td>B</td>\n",
              "      <td>B5</td>\n",
              "      <td>Starbucks</td>\n",
              "      <td>&lt; 1 year</td>\n",
              "      <td>RENT</td>\n",
              "      <td>15000.0</td>\n",
              "      <td>Verified</td>\n",
              "      <td>Dec-2011</td>\n",
              "      <td>Charged Off</td>\n",
              "      <td>n</td>\n",
              "      <td>other</td>\n",
              "      <td>Building my credit history.</td>\n",
              "      <td>774xx</td>\n",
              "      <td>TX</td>\n",
              "      <td>18.08</td>\n",
              "      <td>0.0</td>\n",
              "      <td>Sep-2004</td>\n",
              "      <td>0.0</td>\n",
              "      <td>NaN</td>\n",
              "      <td>NaN</td>\n",
              "      <td>2.0</td>\n",
              "      <td>0.0</td>\n",
              "      <td>9279</td>\n",
              "      <td>36.5</td>\n",
              "      <td>3.0</td>\n",
              "      <td>f</td>\n",
              "      <td>0.0</td>\n",
              "      <td>0.0</td>\n",
              "      <td>1484.590000</td>\n",
              "      <td>1477.70</td>\n",
              "      <td>673.48</td>\n",
              "      <td>533.42</td>\n",
              "      <td>0.00</td>\n",
              "      <td>277.69</td>\n",
              "      <td>2.52</td>\n",
              "      <td>Nov-2012</td>\n",
              "      <td>121.45</td>\n",
              "      <td>NaN</td>\n",
              "      <td>Dec-2016</td>\n",
              "      <td>0.0</td>\n",
              "      <td>NaN</td>\n",
              "      <td>1</td>\n",
              "      <td>Individual</td>\n",
              "      <td>0.0</td>\n",
              "      <td>0.0</td>\n",
              "      <td>0.0</td>\n",
              "      <td>0.0</td>\n",
              "      <td>0.0</td>\n",
              "      <td>N</td>\n",
              "      <td>Cash</td>\n",
              "      <td>N</td>\n",
              "      <td>NaN</td>\n",
              "    </tr>\n",
              "  </tbody>\n",
              "</table>\n",
              "</div>\n",
              "      <button class=\"colab-df-convert\" onclick=\"convertToInteractive('df-2bbae0d8-2614-43bc-bd61-1e51dc697aa1')\"\n",
              "              title=\"Convert this dataframe to an interactive table.\"\n",
              "              style=\"display:none;\">\n",
              "        \n",
              "  <svg xmlns=\"http://www.w3.org/2000/svg\" height=\"24px\"viewBox=\"0 0 24 24\"\n",
              "       width=\"24px\">\n",
              "    <path d=\"M0 0h24v24H0V0z\" fill=\"none\"/>\n",
              "    <path d=\"M18.56 5.44l.94 2.06.94-2.06 2.06-.94-2.06-.94-.94-2.06-.94 2.06-2.06.94zm-11 1L8.5 8.5l.94-2.06 2.06-.94-2.06-.94L8.5 2.5l-.94 2.06-2.06.94zm10 10l.94 2.06.94-2.06 2.06-.94-2.06-.94-.94-2.06-.94 2.06-2.06.94z\"/><path d=\"M17.41 7.96l-1.37-1.37c-.4-.4-.92-.59-1.43-.59-.52 0-1.04.2-1.43.59L10.3 9.45l-7.72 7.72c-.78.78-.78 2.05 0 2.83L4 21.41c.39.39.9.59 1.41.59.51 0 1.02-.2 1.41-.59l7.78-7.78 2.81-2.81c.8-.78.8-2.07 0-2.86zM5.41 20L4 18.59l7.72-7.72 1.47 1.35L5.41 20z\"/>\n",
              "  </svg>\n",
              "      </button>\n",
              "      \n",
              "  <style>\n",
              "    .colab-df-container {\n",
              "      display:flex;\n",
              "      flex-wrap:wrap;\n",
              "      gap: 12px;\n",
              "    }\n",
              "\n",
              "    .colab-df-convert {\n",
              "      background-color: #E8F0FE;\n",
              "      border: none;\n",
              "      border-radius: 50%;\n",
              "      cursor: pointer;\n",
              "      display: none;\n",
              "      fill: #1967D2;\n",
              "      height: 32px;\n",
              "      padding: 0 0 0 0;\n",
              "      width: 32px;\n",
              "    }\n",
              "\n",
              "    .colab-df-convert:hover {\n",
              "      background-color: #E2EBFA;\n",
              "      box-shadow: 0px 1px 2px rgba(60, 64, 67, 0.3), 0px 1px 3px 1px rgba(60, 64, 67, 0.15);\n",
              "      fill: #174EA6;\n",
              "    }\n",
              "\n",
              "    [theme=dark] .colab-df-convert {\n",
              "      background-color: #3B4455;\n",
              "      fill: #D2E3FC;\n",
              "    }\n",
              "\n",
              "    [theme=dark] .colab-df-convert:hover {\n",
              "      background-color: #434B5C;\n",
              "      box-shadow: 0px 1px 3px 1px rgba(0, 0, 0, 0.15);\n",
              "      filter: drop-shadow(0px 1px 2px rgba(0, 0, 0, 0.3));\n",
              "      fill: #FFFFFF;\n",
              "    }\n",
              "  </style>\n",
              "\n",
              "      <script>\n",
              "        const buttonEl =\n",
              "          document.querySelector('#df-2bbae0d8-2614-43bc-bd61-1e51dc697aa1 button.colab-df-convert');\n",
              "        buttonEl.style.display =\n",
              "          google.colab.kernel.accessAllowed ? 'block' : 'none';\n",
              "\n",
              "        async function convertToInteractive(key) {\n",
              "          const element = document.querySelector('#df-2bbae0d8-2614-43bc-bd61-1e51dc697aa1');\n",
              "          const dataTable =\n",
              "            await google.colab.kernel.invokeFunction('convertToInteractive',\n",
              "                                                     [key], {});\n",
              "          if (!dataTable) return;\n",
              "\n",
              "          const docLinkHtml = 'Like what you see? Visit the ' +\n",
              "            '<a target=\"_blank\" href=https://colab.research.google.com/notebooks/data_table.ipynb>data table notebook</a>'\n",
              "            + ' to learn more about interactive tables.';\n",
              "          element.innerHTML = '';\n",
              "          dataTable['output_type'] = 'display_data';\n",
              "          await google.colab.output.renderOutput(dataTable, element);\n",
              "          const docLink = document.createElement('div');\n",
              "          docLink.innerHTML = docLinkHtml;\n",
              "          element.appendChild(docLink);\n",
              "        }\n",
              "      </script>\n",
              "    </div>\n",
              "  </div>\n",
              "  "
            ]
          },
          "metadata": {},
          "execution_count": 12
        }
      ]
    },
    {
      "cell_type": "markdown",
      "metadata": {
        "id": "UAcz_9pdbBqH"
      },
      "source": [
        "### 1.2: Check Basic DataFrame Information\n",
        "\n",
        "Checking the basic information of the data.\n",
        "\n",
        "Using `loan_df.info()` function to print basic DataFrame information and using `loan_df.isnull().sum()` to check out count of null values in each column.\n"
      ]
    },
    {
      "cell_type": "code",
      "execution_count": 13,
      "metadata": {
        "colab": {
          "base_uri": "https://localhost:8080/"
        },
        "id": "Z_G0B-iabBqH",
        "outputId": "9122c2ed-82a6-462c-def1-ce50bb7ea4de"
      },
      "outputs": [
        {
          "output_type": "stream",
          "name": "stdout",
          "text": [
            "<class 'pandas.core.frame.DataFrame'>\n",
            "RangeIndex: 19908 entries, 0 to 19907\n",
            "Data columns (total 58 columns):\n",
            " #   Column                       Non-Null Count  Dtype  \n",
            "---  ------                       --------------  -----  \n",
            " 0   loan_amnt                    19908 non-null  int64  \n",
            " 1   funded_amnt                  19908 non-null  int64  \n",
            " 2   funded_amnt_inv              19908 non-null  float64\n",
            " 3   term                         19908 non-null  object \n",
            " 4   int_rate                     19908 non-null  float64\n",
            " 5   installment                  19908 non-null  float64\n",
            " 6   grade                        19908 non-null  object \n",
            " 7   sub_grade                    19908 non-null  object \n",
            " 8   emp_title                    18723 non-null  object \n",
            " 9   emp_length                   19409 non-null  object \n",
            " 10  home_ownership               19908 non-null  object \n",
            " 11  annual_inc                   19908 non-null  float64\n",
            " 12  verification_status          19908 non-null  object \n",
            " 13  issue_d                      19908 non-null  object \n",
            " 14  loan_status                  19908 non-null  object \n",
            " 15  pymnt_plan                   19908 non-null  object \n",
            " 16  purpose                      19908 non-null  object \n",
            " 17  title                        19903 non-null  object \n",
            " 18  zip_code                     19908 non-null  object \n",
            " 19  addr_state                   19908 non-null  object \n",
            " 20  dti                          19908 non-null  float64\n",
            " 21  delinq_2yrs                  19908 non-null  float64\n",
            " 22  earliest_cr_line             19908 non-null  object \n",
            " 23  inq_last_6mths               19908 non-null  float64\n",
            " 24  mths_since_last_delinq       6998 non-null   float64\n",
            " 25  mths_since_last_record       1209 non-null   float64\n",
            " 26  open_acc                     19908 non-null  float64\n",
            " 27  pub_rec                      19908 non-null  float64\n",
            " 28  revol_bal                    19908 non-null  int64  \n",
            " 29  revol_util                   19889 non-null  float64\n",
            " 30  total_acc                    19908 non-null  float64\n",
            " 31  initial_list_status          19908 non-null  object \n",
            " 32  out_prncp                    19908 non-null  float64\n",
            " 33  out_prncp_inv                19908 non-null  float64\n",
            " 34  total_pymnt                  19908 non-null  float64\n",
            " 35  total_pymnt_inv              19908 non-null  float64\n",
            " 36  total_rec_prncp              19908 non-null  float64\n",
            " 37  total_rec_int                19908 non-null  float64\n",
            " 38  total_rec_late_fee           19908 non-null  float64\n",
            " 39  recoveries                   19908 non-null  float64\n",
            " 40  collection_recovery_fee      19908 non-null  float64\n",
            " 41  last_pymnt_d                 19865 non-null  object \n",
            " 42  last_pymnt_amnt              19908 non-null  float64\n",
            " 43  next_pymnt_d                 0 non-null      float64\n",
            " 44  last_credit_pull_d           19906 non-null  object \n",
            " 45  collections_12_mths_ex_med   19893 non-null  float64\n",
            " 46  mths_since_last_major_derog  0 non-null      float64\n",
            " 47  policy_code                  19908 non-null  int64  \n",
            " 48  application_type             19908 non-null  object \n",
            " 49  acc_now_delinq               19908 non-null  float64\n",
            " 50  chargeoff_within_12_mths     19893 non-null  float64\n",
            " 51  delinq_amnt                  19908 non-null  float64\n",
            " 52  pub_rec_bankruptcies         19595 non-null  float64\n",
            " 53  tax_liens                    19898 non-null  float64\n",
            " 54  hardship_flag                19908 non-null  object \n",
            " 55  disbursement_method          19908 non-null  object \n",
            " 56  debt_settlement_flag         19908 non-null  object \n",
            " 57  debt_settlement_flag_date    82 non-null     object \n",
            "dtypes: float64(31), int64(4), object(23)\n",
            "memory usage: 8.8+ MB\n"
          ]
        }
      ],
      "source": [
        "loan_df.info()"
      ]
    },
    {
      "cell_type": "code",
      "source": [
        "loan_df.isnull().sum()"
      ],
      "metadata": {
        "colab": {
          "base_uri": "https://localhost:8080/"
        },
        "id": "Ews4hujsd4WH",
        "outputId": "1ad77c99-1432-4cc0-e9b3-720303c87252"
      },
      "execution_count": 14,
      "outputs": [
        {
          "output_type": "execute_result",
          "data": {
            "text/plain": [
              "loan_amnt                          0\n",
              "funded_amnt                        0\n",
              "funded_amnt_inv                    0\n",
              "term                               0\n",
              "int_rate                           0\n",
              "installment                        0\n",
              "grade                              0\n",
              "sub_grade                          0\n",
              "emp_title                       1185\n",
              "emp_length                       499\n",
              "home_ownership                     0\n",
              "annual_inc                         0\n",
              "verification_status                0\n",
              "issue_d                            0\n",
              "loan_status                        0\n",
              "pymnt_plan                         0\n",
              "purpose                            0\n",
              "title                              5\n",
              "zip_code                           0\n",
              "addr_state                         0\n",
              "dti                                0\n",
              "delinq_2yrs                        0\n",
              "earliest_cr_line                   0\n",
              "inq_last_6mths                     0\n",
              "mths_since_last_delinq         12910\n",
              "mths_since_last_record         18699\n",
              "open_acc                           0\n",
              "pub_rec                            0\n",
              "revol_bal                          0\n",
              "revol_util                        19\n",
              "total_acc                          0\n",
              "initial_list_status                0\n",
              "out_prncp                          0\n",
              "out_prncp_inv                      0\n",
              "total_pymnt                        0\n",
              "total_pymnt_inv                    0\n",
              "total_rec_prncp                    0\n",
              "total_rec_int                      0\n",
              "total_rec_late_fee                 0\n",
              "recoveries                         0\n",
              "collection_recovery_fee            0\n",
              "last_pymnt_d                      43\n",
              "last_pymnt_amnt                    0\n",
              "next_pymnt_d                   19908\n",
              "last_credit_pull_d                 2\n",
              "collections_12_mths_ex_med        15\n",
              "mths_since_last_major_derog    19908\n",
              "policy_code                        0\n",
              "application_type                   0\n",
              "acc_now_delinq                     0\n",
              "chargeoff_within_12_mths          15\n",
              "delinq_amnt                        0\n",
              "pub_rec_bankruptcies             313\n",
              "tax_liens                         10\n",
              "hardship_flag                      0\n",
              "disbursement_method                0\n",
              "debt_settlement_flag               0\n",
              "debt_settlement_flag_date      19826\n",
              "dtype: int64"
            ]
          },
          "metadata": {},
          "execution_count": 14
        }
      ]
    },
    {
      "cell_type": "markdown",
      "metadata": {
        "id": "JIhTzgjWbBqH"
      },
      "source": [
        "### 1.3: Statistics of Numeric Columns\n",
        "\n",
        "Descriptive statistics that summarize the central tendency, dispersion and shape of a dataset's distribution.\n"
      ]
    },
    {
      "cell_type": "code",
      "execution_count": 15,
      "metadata": {
        "scrolled": true,
        "colab": {
          "base_uri": "https://localhost:8080/",
          "height": 364
        },
        "id": "4sEUSu3obBqH",
        "outputId": "def1eb1a-afdb-4685-995e-9fa032391166"
      },
      "outputs": [
        {
          "output_type": "execute_result",
          "data": {
            "text/plain": [
              "          loan_amnt   funded_amnt  funded_amnt_inv      int_rate  \\\n",
              "count  19908.000000  19908.000000     19908.000000  19908.000000   \n",
              "mean   11353.846444  11065.763763     10500.929748     12.089717   \n",
              "std     7463.700492   7176.276661      7106.229650      3.698287   \n",
              "min      500.000000    500.000000         0.000000      5.420000   \n",
              "25%     5750.000000   5600.000000      5000.000000      9.450000   \n",
              "50%    10000.000000  10000.000000      9000.000000     11.860000   \n",
              "75%    15000.000000  15000.000000     14500.000000     14.610000   \n",
              "max    35000.000000  35000.000000     35000.000000     24.400000   \n",
              "\n",
              "        installment    annual_inc           dti   delinq_2yrs  inq_last_6mths  \\\n",
              "count  19908.000000  1.990800e+04  19908.000000  19908.000000    19908.000000   \n",
              "mean     330.614254  7.107345e+04     13.008619      0.143962        0.829466   \n",
              "std      210.557434  6.980565e+04      6.663658      0.489576        1.044978   \n",
              "min       15.690000  4.000000e+03      0.000000      0.000000        0.000000   \n",
              "25%      171.287500  4.200000e+04      7.840000      0.000000        0.000000   \n",
              "50%      285.780000  6.000000e+04     13.075000      0.000000        0.000000   \n",
              "75%      440.815000  8.500000e+04     18.200000      0.000000        1.000000   \n",
              "max     1302.690000  6.000000e+06     29.990000     11.000000        8.000000   \n",
              "\n",
              "       mths_since_last_delinq  mths_since_last_record      open_acc  \\\n",
              "count             6998.000000             1209.000000  19908.000000   \n",
              "mean                35.841097               69.354839      9.278782   \n",
              "std                 21.599170               44.520279      4.414903   \n",
              "min                  0.000000                0.000000      2.000000   \n",
              "25%                 19.000000                0.000000      6.000000   \n",
              "50%                 34.000000               90.000000      9.000000   \n",
              "75%                 51.000000              104.000000     12.000000   \n",
              "max                106.000000              129.000000     44.000000   \n",
              "\n",
              "            pub_rec      revol_bal    revol_util     total_acc  out_prncp  \\\n",
              "count  19908.000000   19908.000000  19889.000000  19908.000000    19908.0   \n",
              "mean       0.046715   13363.994826     49.424966     21.527627        0.0   \n",
              "std        0.217827   15943.303849     28.198395     11.269006        0.0   \n",
              "min        0.000000       0.000000      0.000000      2.000000        0.0   \n",
              "25%        0.000000    3770.500000     26.500000     13.000000        0.0   \n",
              "50%        0.000000    8876.500000     50.300000     20.000000        0.0   \n",
              "75%        0.000000   16952.250000     72.800000     28.000000        0.0   \n",
              "max        3.000000  148829.000000     99.900000     90.000000        0.0   \n",
              "\n",
              "       out_prncp_inv   total_pymnt  total_pymnt_inv  total_rec_prncp  \\\n",
              "count        19908.0  19908.000000     19908.000000     19908.000000   \n",
              "mean             0.0  12286.852391     11690.155107      9913.519990   \n",
              "std              0.0   9098.847567      8984.722396      7126.424699   \n",
              "min              0.0      0.000000         0.000000         0.000000   \n",
              "25%              0.0   5670.592545      5239.857500      4800.000000   \n",
              "50%              0.0  10042.735817      9427.845000      8000.000000   \n",
              "75%              0.0  16681.688450     15983.440000     14000.000000   \n",
              "max              0.0  58480.139915     58438.370000     35000.020000   \n",
              "\n",
              "       total_rec_int  total_rec_late_fee    recoveries  \\\n",
              "count   19908.000000        19908.000000  19908.000000   \n",
              "mean     2277.120129            1.489973     94.722382   \n",
              "std      2583.733214            7.964257    666.434583   \n",
              "min         0.000000            0.000000      0.000000   \n",
              "25%       687.595000            0.000000      0.000000   \n",
              "50%      1389.230000            0.000000      0.000000   \n",
              "75%      2842.795000            0.000000      0.000000   \n",
              "max     23480.140000          180.200000  29623.350000   \n",
              "\n",
              "       collection_recovery_fee  last_pymnt_amnt  next_pymnt_d  \\\n",
              "count             19908.000000     19908.000000           0.0   \n",
              "mean                 11.861625      2636.253711           NaN   \n",
              "std                 141.910324      4412.964304           NaN   \n",
              "min                   0.000000         0.000000           NaN   \n",
              "25%                   0.000000       222.530000           NaN   \n",
              "50%                   0.000000       544.700000           NaN   \n",
              "75%                   0.000000      3193.352500           NaN   \n",
              "max                6543.040000     35596.410000           NaN   \n",
              "\n",
              "       collections_12_mths_ex_med  mths_since_last_major_derog  policy_code  \\\n",
              "count                     19893.0                          0.0      19908.0   \n",
              "mean                          0.0                          NaN          1.0   \n",
              "std                           0.0                          NaN          0.0   \n",
              "min                           0.0                          NaN          1.0   \n",
              "25%                           0.0                          NaN          1.0   \n",
              "50%                           0.0                          NaN          1.0   \n",
              "75%                           0.0                          NaN          1.0   \n",
              "max                           0.0                          NaN          1.0   \n",
              "\n",
              "       acc_now_delinq  chargeoff_within_12_mths  delinq_amnt  \\\n",
              "count         19908.0                   19893.0      19908.0   \n",
              "mean              0.0                       0.0          0.0   \n",
              "std               0.0                       0.0          0.0   \n",
              "min               0.0                       0.0          0.0   \n",
              "25%               0.0                       0.0          0.0   \n",
              "50%               0.0                       0.0          0.0   \n",
              "75%               0.0                       0.0          0.0   \n",
              "max               0.0                       0.0          0.0   \n",
              "\n",
              "       pub_rec_bankruptcies  tax_liens  \n",
              "count          19595.000000    19898.0  \n",
              "mean               0.037969        0.0  \n",
              "std                0.191393        0.0  \n",
              "min                0.000000        0.0  \n",
              "25%                0.000000        0.0  \n",
              "50%                0.000000        0.0  \n",
              "75%                0.000000        0.0  \n",
              "max                2.000000        0.0  "
            ],
            "text/html": [
              "\n",
              "  <div id=\"df-ce39d45a-cb27-4155-afa5-90df8f57c447\">\n",
              "    <div class=\"colab-df-container\">\n",
              "      <div>\n",
              "<style scoped>\n",
              "    .dataframe tbody tr th:only-of-type {\n",
              "        vertical-align: middle;\n",
              "    }\n",
              "\n",
              "    .dataframe tbody tr th {\n",
              "        vertical-align: top;\n",
              "    }\n",
              "\n",
              "    .dataframe thead th {\n",
              "        text-align: right;\n",
              "    }\n",
              "</style>\n",
              "<table border=\"1\" class=\"dataframe\">\n",
              "  <thead>\n",
              "    <tr style=\"text-align: right;\">\n",
              "      <th></th>\n",
              "      <th>loan_amnt</th>\n",
              "      <th>funded_amnt</th>\n",
              "      <th>funded_amnt_inv</th>\n",
              "      <th>int_rate</th>\n",
              "      <th>installment</th>\n",
              "      <th>annual_inc</th>\n",
              "      <th>dti</th>\n",
              "      <th>delinq_2yrs</th>\n",
              "      <th>inq_last_6mths</th>\n",
              "      <th>mths_since_last_delinq</th>\n",
              "      <th>mths_since_last_record</th>\n",
              "      <th>open_acc</th>\n",
              "      <th>pub_rec</th>\n",
              "      <th>revol_bal</th>\n",
              "      <th>revol_util</th>\n",
              "      <th>total_acc</th>\n",
              "      <th>out_prncp</th>\n",
              "      <th>out_prncp_inv</th>\n",
              "      <th>total_pymnt</th>\n",
              "      <th>total_pymnt_inv</th>\n",
              "      <th>total_rec_prncp</th>\n",
              "      <th>total_rec_int</th>\n",
              "      <th>total_rec_late_fee</th>\n",
              "      <th>recoveries</th>\n",
              "      <th>collection_recovery_fee</th>\n",
              "      <th>last_pymnt_amnt</th>\n",
              "      <th>next_pymnt_d</th>\n",
              "      <th>collections_12_mths_ex_med</th>\n",
              "      <th>mths_since_last_major_derog</th>\n",
              "      <th>policy_code</th>\n",
              "      <th>acc_now_delinq</th>\n",
              "      <th>chargeoff_within_12_mths</th>\n",
              "      <th>delinq_amnt</th>\n",
              "      <th>pub_rec_bankruptcies</th>\n",
              "      <th>tax_liens</th>\n",
              "    </tr>\n",
              "  </thead>\n",
              "  <tbody>\n",
              "    <tr>\n",
              "      <th>count</th>\n",
              "      <td>19908.000000</td>\n",
              "      <td>19908.000000</td>\n",
              "      <td>19908.000000</td>\n",
              "      <td>19908.000000</td>\n",
              "      <td>19908.000000</td>\n",
              "      <td>1.990800e+04</td>\n",
              "      <td>19908.000000</td>\n",
              "      <td>19908.000000</td>\n",
              "      <td>19908.000000</td>\n",
              "      <td>6998.000000</td>\n",
              "      <td>1209.000000</td>\n",
              "      <td>19908.000000</td>\n",
              "      <td>19908.000000</td>\n",
              "      <td>19908.000000</td>\n",
              "      <td>19889.000000</td>\n",
              "      <td>19908.000000</td>\n",
              "      <td>19908.0</td>\n",
              "      <td>19908.0</td>\n",
              "      <td>19908.000000</td>\n",
              "      <td>19908.000000</td>\n",
              "      <td>19908.000000</td>\n",
              "      <td>19908.000000</td>\n",
              "      <td>19908.000000</td>\n",
              "      <td>19908.000000</td>\n",
              "      <td>19908.000000</td>\n",
              "      <td>19908.000000</td>\n",
              "      <td>0.0</td>\n",
              "      <td>19893.0</td>\n",
              "      <td>0.0</td>\n",
              "      <td>19908.0</td>\n",
              "      <td>19908.0</td>\n",
              "      <td>19893.0</td>\n",
              "      <td>19908.0</td>\n",
              "      <td>19595.000000</td>\n",
              "      <td>19898.0</td>\n",
              "    </tr>\n",
              "    <tr>\n",
              "      <th>mean</th>\n",
              "      <td>11353.846444</td>\n",
              "      <td>11065.763763</td>\n",
              "      <td>10500.929748</td>\n",
              "      <td>12.089717</td>\n",
              "      <td>330.614254</td>\n",
              "      <td>7.107345e+04</td>\n",
              "      <td>13.008619</td>\n",
              "      <td>0.143962</td>\n",
              "      <td>0.829466</td>\n",
              "      <td>35.841097</td>\n",
              "      <td>69.354839</td>\n",
              "      <td>9.278782</td>\n",
              "      <td>0.046715</td>\n",
              "      <td>13363.994826</td>\n",
              "      <td>49.424966</td>\n",
              "      <td>21.527627</td>\n",
              "      <td>0.0</td>\n",
              "      <td>0.0</td>\n",
              "      <td>12286.852391</td>\n",
              "      <td>11690.155107</td>\n",
              "      <td>9913.519990</td>\n",
              "      <td>2277.120129</td>\n",
              "      <td>1.489973</td>\n",
              "      <td>94.722382</td>\n",
              "      <td>11.861625</td>\n",
              "      <td>2636.253711</td>\n",
              "      <td>NaN</td>\n",
              "      <td>0.0</td>\n",
              "      <td>NaN</td>\n",
              "      <td>1.0</td>\n",
              "      <td>0.0</td>\n",
              "      <td>0.0</td>\n",
              "      <td>0.0</td>\n",
              "      <td>0.037969</td>\n",
              "      <td>0.0</td>\n",
              "    </tr>\n",
              "    <tr>\n",
              "      <th>std</th>\n",
              "      <td>7463.700492</td>\n",
              "      <td>7176.276661</td>\n",
              "      <td>7106.229650</td>\n",
              "      <td>3.698287</td>\n",
              "      <td>210.557434</td>\n",
              "      <td>6.980565e+04</td>\n",
              "      <td>6.663658</td>\n",
              "      <td>0.489576</td>\n",
              "      <td>1.044978</td>\n",
              "      <td>21.599170</td>\n",
              "      <td>44.520279</td>\n",
              "      <td>4.414903</td>\n",
              "      <td>0.217827</td>\n",
              "      <td>15943.303849</td>\n",
              "      <td>28.198395</td>\n",
              "      <td>11.269006</td>\n",
              "      <td>0.0</td>\n",
              "      <td>0.0</td>\n",
              "      <td>9098.847567</td>\n",
              "      <td>8984.722396</td>\n",
              "      <td>7126.424699</td>\n",
              "      <td>2583.733214</td>\n",
              "      <td>7.964257</td>\n",
              "      <td>666.434583</td>\n",
              "      <td>141.910324</td>\n",
              "      <td>4412.964304</td>\n",
              "      <td>NaN</td>\n",
              "      <td>0.0</td>\n",
              "      <td>NaN</td>\n",
              "      <td>0.0</td>\n",
              "      <td>0.0</td>\n",
              "      <td>0.0</td>\n",
              "      <td>0.0</td>\n",
              "      <td>0.191393</td>\n",
              "      <td>0.0</td>\n",
              "    </tr>\n",
              "    <tr>\n",
              "      <th>min</th>\n",
              "      <td>500.000000</td>\n",
              "      <td>500.000000</td>\n",
              "      <td>0.000000</td>\n",
              "      <td>5.420000</td>\n",
              "      <td>15.690000</td>\n",
              "      <td>4.000000e+03</td>\n",
              "      <td>0.000000</td>\n",
              "      <td>0.000000</td>\n",
              "      <td>0.000000</td>\n",
              "      <td>0.000000</td>\n",
              "      <td>0.000000</td>\n",
              "      <td>2.000000</td>\n",
              "      <td>0.000000</td>\n",
              "      <td>0.000000</td>\n",
              "      <td>0.000000</td>\n",
              "      <td>2.000000</td>\n",
              "      <td>0.0</td>\n",
              "      <td>0.0</td>\n",
              "      <td>0.000000</td>\n",
              "      <td>0.000000</td>\n",
              "      <td>0.000000</td>\n",
              "      <td>0.000000</td>\n",
              "      <td>0.000000</td>\n",
              "      <td>0.000000</td>\n",
              "      <td>0.000000</td>\n",
              "      <td>0.000000</td>\n",
              "      <td>NaN</td>\n",
              "      <td>0.0</td>\n",
              "      <td>NaN</td>\n",
              "      <td>1.0</td>\n",
              "      <td>0.0</td>\n",
              "      <td>0.0</td>\n",
              "      <td>0.0</td>\n",
              "      <td>0.000000</td>\n",
              "      <td>0.0</td>\n",
              "    </tr>\n",
              "    <tr>\n",
              "      <th>25%</th>\n",
              "      <td>5750.000000</td>\n",
              "      <td>5600.000000</td>\n",
              "      <td>5000.000000</td>\n",
              "      <td>9.450000</td>\n",
              "      <td>171.287500</td>\n",
              "      <td>4.200000e+04</td>\n",
              "      <td>7.840000</td>\n",
              "      <td>0.000000</td>\n",
              "      <td>0.000000</td>\n",
              "      <td>19.000000</td>\n",
              "      <td>0.000000</td>\n",
              "      <td>6.000000</td>\n",
              "      <td>0.000000</td>\n",
              "      <td>3770.500000</td>\n",
              "      <td>26.500000</td>\n",
              "      <td>13.000000</td>\n",
              "      <td>0.0</td>\n",
              "      <td>0.0</td>\n",
              "      <td>5670.592545</td>\n",
              "      <td>5239.857500</td>\n",
              "      <td>4800.000000</td>\n",
              "      <td>687.595000</td>\n",
              "      <td>0.000000</td>\n",
              "      <td>0.000000</td>\n",
              "      <td>0.000000</td>\n",
              "      <td>222.530000</td>\n",
              "      <td>NaN</td>\n",
              "      <td>0.0</td>\n",
              "      <td>NaN</td>\n",
              "      <td>1.0</td>\n",
              "      <td>0.0</td>\n",
              "      <td>0.0</td>\n",
              "      <td>0.0</td>\n",
              "      <td>0.000000</td>\n",
              "      <td>0.0</td>\n",
              "    </tr>\n",
              "    <tr>\n",
              "      <th>50%</th>\n",
              "      <td>10000.000000</td>\n",
              "      <td>10000.000000</td>\n",
              "      <td>9000.000000</td>\n",
              "      <td>11.860000</td>\n",
              "      <td>285.780000</td>\n",
              "      <td>6.000000e+04</td>\n",
              "      <td>13.075000</td>\n",
              "      <td>0.000000</td>\n",
              "      <td>0.000000</td>\n",
              "      <td>34.000000</td>\n",
              "      <td>90.000000</td>\n",
              "      <td>9.000000</td>\n",
              "      <td>0.000000</td>\n",
              "      <td>8876.500000</td>\n",
              "      <td>50.300000</td>\n",
              "      <td>20.000000</td>\n",
              "      <td>0.0</td>\n",
              "      <td>0.0</td>\n",
              "      <td>10042.735817</td>\n",
              "      <td>9427.845000</td>\n",
              "      <td>8000.000000</td>\n",
              "      <td>1389.230000</td>\n",
              "      <td>0.000000</td>\n",
              "      <td>0.000000</td>\n",
              "      <td>0.000000</td>\n",
              "      <td>544.700000</td>\n",
              "      <td>NaN</td>\n",
              "      <td>0.0</td>\n",
              "      <td>NaN</td>\n",
              "      <td>1.0</td>\n",
              "      <td>0.0</td>\n",
              "      <td>0.0</td>\n",
              "      <td>0.0</td>\n",
              "      <td>0.000000</td>\n",
              "      <td>0.0</td>\n",
              "    </tr>\n",
              "    <tr>\n",
              "      <th>75%</th>\n",
              "      <td>15000.000000</td>\n",
              "      <td>15000.000000</td>\n",
              "      <td>14500.000000</td>\n",
              "      <td>14.610000</td>\n",
              "      <td>440.815000</td>\n",
              "      <td>8.500000e+04</td>\n",
              "      <td>18.200000</td>\n",
              "      <td>0.000000</td>\n",
              "      <td>1.000000</td>\n",
              "      <td>51.000000</td>\n",
              "      <td>104.000000</td>\n",
              "      <td>12.000000</td>\n",
              "      <td>0.000000</td>\n",
              "      <td>16952.250000</td>\n",
              "      <td>72.800000</td>\n",
              "      <td>28.000000</td>\n",
              "      <td>0.0</td>\n",
              "      <td>0.0</td>\n",
              "      <td>16681.688450</td>\n",
              "      <td>15983.440000</td>\n",
              "      <td>14000.000000</td>\n",
              "      <td>2842.795000</td>\n",
              "      <td>0.000000</td>\n",
              "      <td>0.000000</td>\n",
              "      <td>0.000000</td>\n",
              "      <td>3193.352500</td>\n",
              "      <td>NaN</td>\n",
              "      <td>0.0</td>\n",
              "      <td>NaN</td>\n",
              "      <td>1.0</td>\n",
              "      <td>0.0</td>\n",
              "      <td>0.0</td>\n",
              "      <td>0.0</td>\n",
              "      <td>0.000000</td>\n",
              "      <td>0.0</td>\n",
              "    </tr>\n",
              "    <tr>\n",
              "      <th>max</th>\n",
              "      <td>35000.000000</td>\n",
              "      <td>35000.000000</td>\n",
              "      <td>35000.000000</td>\n",
              "      <td>24.400000</td>\n",
              "      <td>1302.690000</td>\n",
              "      <td>6.000000e+06</td>\n",
              "      <td>29.990000</td>\n",
              "      <td>11.000000</td>\n",
              "      <td>8.000000</td>\n",
              "      <td>106.000000</td>\n",
              "      <td>129.000000</td>\n",
              "      <td>44.000000</td>\n",
              "      <td>3.000000</td>\n",
              "      <td>148829.000000</td>\n",
              "      <td>99.900000</td>\n",
              "      <td>90.000000</td>\n",
              "      <td>0.0</td>\n",
              "      <td>0.0</td>\n",
              "      <td>58480.139915</td>\n",
              "      <td>58438.370000</td>\n",
              "      <td>35000.020000</td>\n",
              "      <td>23480.140000</td>\n",
              "      <td>180.200000</td>\n",
              "      <td>29623.350000</td>\n",
              "      <td>6543.040000</td>\n",
              "      <td>35596.410000</td>\n",
              "      <td>NaN</td>\n",
              "      <td>0.0</td>\n",
              "      <td>NaN</td>\n",
              "      <td>1.0</td>\n",
              "      <td>0.0</td>\n",
              "      <td>0.0</td>\n",
              "      <td>0.0</td>\n",
              "      <td>2.000000</td>\n",
              "      <td>0.0</td>\n",
              "    </tr>\n",
              "  </tbody>\n",
              "</table>\n",
              "</div>\n",
              "      <button class=\"colab-df-convert\" onclick=\"convertToInteractive('df-ce39d45a-cb27-4155-afa5-90df8f57c447')\"\n",
              "              title=\"Convert this dataframe to an interactive table.\"\n",
              "              style=\"display:none;\">\n",
              "        \n",
              "  <svg xmlns=\"http://www.w3.org/2000/svg\" height=\"24px\"viewBox=\"0 0 24 24\"\n",
              "       width=\"24px\">\n",
              "    <path d=\"M0 0h24v24H0V0z\" fill=\"none\"/>\n",
              "    <path d=\"M18.56 5.44l.94 2.06.94-2.06 2.06-.94-2.06-.94-.94-2.06-.94 2.06-2.06.94zm-11 1L8.5 8.5l.94-2.06 2.06-.94-2.06-.94L8.5 2.5l-.94 2.06-2.06.94zm10 10l.94 2.06.94-2.06 2.06-.94-2.06-.94-.94-2.06-.94 2.06-2.06.94z\"/><path d=\"M17.41 7.96l-1.37-1.37c-.4-.4-.92-.59-1.43-.59-.52 0-1.04.2-1.43.59L10.3 9.45l-7.72 7.72c-.78.78-.78 2.05 0 2.83L4 21.41c.39.39.9.59 1.41.59.51 0 1.02-.2 1.41-.59l7.78-7.78 2.81-2.81c.8-.78.8-2.07 0-2.86zM5.41 20L4 18.59l7.72-7.72 1.47 1.35L5.41 20z\"/>\n",
              "  </svg>\n",
              "      </button>\n",
              "      \n",
              "  <style>\n",
              "    .colab-df-container {\n",
              "      display:flex;\n",
              "      flex-wrap:wrap;\n",
              "      gap: 12px;\n",
              "    }\n",
              "\n",
              "    .colab-df-convert {\n",
              "      background-color: #E8F0FE;\n",
              "      border: none;\n",
              "      border-radius: 50%;\n",
              "      cursor: pointer;\n",
              "      display: none;\n",
              "      fill: #1967D2;\n",
              "      height: 32px;\n",
              "      padding: 0 0 0 0;\n",
              "      width: 32px;\n",
              "    }\n",
              "\n",
              "    .colab-df-convert:hover {\n",
              "      background-color: #E2EBFA;\n",
              "      box-shadow: 0px 1px 2px rgba(60, 64, 67, 0.3), 0px 1px 3px 1px rgba(60, 64, 67, 0.15);\n",
              "      fill: #174EA6;\n",
              "    }\n",
              "\n",
              "    [theme=dark] .colab-df-convert {\n",
              "      background-color: #3B4455;\n",
              "      fill: #D2E3FC;\n",
              "    }\n",
              "\n",
              "    [theme=dark] .colab-df-convert:hover {\n",
              "      background-color: #434B5C;\n",
              "      box-shadow: 0px 1px 3px 1px rgba(0, 0, 0, 0.15);\n",
              "      filter: drop-shadow(0px 1px 2px rgba(0, 0, 0, 0.3));\n",
              "      fill: #FFFFFF;\n",
              "    }\n",
              "  </style>\n",
              "\n",
              "      <script>\n",
              "        const buttonEl =\n",
              "          document.querySelector('#df-ce39d45a-cb27-4155-afa5-90df8f57c447 button.colab-df-convert');\n",
              "        buttonEl.style.display =\n",
              "          google.colab.kernel.accessAllowed ? 'block' : 'none';\n",
              "\n",
              "        async function convertToInteractive(key) {\n",
              "          const element = document.querySelector('#df-ce39d45a-cb27-4155-afa5-90df8f57c447');\n",
              "          const dataTable =\n",
              "            await google.colab.kernel.invokeFunction('convertToInteractive',\n",
              "                                                     [key], {});\n",
              "          if (!dataTable) return;\n",
              "\n",
              "          const docLinkHtml = 'Like what you see? Visit the ' +\n",
              "            '<a target=\"_blank\" href=https://colab.research.google.com/notebooks/data_table.ipynb>data table notebook</a>'\n",
              "            + ' to learn more about interactive tables.';\n",
              "          element.innerHTML = '';\n",
              "          dataTable['output_type'] = 'display_data';\n",
              "          await google.colab.output.renderOutput(dataTable, element);\n",
              "          const docLink = document.createElement('div');\n",
              "          docLink.innerHTML = docLinkHtml;\n",
              "          element.appendChild(docLink);\n",
              "        }\n",
              "      </script>\n",
              "    </div>\n",
              "  </div>\n",
              "  "
            ]
          },
          "metadata": {},
          "execution_count": 15
        }
      ],
      "source": [
        "loan_df.describe()"
      ]
    },
    {
      "cell_type": "markdown",
      "metadata": {
        "id": "XeK9tESEbBqI"
      },
      "source": [
        "### Exploratory Data Analysis - EDA\n",
        "\n",
        "For categorical features, I will check:\n",
        "- Unique values in the feature.\n",
        "- Count of each category.\n",
        "- Aggregation of other continuous features for each category.\n",
        "\n",
        "I will demonstate EDA with two features, loan term and interest rate."
      ]
    },
    {
      "cell_type": "markdown",
      "metadata": {
        "id": "sLGvXTinbBqI"
      },
      "source": [
        "### Loan Term and Interest Rate\n",
        "\n",
        "Exploring the characteristic of loan term, interest rate and relationship between them.\n",
        "\n",
        "With the help of following code cells, I found out that:\n",
        "- There are two different terms, 36 months and 60 months.\n",
        "- There are about three times more 36 months loans than 60 months loans in the dataset.\n",
        "- Interest rate is in the range of 5% to 25%. Majority of loans have interest rate between 5-17%.\n",
        "- 36 months loans have significant lower average interest rate than that of 60 months loans."
      ]
    },
    {
      "cell_type": "markdown",
      "metadata": {
        "id": "ooW5EtRDbBqI"
      },
      "source": [
        "#### Loan Term"
      ]
    },
    {
      "cell_type": "code",
      "execution_count": 16,
      "metadata": {
        "colab": {
          "base_uri": "https://localhost:8080/"
        },
        "id": "x3yPC2JnbBqI",
        "outputId": "1ca99e14-83fe-4315-cb0a-b6378461f97b"
      },
      "outputs": [
        {
          "output_type": "execute_result",
          "data": {
            "text/plain": [
              "array(['36 months', '60 months'], dtype=object)"
            ]
          },
          "metadata": {},
          "execution_count": 16
        }
      ],
      "source": [
        "#Get unique values in the term feature\n",
        "loan_df.term.unique()\n"
      ]
    },
    {
      "cell_type": "code",
      "execution_count": 18,
      "metadata": {
        "colab": {
          "base_uri": "https://localhost:8080/"
        },
        "id": "k47-ZVXGbBqI",
        "outputId": "4c4b66c2-2d9d-4940-9915-e36b31eb1cbb"
      },
      "outputs": [
        {
          "output_type": "execute_result",
          "data": {
            "text/plain": [
              "36 months    14852\n",
              "60 months     5056\n",
              "Name: term, dtype: int64"
            ]
          },
          "metadata": {},
          "execution_count": 18
        }
      ],
      "source": [
        "#Get counts of each term\n",
        "loan_df.term.value_counts()"
      ]
    },
    {
      "cell_type": "code",
      "execution_count": 19,
      "metadata": {
        "scrolled": true,
        "colab": {
          "base_uri": "https://localhost:8080/",
          "height": 489
        },
        "id": "XPV6AxVkbBqI",
        "outputId": "6b384e59-56ab-4d51-99a1-692867925f40"
      },
      "outputs": [
        {
          "output_type": "execute_result",
          "data": {
            "text/plain": [
              "Text(0.5, 1.0, 'Loan Term')"
            ]
          },
          "metadata": {},
          "execution_count": 19
        },
        {
          "output_type": "display_data",
          "data": {
            "text/plain": [
              "<Figure size 640x480 with 1 Axes>"
            ],
            "image/png": "[encoded data removed]"
          },
          "metadata": {}
        }
      ],
      "source": [
        "ax = sns.countplot(x='term',data=loan_df, order=sorted(loan_df.term.unique()))\n",
        "ax.set_title('Loan Term')"
      ]
    },
    {
      "cell_type": "markdown",
      "metadata": {
        "id": "bQI3XTSbbBqJ"
      },
      "source": [
        "#### Interest Rate"
      ]
    },
    {
      "cell_type": "code",
      "execution_count": 20,
      "metadata": {
        "colab": {
          "base_uri": "https://localhost:8080/",
          "height": 449
        },
        "id": "doI6fW8ZbBqJ",
        "outputId": "4a262b69-cf57-47fd-ec28-63be595f97f1"
      },
      "outputs": [
        {
          "output_type": "execute_result",
          "data": {
            "text/plain": [
              "<Axes: >"
            ]
          },
          "metadata": {},
          "execution_count": 20
        },
        {
          "output_type": "display_data",
          "data": {
            "text/plain": [
              "<Figure size 640x480 with 1 Axes>"
            ],
            "image/png": "[encoded data removed]"
          },
          "metadata": {}
        }
      ],
      "source": [
        "loan_df.int_rate.hist(edgecolor='black', alpha=0.8)"
      ]
    },
    {
      "cell_type": "markdown",
      "metadata": {
        "id": "MEOKibDCbBqJ"
      },
      "source": [
        "#### Average Interest Rate of Different Terms"
      ]
    },
    {
      "cell_type": "code",
      "execution_count": 21,
      "metadata": {
        "colab": {
          "base_uri": "https://localhost:8080/",
          "height": 143
        },
        "id": "xZDrSdPabBqJ",
        "outputId": "581039e6-29a3-4ac4-bf13-4602ca8d8ded"
      },
      "outputs": [
        {
          "output_type": "execute_result",
          "data": {
            "text/plain": [
              "            int_rate\n",
              "term                \n",
              "36 months  11.121125\n",
              "60 months  14.934955"
            ],
            "text/html": [
              "\n",
              "  <div id=\"df-a124d515-0f3c-4afd-91c9-67d60281b40b\">\n",
              "    <div class=\"colab-df-container\">\n",
              "      <div>\n",
              "<style scoped>\n",
              "    .dataframe tbody tr th:only-of-type {\n",
              "        vertical-align: middle;\n",
              "    }\n",
              "\n",
              "    .dataframe tbody tr th {\n",
              "        vertical-align: top;\n",
              "    }\n",
              "\n",
              "    .dataframe thead th {\n",
              "        text-align: right;\n",
              "    }\n",
              "</style>\n",
              "<table border=\"1\" class=\"dataframe\">\n",
              "  <thead>\n",
              "    <tr style=\"text-align: right;\">\n",
              "      <th></th>\n",
              "      <th>int_rate</th>\n",
              "    </tr>\n",
              "    <tr>\n",
              "      <th>term</th>\n",
              "      <th></th>\n",
              "    </tr>\n",
              "  </thead>\n",
              "  <tbody>\n",
              "    <tr>\n",
              "      <th>36 months</th>\n",
              "      <td>11.121125</td>\n",
              "    </tr>\n",
              "    <tr>\n",
              "      <th>60 months</th>\n",
              "      <td>14.934955</td>\n",
              "    </tr>\n",
              "  </tbody>\n",
              "</table>\n",
              "</div>\n",
              "      <button class=\"colab-df-convert\" onclick=\"convertToInteractive('df-a124d515-0f3c-4afd-91c9-67d60281b40b')\"\n",
              "              title=\"Convert this dataframe to an interactive table.\"\n",
              "              style=\"display:none;\">\n",
              "        \n",
              "  <svg xmlns=\"http://www.w3.org/2000/svg\" height=\"24px\"viewBox=\"0 0 24 24\"\n",
              "       width=\"24px\">\n",
              "    <path d=\"M0 0h24v24H0V0z\" fill=\"none\"/>\n",
              "    <path d=\"M18.56 5.44l.94 2.06.94-2.06 2.06-.94-2.06-.94-.94-2.06-.94 2.06-2.06.94zm-11 1L8.5 8.5l.94-2.06 2.06-.94-2.06-.94L8.5 2.5l-.94 2.06-2.06.94zm10 10l.94 2.06.94-2.06 2.06-.94-2.06-.94-.94-2.06-.94 2.06-2.06.94z\"/><path d=\"M17.41 7.96l-1.37-1.37c-.4-.4-.92-.59-1.43-.59-.52 0-1.04.2-1.43.59L10.3 9.45l-7.72 7.72c-.78.78-.78 2.05 0 2.83L4 21.41c.39.39.9.59 1.41.59.51 0 1.02-.2 1.41-.59l7.78-7.78 2.81-2.81c.8-.78.8-2.07 0-2.86zM5.41 20L4 18.59l7.72-7.72 1.47 1.35L5.41 20z\"/>\n",
              "  </svg>\n",
              "      </button>\n",
              "      \n",
              "  <style>\n",
              "    .colab-df-container {\n",
              "      display:flex;\n",
              "      flex-wrap:wrap;\n",
              "      gap: 12px;\n",
              "    }\n",
              "\n",
              "    .colab-df-convert {\n",
              "      background-color: #E8F0FE;\n",
              "      border: none;\n",
              "      border-radius: 50%;\n",
              "      cursor: pointer;\n",
              "      display: none;\n",
              "      fill: #1967D2;\n",
              "      height: 32px;\n",
              "      padding: 0 0 0 0;\n",
              "      width: 32px;\n",
              "    }\n",
              "\n",
              "    .colab-df-convert:hover {\n",
              "      background-color: #E2EBFA;\n",
              "      box-shadow: 0px 1px 2px rgba(60, 64, 67, 0.3), 0px 1px 3px 1px rgba(60, 64, 67, 0.15);\n",
              "      fill: #174EA6;\n",
              "    }\n",
              "\n",
              "    [theme=dark] .colab-df-convert {\n",
              "      background-color: #3B4455;\n",
              "      fill: #D2E3FC;\n",
              "    }\n",
              "\n",
              "    [theme=dark] .colab-df-convert:hover {\n",
              "      background-color: #434B5C;\n",
              "      box-shadow: 0px 1px 3px 1px rgba(0, 0, 0, 0.15);\n",
              "      filter: drop-shadow(0px 1px 2px rgba(0, 0, 0, 0.3));\n",
              "      fill: #FFFFFF;\n",
              "    }\n",
              "  </style>\n",
              "\n",
              "      <script>\n",
              "        const buttonEl =\n",
              "          document.querySelector('#df-a124d515-0f3c-4afd-91c9-67d60281b40b button.colab-df-convert');\n",
              "        buttonEl.style.display =\n",
              "          google.colab.kernel.accessAllowed ? 'block' : 'none';\n",
              "\n",
              "        async function convertToInteractive(key) {\n",
              "          const element = document.querySelector('#df-a124d515-0f3c-4afd-91c9-67d60281b40b');\n",
              "          const dataTable =\n",
              "            await google.colab.kernel.invokeFunction('convertToInteractive',\n",
              "                                                     [key], {});\n",
              "          if (!dataTable) return;\n",
              "\n",
              "          const docLinkHtml = 'Like what you see? Visit the ' +\n",
              "            '<a target=\"_blank\" href=https://colab.research.google.com/notebooks/data_table.ipynb>data table notebook</a>'\n",
              "            + ' to learn more about interactive tables.';\n",
              "          element.innerHTML = '';\n",
              "          dataTable['output_type'] = 'display_data';\n",
              "          await google.colab.output.renderOutput(dataTable, element);\n",
              "          const docLink = document.createElement('div');\n",
              "          docLink.innerHTML = docLinkHtml;\n",
              "          element.appendChild(docLink);\n",
              "        }\n",
              "      </script>\n",
              "    </div>\n",
              "  </div>\n",
              "  "
            ]
          },
          "metadata": {},
          "execution_count": 21
        }
      ],
      "source": [
        "loan_df.groupby('term').agg({'int_rate':'mean'})"
      ]
    },
    {
      "cell_type": "code",
      "execution_count": 22,
      "metadata": {
        "colab": {
          "base_uri": "https://localhost:8080/",
          "height": 549
        },
        "id": "jrhStKxAbBqJ",
        "outputId": "9f1c3522-c637-4d2b-8936-8bc3e1e65f55"
      },
      "outputs": [
        {
          "output_type": "execute_result",
          "data": {
            "text/plain": [
              "Text(0.5, 0, 'Loan Term')"
            ]
          },
          "metadata": {},
          "execution_count": 22
        },
        {
          "output_type": "display_data",
          "data": {
            "text/plain": [
              "<Figure size 640x480 with 1 Axes>"
            ],
            "image/png": "[encoded data removed]"
          },
          "metadata": {}
        }
      ],
      "source": [
        "ax = loan_df.groupby('term').agg({'int_rate':'mean'}).plot.bar(legend = True)\n",
        "ax.set_title('Loan Term and Interest Rate')\n",
        "ax.set_ylabel('Interest Rate')\n",
        "ax.set_xlabel(\"Loan Term\")"
      ]
    },
    {
      "cell_type": "markdown",
      "metadata": {
        "id": "VeMO6-XobBqJ"
      },
      "source": [
        "### 1.4: Loan Grade\n",
        "How many different loan grades there are in the dataset?"
      ]
    },
    {
      "cell_type": "markdown",
      "metadata": {
        "id": "IokJdi9YbBqJ"
      },
      "source": [
        "#### Your Code"
      ]
    },
    {
      "cell_type": "code",
      "execution_count": 23,
      "metadata": {
        "scrolled": true,
        "colab": {
          "base_uri": "https://localhost:8080/"
        },
        "id": "VdSZ730RbBqJ",
        "outputId": "0823446e-2334-43ff-d08f-6cf7203faca8"
      },
      "outputs": [
        {
          "output_type": "execute_result",
          "data": {
            "text/plain": [
              "B    6065\n",
              "A    4875\n",
              "C    4087\n",
              "D    2748\n",
              "E    1434\n",
              "F     540\n",
              "G     159\n",
              "Name: grade, dtype: int64"
            ]
          },
          "metadata": {},
          "execution_count": 23
        }
      ],
      "source": [
        "loan_df.grade.value_counts()\n"
      ]
    },
    {
      "cell_type": "code",
      "source": [
        "ax = sns.countplot(x='grade',data=loan_df, order=sorted(loan_df.grade.unique()))\n",
        "ax.set_title('Grade')"
      ],
      "metadata": {
        "colab": {
          "base_uri": "https://localhost:8080/",
          "height": 489
        },
        "id": "ZQjr6wZml0ar",
        "outputId": "6bbb98a4-6e12-424a-d28a-31e187b4c1ca"
      },
      "execution_count": 24,
      "outputs": [
        {
          "output_type": "execute_result",
          "data": {
            "text/plain": [
              "Text(0.5, 1.0, 'Grade')"
            ]
          },
          "metadata": {},
          "execution_count": 24
        },
        {
          "output_type": "display_data",
          "data": {
            "text/plain": [
              "<Figure size 640x480 with 1 Axes>"
            ],
            "image/png": "[encoded data removed]"
          },
          "metadata": {}
        }
      ]
    },
    {
      "cell_type": "markdown",
      "metadata": {
        "id": "Tt86JJZWbBqJ"
      },
      "source": [
        "### 1.5: Loan Grade and Interest Rate\n",
        "\n",
        "Exploring the relationship between loan grade and interest rate.\n"
      ]
    },
    {
      "cell_type": "code",
      "execution_count": 25,
      "metadata": {
        "colab": {
          "base_uri": "https://localhost:8080/",
          "height": 485
        },
        "id": "u37DlYAsbBqJ",
        "outputId": "da231e4e-2607-4108-8e5c-773afa8e4e62"
      },
      "outputs": [
        {
          "output_type": "execute_result",
          "data": {
            "text/plain": [
              "Text(0, 0.5, 'Interest')"
            ]
          },
          "metadata": {},
          "execution_count": 25
        },
        {
          "output_type": "display_data",
          "data": {
            "text/plain": [
              "<Figure size 640x480 with 1 Axes>"
            ],
            "image/png": "[encoded data removed]"
          },
          "metadata": {}
        }
      ],
      "source": [
        "ax=loan_df.groupby('grade').agg({'int_rate':'mean'}).plot.bar(legend=True)\n",
        "ax.set_title('Grade and Interest')\n",
        "ax.set_xlabel('Grade')\n",
        "ax.set_ylabel('Interest')"
      ]
    },
    {
      "cell_type": "markdown",
      "metadata": {
        "id": "YjpwfLXLbBqK"
      },
      "source": [
        "\n",
        "### 1.6: Loan by State\n",
        "\n",
        "There are loans from six States in the dataset. Exploring the count of loans in each state via visualization.\n",
        "\n"
      ]
    },
    {
      "cell_type": "code",
      "execution_count": 26,
      "metadata": {
        "scrolled": true,
        "colab": {
          "base_uri": "https://localhost:8080/",
          "height": 489
        },
        "id": "PL_eOFGxbBqK",
        "outputId": "3897ec0d-78ab-480c-8936-f09474b349ac"
      },
      "outputs": [
        {
          "output_type": "execute_result",
          "data": {
            "text/plain": [
              "Text(0.5, 1.0, 'addr_state')"
            ]
          },
          "metadata": {},
          "execution_count": 26
        },
        {
          "output_type": "display_data",
          "data": {
            "text/plain": [
              "<Figure size 640x480 with 1 Axes>"
            ],
            "image/png": "[encoded data removed]"
          },
          "metadata": {}
        }
      ],
      "source": [
        "ax = sns.countplot(x='addr_state',data=loan_df, order=loan_df.addr_state.value_counts().index)\n",
        "ax.set_title('addr_state')"
      ]
    },
    {
      "cell_type": "markdown",
      "metadata": {
        "id": "rmtvqZAZbBqK"
      },
      "source": [
        "### 1.7: Borrowers Annual Income Distribution\n",
        "\n",
        "- Ploting a histogram of all borrower's annual income.\n",
        "- Ploting another histogram of annual income that is less than $250,000.\n"
      ]
    },
    {
      "cell_type": "code",
      "source": [
        "loan_df.annual_inc.hist(edgecolor='black',alpha=.8, bins=1000)"
      ],
      "metadata": {
        "colab": {
          "base_uri": "https://localhost:8080/",
          "height": 465
        },
        "id": "9sRMk77Rytkc",
        "outputId": "d26bbf94-e73e-44d0-9626-0824ea3101c8"
      },
      "execution_count": 28,
      "outputs": [
        {
          "output_type": "execute_result",
          "data": {
            "text/plain": [
              "<Axes: >"
            ]
          },
          "metadata": {},
          "execution_count": 28
        },
        {
          "output_type": "display_data",
          "data": {
            "text/plain": [
              "<Figure size 640x480 with 1 Axes>"
            ],
            "image/png": "[encoded data removed]"
          },
          "metadata": {}
        }
      ]
    },
    {
      "cell_type": "code",
      "source": [
        "filtered_data=loan_df[loan_df['annual_inc']<250000]\n",
        "plt.hist(filtered_data['annual_inc'],bins=10, edgecolor='black')\n",
        "plt.ylabel('Frequency')\n",
        "plt.title('Histogram of Borrowers / Annual Income')\n",
        "plt.show()"
      ],
      "metadata": {
        "colab": {
          "base_uri": "https://localhost:8080/",
          "height": 452
        },
        "id": "C6gYc8BPuhas",
        "outputId": "dd3b7792-0104-4306-cc81-45f89e6e329e"
      },
      "execution_count": 29,
      "outputs": [
        {
          "output_type": "display_data",
          "data": {
            "text/plain": [
              "<Figure size 640x480 with 1 Axes>"
            ],
            "image/png": "[encoded data removed]"
          },
          "metadata": {}
        }
      ]
    },
    {
      "cell_type": "markdown",
      "metadata": {
        "id": "bpeiY5yFbBqL"
      },
      "source": [
        "### 1.8: Borrower Annual Income by State\n",
        "\n",
        "- Viusalizing **median** income of borrowers from each state with a bar chart.\n",
        " - Grouping by addr_state column.\n",
        " - Applying aggregate function median on annual_inc column.\n"
      ]
    },
    {
      "cell_type": "code",
      "execution_count": 30,
      "metadata": {
        "scrolled": false,
        "id": "_dKLm-HLbBqL",
        "colab": {
          "base_uri": "https://localhost:8080/",
          "height": 494
        },
        "outputId": "1093511e-f424-4013-a74c-67382517f85f"
      },
      "outputs": [
        {
          "output_type": "execute_result",
          "data": {
            "text/plain": [
              "Text(0.5, 1.0, 'State wise median annual income')"
            ]
          },
          "metadata": {},
          "execution_count": 30
        },
        {
          "output_type": "display_data",
          "data": {
            "text/plain": [
              "<Figure size 640x480 with 1 Axes>"
            ],
            "image/png": "[encoded data removed]"
          },
          "metadata": {}
        }
      ],
      "source": [
        "ax=loan_df.groupby('addr_state').agg({'annual_inc':'median'}).plot.bar()\n",
        "ax.set_xlabel(\"State\")\n",
        "ax.set_ylabel(\"Median Annual Income\")\n",
        "ax.set_title('State wise median annual income')"
      ]
    },
    {
      "cell_type": "markdown",
      "metadata": {
        "id": "-Cal_zVAbBqL"
      },
      "source": [
        "### 1.9: Annual Income and Interest Rate\n",
        "\n",
        "- Plotting a scatter plot on annual income and interest rate\n",
        "- Plotting another scatter plot with annual income less than $300,000\n"
      ]
    },
    {
      "cell_type": "markdown",
      "metadata": {
        "id": "vnQ51iYdbBqL"
      },
      "source": [
        "#### Your Code"
      ]
    },
    {
      "cell_type": "code",
      "execution_count": 31,
      "metadata": {
        "scrolled": true,
        "id": "SpAxStQMbBqL",
        "colab": {
          "base_uri": "https://localhost:8080/",
          "height": 489
        },
        "outputId": "f322837f-33a5-4fca-aac0-7395ee5a1a06"
      },
      "outputs": [
        {
          "output_type": "execute_result",
          "data": {
            "text/plain": [
              "Text(0.5, 1.0, 'Scatter plot')"
            ]
          },
          "metadata": {},
          "execution_count": 31
        },
        {
          "output_type": "display_data",
          "data": {
            "text/plain": [
              "<Figure size 640x480 with 1 Axes>"
            ],
            "image/png": "[encoded data removed]"
          },
          "metadata": {}
        }
      ],
      "source": [
        "plt.scatter(loan_df.annual_inc, loan_df.int_rate)\n",
        "plt.xlabel('Annual Income')\n",
        "plt.ylabel('Interest Rate')\n",
        "plt.title('Scatter plot')\n"
      ]
    },
    {
      "cell_type": "code",
      "source": [
        "filterdata=loan_df[loan_df['annual_inc']<300000]\n",
        "filterdata.head()"
      ],
      "metadata": {
        "colab": {
          "base_uri": "https://localhost:8080/",
          "height": 409
        },
        "id": "DkfkshI76Igv",
        "outputId": "3c6837f8-7e74-44c7-aac6-1954daf26a02"
      },
      "execution_count": 32,
      "outputs": [
        {
          "output_type": "execute_result",
          "data": {
            "text/plain": [
              "   loan_amnt  funded_amnt  funded_amnt_inv       term  int_rate  installment  \\\n",
              "0       2400         2400           2400.0  36 months     15.96        84.33   \n",
              "1      10000        10000          10000.0  36 months     13.49       339.31   \n",
              "2       3000         3000           3000.0  36 months     18.64       109.43   \n",
              "3       5600         5600           5600.0  60 months     21.28       152.39   \n",
              "4       5375         5375           5350.0  60 months     12.69       121.45   \n",
              "\n",
              "  grade sub_grade            emp_title emp_length home_ownership  annual_inc  \\\n",
              "0     C        C5                  NaN  10+ years           RENT     12252.0   \n",
              "1     C        C1  AIR RESOURCES BOARD  10+ years           RENT     49200.0   \n",
              "2     E        E1      MKC Accounting     9 years           RENT     48000.0   \n",
              "3     F        F2                  NaN    4 years            OWN     40000.0   \n",
              "4     B        B5            Starbucks   < 1 year           RENT     15000.0   \n",
              "\n",
              "  verification_status   issue_d  loan_status pymnt_plan         purpose  \\\n",
              "0        Not Verified  Dec-2011   Fully Paid          n  small_business   \n",
              "1     Source Verified  Dec-2011   Fully Paid          n           other   \n",
              "2     Source Verified  Dec-2011   Fully Paid          n             car   \n",
              "3     Source Verified  Dec-2011  Charged Off          n  small_business   \n",
              "4            Verified  Dec-2011  Charged Off          n           other   \n",
              "\n",
              "                                  title zip_code addr_state    dti  \\\n",
              "0                  real estate business    606xx         IL   8.72   \n",
              "1                              personel    917xx         CA  20.00   \n",
              "2                       Car Downpayment    900xx         CA   5.35   \n",
              "3  Expand Business & Buy Debt Portfolio    958xx         CA   5.55   \n",
              "4           Building my credit history.    774xx         TX  18.08   \n",
              "\n",
              "   delinq_2yrs earliest_cr_line  inq_last_6mths  mths_since_last_delinq  \\\n",
              "0          0.0         Nov-2001             2.0                     NaN   \n",
              "1          0.0         Feb-1996             1.0                    35.0   \n",
              "2          0.0         Jan-2007             2.0                     NaN   \n",
              "3          0.0         Apr-2004             2.0                     NaN   \n",
              "4          0.0         Sep-2004             0.0                     NaN   \n",
              "\n",
              "   mths_since_last_record  open_acc  pub_rec  revol_bal  revol_util  \\\n",
              "0                     NaN       2.0      0.0       2956        98.5   \n",
              "1                     NaN      10.0      0.0       5598        21.0   \n",
              "2                     NaN       4.0      0.0       8221        87.5   \n",
              "3                     NaN      11.0      0.0       5210        32.6   \n",
              "4                     NaN       2.0      0.0       9279        36.5   \n",
              "\n",
              "   total_acc initial_list_status  out_prncp  out_prncp_inv   total_pymnt  \\\n",
              "0       10.0                   f        0.0            0.0   3005.666844   \n",
              "1       37.0                   f        0.0            0.0  12231.890000   \n",
              "2        4.0                   f        0.0            0.0   3939.135294   \n",
              "3       13.0                   f        0.0            0.0    647.500000   \n",
              "4        3.0                   f        0.0            0.0   1484.590000   \n",
              "\n",
              "   total_pymnt_inv  total_rec_prncp  total_rec_int  total_rec_late_fee  \\\n",
              "0          3005.67          2400.00         605.67                0.00   \n",
              "1         12231.89         10000.00        2214.92               16.97   \n",
              "2          3939.14          3000.00         939.14                0.00   \n",
              "3           647.50           162.02         294.94                0.00   \n",
              "4          1477.70           673.48         533.42                0.00   \n",
              "\n",
              "   recoveries  collection_recovery_fee last_pymnt_d  last_pymnt_amnt  \\\n",
              "0        0.00                     0.00     Jun-2014           649.91   \n",
              "1        0.00                     0.00     Jan-2015           357.48   \n",
              "2        0.00                     0.00     Jan-2015           111.34   \n",
              "3      190.54                     2.09     Apr-2012           152.39   \n",
              "4      277.69                     2.52     Nov-2012           121.45   \n",
              "\n",
              "   next_pymnt_d last_credit_pull_d  collections_12_mths_ex_med  \\\n",
              "0           NaN           Jun-2017                         0.0   \n",
              "1           NaN           Apr-2016                         0.0   \n",
              "2           NaN           Dec-2014                         0.0   \n",
              "3           NaN           Oct-2016                         0.0   \n",
              "4           NaN           Dec-2016                         0.0   \n",
              "\n",
              "   mths_since_last_major_derog  policy_code application_type  acc_now_delinq  \\\n",
              "0                          NaN            1       Individual             0.0   \n",
              "1                          NaN            1       Individual             0.0   \n",
              "2                          NaN            1       Individual             0.0   \n",
              "3                          NaN            1       Individual             0.0   \n",
              "4                          NaN            1       Individual             0.0   \n",
              "\n",
              "   chargeoff_within_12_mths  delinq_amnt  pub_rec_bankruptcies  tax_liens  \\\n",
              "0                       0.0          0.0                   0.0        0.0   \n",
              "1                       0.0          0.0                   0.0        0.0   \n",
              "2                       0.0          0.0                   0.0        0.0   \n",
              "3                       0.0          0.0                   0.0        0.0   \n",
              "4                       0.0          0.0                   0.0        0.0   \n",
              "\n",
              "  hardship_flag disbursement_method debt_settlement_flag  \\\n",
              "0             N                Cash                    N   \n",
              "1             N                Cash                    N   \n",
              "2             N                Cash                    N   \n",
              "3             N                Cash                    N   \n",
              "4             N                Cash                    N   \n",
              "\n",
              "  debt_settlement_flag_date  \n",
              "0                       NaN  \n",
              "1                       NaN  \n",
              "2                       NaN  \n",
              "3                       NaN  \n",
              "4                       NaN  "
            ],
            "text/html": [
              "\n",
              "  <div id=\"df-a96c86f5-663a-4e03-9c73-763933fb78c7\">\n",
              "    <div class=\"colab-df-container\">\n",
              "      <div>\n",
              "<style scoped>\n",
              "    .dataframe tbody tr th:only-of-type {\n",
              "        vertical-align: middle;\n",
              "    }\n",
              "\n",
              "    .dataframe tbody tr th {\n",
              "        vertical-align: top;\n",
              "    }\n",
              "\n",
              "    .dataframe thead th {\n",
              "        text-align: right;\n",
              "    }\n",
              "</style>\n",
              "<table border=\"1\" class=\"dataframe\">\n",
              "  <thead>\n",
              "    <tr style=\"text-align: right;\">\n",
              "      <th></th>\n",
              "      <th>loan_amnt</th>\n",
              "      <th>funded_amnt</th>\n",
              "      <th>funded_amnt_inv</th>\n",
              "      <th>term</th>\n",
              "      <th>int_rate</th>\n",
              "      <th>installment</th>\n",
              "      <th>grade</th>\n",
              "      <th>sub_grade</th>\n",
              "      <th>emp_title</th>\n",
              "      <th>emp_length</th>\n",
              "      <th>home_ownership</th>\n",
              "      <th>annual_inc</th>\n",
              "      <th>verification_status</th>\n",
              "      <th>issue_d</th>\n",
              "      <th>loan_status</th>\n",
              "      <th>pymnt_plan</th>\n",
              "      <th>purpose</th>\n",
              "      <th>title</th>\n",
              "      <th>zip_code</th>\n",
              "      <th>addr_state</th>\n",
              "      <th>dti</th>\n",
              "      <th>delinq_2yrs</th>\n",
              "      <th>earliest_cr_line</th>\n",
              "      <th>inq_last_6mths</th>\n",
              "      <th>mths_since_last_delinq</th>\n",
              "      <th>mths_since_last_record</th>\n",
              "      <th>open_acc</th>\n",
              "      <th>pub_rec</th>\n",
              "      <th>revol_bal</th>\n",
              "      <th>revol_util</th>\n",
              "      <th>total_acc</th>\n",
              "      <th>initial_list_status</th>\n",
              "      <th>out_prncp</th>\n",
              "      <th>out_prncp_inv</th>\n",
              "      <th>total_pymnt</th>\n",
              "      <th>total_pymnt_inv</th>\n",
              "      <th>total_rec_prncp</th>\n",
              "      <th>total_rec_int</th>\n",
              "      <th>total_rec_late_fee</th>\n",
              "      <th>recoveries</th>\n",
              "      <th>collection_recovery_fee</th>\n",
              "      <th>last_pymnt_d</th>\n",
              "      <th>last_pymnt_amnt</th>\n",
              "      <th>next_pymnt_d</th>\n",
              "      <th>last_credit_pull_d</th>\n",
              "      <th>collections_12_mths_ex_med</th>\n",
              "      <th>mths_since_last_major_derog</th>\n",
              "      <th>policy_code</th>\n",
              "      <th>application_type</th>\n",
              "      <th>acc_now_delinq</th>\n",
              "      <th>chargeoff_within_12_mths</th>\n",
              "      <th>delinq_amnt</th>\n",
              "      <th>pub_rec_bankruptcies</th>\n",
              "      <th>tax_liens</th>\n",
              "      <th>hardship_flag</th>\n",
              "      <th>disbursement_method</th>\n",
              "      <th>debt_settlement_flag</th>\n",
              "      <th>debt_settlement_flag_date</th>\n",
              "    </tr>\n",
              "  </thead>\n",
              "  <tbody>\n",
              "    <tr>\n",
              "      <th>0</th>\n",
              "      <td>2400</td>\n",
              "      <td>2400</td>\n",
              "      <td>2400.0</td>\n",
              "      <td>36 months</td>\n",
              "      <td>15.96</td>\n",
              "      <td>84.33</td>\n",
              "      <td>C</td>\n",
              "      <td>C5</td>\n",
              "      <td>NaN</td>\n",
              "      <td>10+ years</td>\n",
              "      <td>RENT</td>\n",
              "      <td>12252.0</td>\n",
              "      <td>Not Verified</td>\n",
              "      <td>Dec-2011</td>\n",
              "      <td>Fully Paid</td>\n",
              "      <td>n</td>\n",
              "      <td>small_business</td>\n",
              "      <td>real estate business</td>\n",
              "      <td>606xx</td>\n",
              "      <td>IL</td>\n",
              "      <td>8.72</td>\n",
              "      <td>0.0</td>\n",
              "      <td>Nov-2001</td>\n",
              "      <td>2.0</td>\n",
              "      <td>NaN</td>\n",
              "      <td>NaN</td>\n",
              "      <td>2.0</td>\n",
              "      <td>0.0</td>\n",
              "      <td>2956</td>\n",
              "      <td>98.5</td>\n",
              "      <td>10.0</td>\n",
              "      <td>f</td>\n",
              "      <td>0.0</td>\n",
              "      <td>0.0</td>\n",
              "      <td>3005.666844</td>\n",
              "      <td>3005.67</td>\n",
              "      <td>2400.00</td>\n",
              "      <td>605.67</td>\n",
              "      <td>0.00</td>\n",
              "      <td>0.00</td>\n",
              "      <td>0.00</td>\n",
              "      <td>Jun-2014</td>\n",
              "      <td>649.91</td>\n",
              "      <td>NaN</td>\n",
              "      <td>Jun-2017</td>\n",
              "      <td>0.0</td>\n",
              "      <td>NaN</td>\n",
              "      <td>1</td>\n",
              "      <td>Individual</td>\n",
              "      <td>0.0</td>\n",
              "      <td>0.0</td>\n",
              "      <td>0.0</td>\n",
              "      <td>0.0</td>\n",
              "      <td>0.0</td>\n",
              "      <td>N</td>\n",
              "      <td>Cash</td>\n",
              "      <td>N</td>\n",
              "      <td>NaN</td>\n",
              "    </tr>\n",
              "    <tr>\n",
              "      <th>1</th>\n",
              "      <td>10000</td>\n",
              "      <td>10000</td>\n",
              "      <td>10000.0</td>\n",
              "      <td>36 months</td>\n",
              "      <td>13.49</td>\n",
              "      <td>339.31</td>\n",
              "      <td>C</td>\n",
              "      <td>C1</td>\n",
              "      <td>AIR RESOURCES BOARD</td>\n",
              "      <td>10+ years</td>\n",
              "      <td>RENT</td>\n",
              "      <td>49200.0</td>\n",
              "      <td>Source Verified</td>\n",
              "      <td>Dec-2011</td>\n",
              "      <td>Fully Paid</td>\n",
              "      <td>n</td>\n",
              "      <td>other</td>\n",
              "      <td>personel</td>\n",
              "      <td>917xx</td>\n",
              "      <td>CA</td>\n",
              "      <td>20.00</td>\n",
              "      <td>0.0</td>\n",
              "      <td>Feb-1996</td>\n",
              "      <td>1.0</td>\n",
              "      <td>35.0</td>\n",
              "      <td>NaN</td>\n",
              "      <td>10.0</td>\n",
              "      <td>0.0</td>\n",
              "      <td>5598</td>\n",
              "      <td>21.0</td>\n",
              "      <td>37.0</td>\n",
              "      <td>f</td>\n",
              "      <td>0.0</td>\n",
              "      <td>0.0</td>\n",
              "      <td>12231.890000</td>\n",
              "      <td>12231.89</td>\n",
              "      <td>10000.00</td>\n",
              "      <td>2214.92</td>\n",
              "      <td>16.97</td>\n",
              "      <td>0.00</td>\n",
              "      <td>0.00</td>\n",
              "      <td>Jan-2015</td>\n",
              "      <td>357.48</td>\n",
              "      <td>NaN</td>\n",
              "      <td>Apr-2016</td>\n",
              "      <td>0.0</td>\n",
              "      <td>NaN</td>\n",
              "      <td>1</td>\n",
              "      <td>Individual</td>\n",
              "      <td>0.0</td>\n",
              "      <td>0.0</td>\n",
              "      <td>0.0</td>\n",
              "      <td>0.0</td>\n",
              "      <td>0.0</td>\n",
              "      <td>N</td>\n",
              "      <td>Cash</td>\n",
              "      <td>N</td>\n",
              "      <td>NaN</td>\n",
              "    </tr>\n",
              "    <tr>\n",
              "      <th>2</th>\n",
              "      <td>3000</td>\n",
              "      <td>3000</td>\n",
              "      <td>3000.0</td>\n",
              "      <td>36 months</td>\n",
              "      <td>18.64</td>\n",
              "      <td>109.43</td>\n",
              "      <td>E</td>\n",
              "      <td>E1</td>\n",
              "      <td>MKC Accounting</td>\n",
              "      <td>9 years</td>\n",
              "      <td>RENT</td>\n",
              "      <td>48000.0</td>\n",
              "      <td>Source Verified</td>\n",
              "      <td>Dec-2011</td>\n",
              "      <td>Fully Paid</td>\n",
              "      <td>n</td>\n",
              "      <td>car</td>\n",
              "      <td>Car Downpayment</td>\n",
              "      <td>900xx</td>\n",
              "      <td>CA</td>\n",
              "      <td>5.35</td>\n",
              "      <td>0.0</td>\n",
              "      <td>Jan-2007</td>\n",
              "      <td>2.0</td>\n",
              "      <td>NaN</td>\n",
              "      <td>NaN</td>\n",
              "      <td>4.0</td>\n",
              "      <td>0.0</td>\n",
              "      <td>8221</td>\n",
              "      <td>87.5</td>\n",
              "      <td>4.0</td>\n",
              "      <td>f</td>\n",
              "      <td>0.0</td>\n",
              "      <td>0.0</td>\n",
              "      <td>3939.135294</td>\n",
              "      <td>3939.14</td>\n",
              "      <td>3000.00</td>\n",
              "      <td>939.14</td>\n",
              "      <td>0.00</td>\n",
              "      <td>0.00</td>\n",
              "      <td>0.00</td>\n",
              "      <td>Jan-2015</td>\n",
              "      <td>111.34</td>\n",
              "      <td>NaN</td>\n",
              "      <td>Dec-2014</td>\n",
              "      <td>0.0</td>\n",
              "      <td>NaN</td>\n",
              "      <td>1</td>\n",
              "      <td>Individual</td>\n",
              "      <td>0.0</td>\n",
              "      <td>0.0</td>\n",
              "      <td>0.0</td>\n",
              "      <td>0.0</td>\n",
              "      <td>0.0</td>\n",
              "      <td>N</td>\n",
              "      <td>Cash</td>\n",
              "      <td>N</td>\n",
              "      <td>NaN</td>\n",
              "    </tr>\n",
              "    <tr>\n",
              "      <th>3</th>\n",
              "      <td>5600</td>\n",
              "      <td>5600</td>\n",
              "      <td>5600.0</td>\n",
              "      <td>60 months</td>\n",
              "      <td>21.28</td>\n",
              "      <td>152.39</td>\n",
              "      <td>F</td>\n",
              "      <td>F2</td>\n",
              "      <td>NaN</td>\n",
              "      <td>4 years</td>\n",
              "      <td>OWN</td>\n",
              "      <td>40000.0</td>\n",
              "      <td>Source Verified</td>\n",
              "      <td>Dec-2011</td>\n",
              "      <td>Charged Off</td>\n",
              "      <td>n</td>\n",
              "      <td>small_business</td>\n",
              "      <td>Expand Business &amp; Buy Debt Portfolio</td>\n",
              "      <td>958xx</td>\n",
              "      <td>CA</td>\n",
              "      <td>5.55</td>\n",
              "      <td>0.0</td>\n",
              "      <td>Apr-2004</td>\n",
              "      <td>2.0</td>\n",
              "      <td>NaN</td>\n",
              "      <td>NaN</td>\n",
              "      <td>11.0</td>\n",
              "      <td>0.0</td>\n",
              "      <td>5210</td>\n",
              "      <td>32.6</td>\n",
              "      <td>13.0</td>\n",
              "      <td>f</td>\n",
              "      <td>0.0</td>\n",
              "      <td>0.0</td>\n",
              "      <td>647.500000</td>\n",
              "      <td>647.50</td>\n",
              "      <td>162.02</td>\n",
              "      <td>294.94</td>\n",
              "      <td>0.00</td>\n",
              "      <td>190.54</td>\n",
              "      <td>2.09</td>\n",
              "      <td>Apr-2012</td>\n",
              "      <td>152.39</td>\n",
              "      <td>NaN</td>\n",
              "      <td>Oct-2016</td>\n",
              "      <td>0.0</td>\n",
              "      <td>NaN</td>\n",
              "      <td>1</td>\n",
              "      <td>Individual</td>\n",
              "      <td>0.0</td>\n",
              "      <td>0.0</td>\n",
              "      <td>0.0</td>\n",
              "      <td>0.0</td>\n",
              "      <td>0.0</td>\n",
              "      <td>N</td>\n",
              "      <td>Cash</td>\n",
              "      <td>N</td>\n",
              "      <td>NaN</td>\n",
              "    </tr>\n",
              "    <tr>\n",
              "      <th>4</th>\n",
              "      <td>5375</td>\n",
              "      <td>5375</td>\n",
              "      <td>5350.0</td>\n",
              "      <td>60 months</td>\n",
              "      <td>12.69</td>\n",
              "      <td>121.45</td>\n",
              "      <td>B</td>\n",
              "      <td>B5</td>\n",
              "      <td>Starbucks</td>\n",
              "      <td>&lt; 1 year</td>\n",
              "      <td>RENT</td>\n",
              "      <td>15000.0</td>\n",
              "      <td>Verified</td>\n",
              "      <td>Dec-2011</td>\n",
              "      <td>Charged Off</td>\n",
              "      <td>n</td>\n",
              "      <td>other</td>\n",
              "      <td>Building my credit history.</td>\n",
              "      <td>774xx</td>\n",
              "      <td>TX</td>\n",
              "      <td>18.08</td>\n",
              "      <td>0.0</td>\n",
              "      <td>Sep-2004</td>\n",
              "      <td>0.0</td>\n",
              "      <td>NaN</td>\n",
              "      <td>NaN</td>\n",
              "      <td>2.0</td>\n",
              "      <td>0.0</td>\n",
              "      <td>9279</td>\n",
              "      <td>36.5</td>\n",
              "      <td>3.0</td>\n",
              "      <td>f</td>\n",
              "      <td>0.0</td>\n",
              "      <td>0.0</td>\n",
              "      <td>1484.590000</td>\n",
              "      <td>1477.70</td>\n",
              "      <td>673.48</td>\n",
              "      <td>533.42</td>\n",
              "      <td>0.00</td>\n",
              "      <td>277.69</td>\n",
              "      <td>2.52</td>\n",
              "      <td>Nov-2012</td>\n",
              "      <td>121.45</td>\n",
              "      <td>NaN</td>\n",
              "      <td>Dec-2016</td>\n",
              "      <td>0.0</td>\n",
              "      <td>NaN</td>\n",
              "      <td>1</td>\n",
              "      <td>Individual</td>\n",
              "      <td>0.0</td>\n",
              "      <td>0.0</td>\n",
              "      <td>0.0</td>\n",
              "      <td>0.0</td>\n",
              "      <td>0.0</td>\n",
              "      <td>N</td>\n",
              "      <td>Cash</td>\n",
              "      <td>N</td>\n",
              "      <td>NaN</td>\n",
              "    </tr>\n",
              "  </tbody>\n",
              "</table>\n",
              "</div>\n",
              "      <button class=\"colab-df-convert\" onclick=\"convertToInteractive('df-a96c86f5-663a-4e03-9c73-763933fb78c7')\"\n",
              "              title=\"Convert this dataframe to an interactive table.\"\n",
              "              style=\"display:none;\">\n",
              "        \n",
              "  <svg xmlns=\"http://www.w3.org/2000/svg\" height=\"24px\"viewBox=\"0 0 24 24\"\n",
              "       width=\"24px\">\n",
              "    <path d=\"M0 0h24v24H0V0z\" fill=\"none\"/>\n",
              "    <path d=\"M18.56 5.44l.94 2.06.94-2.06 2.06-.94-2.06-.94-.94-2.06-.94 2.06-2.06.94zm-11 1L8.5 8.5l.94-2.06 2.06-.94-2.06-.94L8.5 2.5l-.94 2.06-2.06.94zm10 10l.94 2.06.94-2.06 2.06-.94-2.06-.94-.94-2.06-.94 2.06-2.06.94z\"/><path d=\"M17.41 7.96l-1.37-1.37c-.4-.4-.92-.59-1.43-.59-.52 0-1.04.2-1.43.59L10.3 9.45l-7.72 7.72c-.78.78-.78 2.05 0 2.83L4 21.41c.39.39.9.59 1.41.59.51 0 1.02-.2 1.41-.59l7.78-7.78 2.81-2.81c.8-.78.8-2.07 0-2.86zM5.41 20L4 18.59l7.72-7.72 1.47 1.35L5.41 20z\"/>\n",
              "  </svg>\n",
              "      </button>\n",
              "      \n",
              "  <style>\n",
              "    .colab-df-container {\n",
              "      display:flex;\n",
              "      flex-wrap:wrap;\n",
              "      gap: 12px;\n",
              "    }\n",
              "\n",
              "    .colab-df-convert {\n",
              "      background-color: #E8F0FE;\n",
              "      border: none;\n",
              "      border-radius: 50%;\n",
              "      cursor: pointer;\n",
              "      display: none;\n",
              "      fill: #1967D2;\n",
              "      height: 32px;\n",
              "      padding: 0 0 0 0;\n",
              "      width: 32px;\n",
              "    }\n",
              "\n",
              "    .colab-df-convert:hover {\n",
              "      background-color: #E2EBFA;\n",
              "      box-shadow: 0px 1px 2px rgba(60, 64, 67, 0.3), 0px 1px 3px 1px rgba(60, 64, 67, 0.15);\n",
              "      fill: #174EA6;\n",
              "    }\n",
              "\n",
              "    [theme=dark] .colab-df-convert {\n",
              "      background-color: #3B4455;\n",
              "      fill: #D2E3FC;\n",
              "    }\n",
              "\n",
              "    [theme=dark] .colab-df-convert:hover {\n",
              "      background-color: #434B5C;\n",
              "      box-shadow: 0px 1px 3px 1px rgba(0, 0, 0, 0.15);\n",
              "      filter: drop-shadow(0px 1px 2px rgba(0, 0, 0, 0.3));\n",
              "      fill: #FFFFFF;\n",
              "    }\n",
              "  </style>\n",
              "\n",
              "      <script>\n",
              "        const buttonEl =\n",
              "          document.querySelector('#df-a96c86f5-663a-4e03-9c73-763933fb78c7 button.colab-df-convert');\n",
              "        buttonEl.style.display =\n",
              "          google.colab.kernel.accessAllowed ? 'block' : 'none';\n",
              "\n",
              "        async function convertToInteractive(key) {\n",
              "          const element = document.querySelector('#df-a96c86f5-663a-4e03-9c73-763933fb78c7');\n",
              "          const dataTable =\n",
              "            await google.colab.kernel.invokeFunction('convertToInteractive',\n",
              "                                                     [key], {});\n",
              "          if (!dataTable) return;\n",
              "\n",
              "          const docLinkHtml = 'Like what you see? Visit the ' +\n",
              "            '<a target=\"_blank\" href=https://colab.research.google.com/notebooks/data_table.ipynb>data table notebook</a>'\n",
              "            + ' to learn more about interactive tables.';\n",
              "          element.innerHTML = '';\n",
              "          dataTable['output_type'] = 'display_data';\n",
              "          await google.colab.output.renderOutput(dataTable, element);\n",
              "          const docLink = document.createElement('div');\n",
              "          docLink.innerHTML = docLinkHtml;\n",
              "          element.appendChild(docLink);\n",
              "        }\n",
              "      </script>\n",
              "    </div>\n",
              "  </div>\n",
              "  "
            ]
          },
          "metadata": {},
          "execution_count": 32
        }
      ]
    },
    {
      "cell_type": "code",
      "source": [
        "filterdata=loan_df[loan_df['annual_inc']<300000]\n",
        "plt.scatter(filterdata.annual_inc, filterdata.int_rate)\n",
        "plt.xlabel('Annual Income')\n",
        "plt.ylabel('Interest Rate')\n",
        "plt.title('Scatter plot')\n"
      ],
      "metadata": {
        "colab": {
          "base_uri": "https://localhost:8080/",
          "height": 489
        },
        "id": "j7XhkCnJ5Qlp",
        "outputId": "9e8ca631-d466-4d1d-e950-f30ab721170e"
      },
      "execution_count": 33,
      "outputs": [
        {
          "output_type": "execute_result",
          "data": {
            "text/plain": [
              "Text(0.5, 1.0, 'Scatter plot')"
            ]
          },
          "metadata": {},
          "execution_count": 33
        },
        {
          "output_type": "display_data",
          "data": {
            "text/plain": [
              "<Figure size 640x480 with 1 Axes>"
            ],
            "image/png": "[encoded data removed]"
          },
          "metadata": {}
        }
      ]
    },
    {
      "cell_type": "markdown",
      "metadata": {
        "id": "UWo0VQrMbBqL"
      },
      "source": [
        "### 1.10: Convert Date Column\n",
        "\n",
        "- Converting the **issue_d** column to a datetime type\n",
        "- Creating a new column, **issue_year**, and set it to the year a loan is issued\n",
        "- Displaying the first five rows"
      ]
    },
    {
      "cell_type": "code",
      "execution_count": 34,
      "metadata": {
        "scrolled": true,
        "id": "cPetwBfnbBqL",
        "colab": {
          "base_uri": "https://localhost:8080/"
        },
        "outputId": "3424db46-4b44-425e-ac34-9f334e338603"
      },
      "outputs": [
        {
          "output_type": "execute_result",
          "data": {
            "text/plain": [
              "0   2011-12-01\n",
              "1   2011-12-01\n",
              "2   2011-12-01\n",
              "3   2011-12-01\n",
              "4   2011-12-01\n",
              "Name: issue_d, dtype: datetime64[ns]"
            ]
          },
          "metadata": {},
          "execution_count": 34
        }
      ],
      "source": [
        "loan_df['issue_d']=pd.to_datetime(loan_df['issue_d'])\n",
        "loan_df['issue_d'].head()\n"
      ]
    },
    {
      "cell_type": "code",
      "source": [
        "loan_df['issue_year']=loan_df['issue_d'].dt.year\n",
        "loan_df['issue_year'].head(5)"
      ],
      "metadata": {
        "colab": {
          "base_uri": "https://localhost:8080/"
        },
        "id": "kQnfjtGG9zUj",
        "outputId": "d05b65b0-2c15-4e79-901b-accd4fc15ce8"
      },
      "execution_count": 35,
      "outputs": [
        {
          "output_type": "execute_result",
          "data": {
            "text/plain": [
              "0    2011\n",
              "1    2011\n",
              "2    2011\n",
              "3    2011\n",
              "4    2011\n",
              "Name: issue_year, dtype: int64"
            ]
          },
          "metadata": {},
          "execution_count": 35
        }
      ]
    },
    {
      "cell_type": "markdown",
      "metadata": {
        "id": "29jbUJukbBqM"
      },
      "source": [
        "### 1.11: Loan Issued Over Year\n",
        "\n",
        "Exploring the number of loans issued through LendingClub from 2007-2011.\n",
        "- Getting a count of loans in each year\n",
        "- Plotting a line chart to see the trend, x axis is year, y axis is count."
      ]
    },
    {
      "cell_type": "code",
      "execution_count": 36,
      "metadata": {
        "id": "0RBuVA1QbBqM",
        "colab": {
          "base_uri": "https://localhost:8080/",
          "height": 489
        },
        "outputId": "389240bc-5df9-46bb-d831-4125ed3580e3"
      },
      "outputs": [
        {
          "output_type": "execute_result",
          "data": {
            "text/plain": [
              "Text(0.5, 1.0, 'Loans issued in a particular year')"
            ]
          },
          "metadata": {},
          "execution_count": 36
        },
        {
          "output_type": "display_data",
          "data": {
            "text/plain": [
              "<Figure size 640x480 with 1 Axes>"
            ],
            "image/png": "[encoded data removed]"
          },
          "metadata": {}
        }
      ],
      "source": [
        "ax= loan_df.groupby('issue_year').agg({'annual_inc':'count'}).plot.line()\n",
        "ax.set_xlabel(\"Year\")\n",
        "ax.set_ylabel('Count of loans')\n",
        "ax.set_title('Loans issued in a particular year')"
      ]
    },
    {
      "cell_type": "markdown",
      "metadata": {
        "id": "Cfag3ZGabBqM"
      },
      "source": [
        "### 1.12: Interest Rate Change\n",
        "\n",
        "Exploring the interest rate change in each state over the years.\n",
        "\n",
        "- Creating pivot table, set\n",
        "  - index to issue_year\n",
        "  - columns to addr_state\n",
        "  - values to int_rate\n",
        "  - aggfunc to median\n",
        "- Plotting a line chart to compare median interest rate change over years of the 6 states.\n"
      ]
    },
    {
      "cell_type": "code",
      "execution_count": 37,
      "metadata": {
        "scrolled": true,
        "id": "lDVRHrULbBqM",
        "colab": {
          "base_uri": "https://localhost:8080/",
          "height": 450
        },
        "outputId": "402ef33c-1acc-4d6b-cc32-8cf97cb31d1a"
      },
      "outputs": [
        {
          "output_type": "display_data",
          "data": {
            "text/plain": [
              "<Figure size 640x480 with 1 Axes>"
            ],
            "image/png": "[encoded data removed]"
          },
          "metadata": {}
        }
      ],
      "source": [
        "ax=loan_df.pivot_table(index='issue_year',columns='addr_state',values='int_rate',aggfunc='median').plot.line()"
      ]
    },
    {
      "cell_type": "markdown",
      "metadata": {
        "id": "G4GlTXRJbBqM"
      },
      "source": [
        "### 1.13: Loan Status\n",
        "\n",
        "The loans in the dataset were issued before 2011 and the longest loan term is 5 years. So all the loans are either paid off or charged off.\n",
        "\n",
        "Exploring loan status and finding out:\n",
        "- The number of paid off loans and charged off loans\n",
        "- Paid off rate of the whole dataset.\n",
        "\n",
        "$PaidOffRate = \\frac{FullyPaid}{Fully Paid+Charged Off}$\n"
      ]
    },
    {
      "cell_type": "code",
      "execution_count": 38,
      "metadata": {
        "id": "gPrKjCdDbBqN",
        "colab": {
          "base_uri": "https://localhost:8080/"
        },
        "outputId": "a07a1dee-d525-47e1-b206-a503a4bfb6a0"
      },
      "outputs": [
        {
          "output_type": "execute_result",
          "data": {
            "text/plain": [
              "array(['Fully Paid', 'Charged Off'], dtype=object)"
            ]
          },
          "metadata": {},
          "execution_count": 38
        }
      ],
      "source": [
        "loan_df.loan_status.unique()"
      ]
    },
    {
      "cell_type": "code",
      "source": [
        "a=loan_df[loan_df['loan_status']=='Fully Paid']\n",
        "b=loan_df[loan_df['loan_status']=='Charged Off']\n",
        "a_c=a.loan_status.count()\n",
        "b_c=b.loan_status.count()\n",
        "Paid_Off_rate=a_c/(a_c+b_c)*100\n",
        "Paid_Off_rate\n"
      ],
      "metadata": {
        "colab": {
          "base_uri": "https://localhost:8080/"
        },
        "id": "yGTbQ61CA7jy",
        "outputId": "76f192c4-180d-48d1-d750-a2e25ebe6e05"
      },
      "execution_count": 39,
      "outputs": [
        {
          "output_type": "execute_result",
          "data": {
            "text/plain": [
              "85.21699819168174"
            ]
          },
          "metadata": {},
          "execution_count": 39
        }
      ]
    },
    {
      "cell_type": "markdown",
      "metadata": {
        "id": "3j4Z2xcmbBqN"
      },
      "source": [
        "### 1.14: Loan Term and Loan Status\n",
        "\n",
        "Exploring the payoff rate of three- and five-year loans.\n",
        "\n",
        " Calculating the paid off rate for each loan term with formula $payoffRate = \\frac{FullyPaid}{Fully Paid+Charged Off}$.\n",
        "- Displaying the pivot table.\n"
      ]
    },
    {
      "cell_type": "code",
      "execution_count": 40,
      "metadata": {
        "scrolled": true,
        "id": "1102pp9ybBqN",
        "colab": {
          "base_uri": "https://localhost:8080/",
          "height": 143
        },
        "outputId": "4456f56d-6d15-4a25-d7f8-1f671f7a0a1e"
      },
      "outputs": [
        {
          "output_type": "execute_result",
          "data": {
            "text/plain": [
              "loan_status  Charged Off  Fully Paid  payoffRate\n",
              "term                                            \n",
              "36 months           1728       13124    0.883652\n",
              "60 months           1215        3841    0.759691"
            ],
            "text/html": [
              "\n",
              "  <div id=\"df-121f51dd-a2b3-46b4-b5f2-3c4868bb68a3\">\n",
              "    <div class=\"colab-df-container\">\n",
              "      <div>\n",
              "<style scoped>\n",
              "    .dataframe tbody tr th:only-of-type {\n",
              "        vertical-align: middle;\n",
              "    }\n",
              "\n",
              "    .dataframe tbody tr th {\n",
              "        vertical-align: top;\n",
              "    }\n",
              "\n",
              "    .dataframe thead th {\n",
              "        text-align: right;\n",
              "    }\n",
              "</style>\n",
              "<table border=\"1\" class=\"dataframe\">\n",
              "  <thead>\n",
              "    <tr style=\"text-align: right;\">\n",
              "      <th>loan_status</th>\n",
              "      <th>Charged Off</th>\n",
              "      <th>Fully Paid</th>\n",
              "      <th>payoffRate</th>\n",
              "    </tr>\n",
              "    <tr>\n",
              "      <th>term</th>\n",
              "      <th></th>\n",
              "      <th></th>\n",
              "      <th></th>\n",
              "    </tr>\n",
              "  </thead>\n",
              "  <tbody>\n",
              "    <tr>\n",
              "      <th>36 months</th>\n",
              "      <td>1728</td>\n",
              "      <td>13124</td>\n",
              "      <td>0.883652</td>\n",
              "    </tr>\n",
              "    <tr>\n",
              "      <th>60 months</th>\n",
              "      <td>1215</td>\n",
              "      <td>3841</td>\n",
              "      <td>0.759691</td>\n",
              "    </tr>\n",
              "  </tbody>\n",
              "</table>\n",
              "</div>\n",
              "      <button class=\"colab-df-convert\" onclick=\"convertToInteractive('df-121f51dd-a2b3-46b4-b5f2-3c4868bb68a3')\"\n",
              "              title=\"Convert this dataframe to an interactive table.\"\n",
              "              style=\"display:none;\">\n",
              "        \n",
              "  <svg xmlns=\"http://www.w3.org/2000/svg\" height=\"24px\"viewBox=\"0 0 24 24\"\n",
              "       width=\"24px\">\n",
              "    <path d=\"M0 0h24v24H0V0z\" fill=\"none\"/>\n",
              "    <path d=\"M18.56 5.44l.94 2.06.94-2.06 2.06-.94-2.06-.94-.94-2.06-.94 2.06-2.06.94zm-11 1L8.5 8.5l.94-2.06 2.06-.94-2.06-.94L8.5 2.5l-.94 2.06-2.06.94zm10 10l.94 2.06.94-2.06 2.06-.94-2.06-.94-.94-2.06-.94 2.06-2.06.94z\"/><path d=\"M17.41 7.96l-1.37-1.37c-.4-.4-.92-.59-1.43-.59-.52 0-1.04.2-1.43.59L10.3 9.45l-7.72 7.72c-.78.78-.78 2.05 0 2.83L4 21.41c.39.39.9.59 1.41.59.51 0 1.02-.2 1.41-.59l7.78-7.78 2.81-2.81c.8-.78.8-2.07 0-2.86zM5.41 20L4 18.59l7.72-7.72 1.47 1.35L5.41 20z\"/>\n",
              "  </svg>\n",
              "      </button>\n",
              "      \n",
              "  <style>\n",
              "    .colab-df-container {\n",
              "      display:flex;\n",
              "      flex-wrap:wrap;\n",
              "      gap: 12px;\n",
              "    }\n",
              "\n",
              "    .colab-df-convert {\n",
              "      background-color: #E8F0FE;\n",
              "      border: none;\n",
              "      border-radius: 50%;\n",
              "      cursor: pointer;\n",
              "      display: none;\n",
              "      fill: #1967D2;\n",
              "      height: 32px;\n",
              "      padding: 0 0 0 0;\n",
              "      width: 32px;\n",
              "    }\n",
              "\n",
              "    .colab-df-convert:hover {\n",
              "      background-color: #E2EBFA;\n",
              "      box-shadow: 0px 1px 2px rgba(60, 64, 67, 0.3), 0px 1px 3px 1px rgba(60, 64, 67, 0.15);\n",
              "      fill: #174EA6;\n",
              "    }\n",
              "\n",
              "    [theme=dark] .colab-df-convert {\n",
              "      background-color: #3B4455;\n",
              "      fill: #D2E3FC;\n",
              "    }\n",
              "\n",
              "    [theme=dark] .colab-df-convert:hover {\n",
              "      background-color: #434B5C;\n",
              "      box-shadow: 0px 1px 3px 1px rgba(0, 0, 0, 0.15);\n",
              "      filter: drop-shadow(0px 1px 2px rgba(0, 0, 0, 0.3));\n",
              "      fill: #FFFFFF;\n",
              "    }\n",
              "  </style>\n",
              "\n",
              "      <script>\n",
              "        const buttonEl =\n",
              "          document.querySelector('#df-121f51dd-a2b3-46b4-b5f2-3c4868bb68a3 button.colab-df-convert');\n",
              "        buttonEl.style.display =\n",
              "          google.colab.kernel.accessAllowed ? 'block' : 'none';\n",
              "\n",
              "        async function convertToInteractive(key) {\n",
              "          const element = document.querySelector('#df-121f51dd-a2b3-46b4-b5f2-3c4868bb68a3');\n",
              "          const dataTable =\n",
              "            await google.colab.kernel.invokeFunction('convertToInteractive',\n",
              "                                                     [key], {});\n",
              "          if (!dataTable) return;\n",
              "\n",
              "          const docLinkHtml = 'Like what you see? Visit the ' +\n",
              "            '<a target=\"_blank\" href=https://colab.research.google.com/notebooks/data_table.ipynb>data table notebook</a>'\n",
              "            + ' to learn more about interactive tables.';\n",
              "          element.innerHTML = '';\n",
              "          dataTable['output_type'] = 'display_data';\n",
              "          await google.colab.output.renderOutput(dataTable, element);\n",
              "          const docLink = document.createElement('div');\n",
              "          docLink.innerHTML = docLinkHtml;\n",
              "          element.appendChild(docLink);\n",
              "        }\n",
              "      </script>\n",
              "    </div>\n",
              "  </div>\n",
              "  "
            ]
          },
          "metadata": {},
          "execution_count": 40
        }
      ],
      "source": [
        "pt_term=loan_df.pivot_table(index='term',columns='loan_status',values='int_rate',aggfunc='count')\n",
        "pt_term['payoffRate']=pt_term['Fully Paid']/(pt_term['Fully Paid']+pt_term['Charged Off'])\n",
        "pt_term"
      ]
    },
    {
      "cell_type": "markdown",
      "metadata": {
        "id": "fPBT-XvhbBqN"
      },
      "source": [
        "### 1.15: Loan Grade and Loan Status\n",
        "\n",
        "Exploring the payoff rate of different loan grade.\n",
        "\n",
        "Calculating the paid off rate for each loan grade with formula $payoffRate = \\frac{FullyPaid}{Fully Paid+Charged Off}$.\n",
        "- Displaying the pivot table."
      ]
    },
    {
      "cell_type": "code",
      "execution_count": null,
      "metadata": {
        "id": "xO1fGy1ebBqR",
        "colab": {
          "base_uri": "https://localhost:8080/",
          "height": 300
        },
        "outputId": "5950a3fe-92e5-443c-bcdb-ae7ac2bbff81"
      },
      "outputs": [
        {
          "output_type": "execute_result",
          "data": {
            "text/plain": [
              "loan_status  Charged Off  Fully Paid  payoffRate\n",
              "grade                                           \n",
              "A                    304        4571    0.937641\n",
              "B                    779        5286    0.871558\n",
              "C                    672        3415    0.835576\n",
              "D                    579        2169    0.789301\n",
              "E                    378        1056    0.736402\n",
              "F                    174         366    0.677778\n",
              "G                     57         102    0.641509"
            ],
            "text/html": [
              "\n",
              "  <div id=\"df-feab9758-37fb-4950-8c0a-b66db5596083\">\n",
              "    <div class=\"colab-df-container\">\n",
              "      <div>\n",
              "<style scoped>\n",
              "    .dataframe tbody tr th:only-of-type {\n",
              "        vertical-align: middle;\n",
              "    }\n",
              "\n",
              "    .dataframe tbody tr th {\n",
              "        vertical-align: top;\n",
              "    }\n",
              "\n",
              "    .dataframe thead th {\n",
              "        text-align: right;\n",
              "    }\n",
              "</style>\n",
              "<table border=\"1\" class=\"dataframe\">\n",
              "  <thead>\n",
              "    <tr style=\"text-align: right;\">\n",
              "      <th>loan_status</th>\n",
              "      <th>Charged Off</th>\n",
              "      <th>Fully Paid</th>\n",
              "      <th>payoffRate</th>\n",
              "    </tr>\n",
              "    <tr>\n",
              "      <th>grade</th>\n",
              "      <th></th>\n",
              "      <th></th>\n",
              "      <th></th>\n",
              "    </tr>\n",
              "  </thead>\n",
              "  <tbody>\n",
              "    <tr>\n",
              "      <th>A</th>\n",
              "      <td>304</td>\n",
              "      <td>4571</td>\n",
              "      <td>0.937641</td>\n",
              "    </tr>\n",
              "    <tr>\n",
              "      <th>B</th>\n",
              "      <td>779</td>\n",
              "      <td>5286</td>\n",
              "      <td>0.871558</td>\n",
              "    </tr>\n",
              "    <tr>\n",
              "      <th>C</th>\n",
              "      <td>672</td>\n",
              "      <td>3415</td>\n",
              "      <td>0.835576</td>\n",
              "    </tr>\n",
              "    <tr>\n",
              "      <th>D</th>\n",
              "      <td>579</td>\n",
              "      <td>2169</td>\n",
              "      <td>0.789301</td>\n",
              "    </tr>\n",
              "    <tr>\n",
              "      <th>E</th>\n",
              "      <td>378</td>\n",
              "      <td>1056</td>\n",
              "      <td>0.736402</td>\n",
              "    </tr>\n",
              "    <tr>\n",
              "      <th>F</th>\n",
              "      <td>174</td>\n",
              "      <td>366</td>\n",
              "      <td>0.677778</td>\n",
              "    </tr>\n",
              "    <tr>\n",
              "      <th>G</th>\n",
              "      <td>57</td>\n",
              "      <td>102</td>\n",
              "      <td>0.641509</td>\n",
              "    </tr>\n",
              "  </tbody>\n",
              "</table>\n",
              "</div>\n",
              "      <button class=\"colab-df-convert\" onclick=\"convertToInteractive('df-feab9758-37fb-4950-8c0a-b66db5596083')\"\n",
              "              title=\"Convert this dataframe to an interactive table.\"\n",
              "              style=\"display:none;\">\n",
              "        \n",
              "  <svg xmlns=\"http://www.w3.org/2000/svg\" height=\"24px\"viewBox=\"0 0 24 24\"\n",
              "       width=\"24px\">\n",
              "    <path d=\"M0 0h24v24H0V0z\" fill=\"none\"/>\n",
              "    <path d=\"M18.56 5.44l.94 2.06.94-2.06 2.06-.94-2.06-.94-.94-2.06-.94 2.06-2.06.94zm-11 1L8.5 8.5l.94-2.06 2.06-.94-2.06-.94L8.5 2.5l-.94 2.06-2.06.94zm10 10l.94 2.06.94-2.06 2.06-.94-2.06-.94-.94-2.06-.94 2.06-2.06.94z\"/><path d=\"M17.41 7.96l-1.37-1.37c-.4-.4-.92-.59-1.43-.59-.52 0-1.04.2-1.43.59L10.3 9.45l-7.72 7.72c-.78.78-.78 2.05 0 2.83L4 21.41c.39.39.9.59 1.41.59.51 0 1.02-.2 1.41-.59l7.78-7.78 2.81-2.81c.8-.78.8-2.07 0-2.86zM5.41 20L4 18.59l7.72-7.72 1.47 1.35L5.41 20z\"/>\n",
              "  </svg>\n",
              "      </button>\n",
              "      \n",
              "  <style>\n",
              "    .colab-df-container {\n",
              "      display:flex;\n",
              "      flex-wrap:wrap;\n",
              "      gap: 12px;\n",
              "    }\n",
              "\n",
              "    .colab-df-convert {\n",
              "      background-color: #E8F0FE;\n",
              "      border: none;\n",
              "      border-radius: 50%;\n",
              "      cursor: pointer;\n",
              "      display: none;\n",
              "      fill: #1967D2;\n",
              "      height: 32px;\n",
              "      padding: 0 0 0 0;\n",
              "      width: 32px;\n",
              "    }\n",
              "\n",
              "    .colab-df-convert:hover {\n",
              "      background-color: #E2EBFA;\n",
              "      box-shadow: 0px 1px 2px rgba(60, 64, 67, 0.3), 0px 1px 3px 1px rgba(60, 64, 67, 0.15);\n",
              "      fill: #174EA6;\n",
              "    }\n",
              "\n",
              "    [theme=dark] .colab-df-convert {\n",
              "      background-color: #3B4455;\n",
              "      fill: #D2E3FC;\n",
              "    }\n",
              "\n",
              "    [theme=dark] .colab-df-convert:hover {\n",
              "      background-color: #434B5C;\n",
              "      box-shadow: 0px 1px 3px 1px rgba(0, 0, 0, 0.15);\n",
              "      filter: drop-shadow(0px 1px 2px rgba(0, 0, 0, 0.3));\n",
              "      fill: #FFFFFF;\n",
              "    }\n",
              "  </style>\n",
              "\n",
              "      <script>\n",
              "        const buttonEl =\n",
              "          document.querySelector('#df-feab9758-37fb-4950-8c0a-b66db5596083 button.colab-df-convert');\n",
              "        buttonEl.style.display =\n",
              "          google.colab.kernel.accessAllowed ? 'block' : 'none';\n",
              "\n",
              "        async function convertToInteractive(key) {\n",
              "          const element = document.querySelector('#df-feab9758-37fb-4950-8c0a-b66db5596083');\n",
              "          const dataTable =\n",
              "            await google.colab.kernel.invokeFunction('convertToInteractive',\n",
              "                                                     [key], {});\n",
              "          if (!dataTable) return;\n",
              "\n",
              "          const docLinkHtml = 'Like what you see? Visit the ' +\n",
              "            '<a target=\"_blank\" href=https://colab.research.google.com/notebooks/data_table.ipynb>data table notebook</a>'\n",
              "            + ' to learn more about interactive tables.';\n",
              "          element.innerHTML = '';\n",
              "          dataTable['output_type'] = 'display_data';\n",
              "          await google.colab.output.renderOutput(dataTable, element);\n",
              "          const docLink = document.createElement('div');\n",
              "          docLink.innerHTML = docLinkHtml;\n",
              "          element.appendChild(docLink);\n",
              "        }\n",
              "      </script>\n",
              "    </div>\n",
              "  </div>\n",
              "  "
            ]
          },
          "metadata": {},
          "execution_count": 103
        }
      ],
      "source": [
        "pt_grade=loan_df.pivot_table(index='grade',columns='loan_status',values='int_rate',aggfunc='count')\n",
        "pt_grade['payoffRate']=pt_grade['Fully Paid']/(pt_grade['Fully Paid']+pt_grade['Charged Off'])\n",
        "pt_grade"
      ]
    },
    {
      "cell_type": "markdown",
      "metadata": {
        "id": "rzemRSz_bBqR"
      },
      "source": [
        "\n",
        "\n",
        "##  2: Data Preparation, Modeling and Model Evaluation"
      ]
    },
    {
      "cell_type": "markdown",
      "metadata": {
        "id": "teQD1HkWbBqR"
      },
      "source": [
        "\n",
        "## Data Preparation\n",
        "\n",
        "Data preparation cleans up data, deals with missing values and creates new features through feature engineering."
      ]
    },
    {
      "cell_type": "markdown",
      "metadata": {
        "id": "In6JaWTdbBqR"
      },
      "source": [
        "### Loan Status\n",
        "\n",
        "The dataset has loans initiated from 2007 to 2011. All loans have been either fully paid or charged off. So I will create a 'repaid' column in loan_df by encoding loan status and map Charged Off to 0 and Fully Paid to 1.\n",
        "\n"
      ]
    },
    {
      "cell_type": "code",
      "execution_count": 41,
      "metadata": {
        "id": "SBzcZGJwbBqR",
        "colab": {
          "base_uri": "https://localhost:8080/"
        },
        "outputId": "62089917-7b67-4c7c-b4b7-ee351ae57bb6"
      },
      "outputs": [
        {
          "output_type": "execute_result",
          "data": {
            "text/plain": [
              "Fully Paid     16965\n",
              "Charged Off     2943\n",
              "Name: loan_status, dtype: int64"
            ]
          },
          "metadata": {},
          "execution_count": 41
        }
      ],
      "source": [
        "loan_df.loan_status.value_counts()"
      ]
    },
    {
      "cell_type": "code",
      "execution_count": 42,
      "metadata": {
        "id": "C31G3NItbBqS",
        "colab": {
          "base_uri": "https://localhost:8080/"
        },
        "outputId": "beefb669-b25f-4c33-b1c2-179ee67e8d1f"
      },
      "outputs": [
        {
          "output_type": "execute_result",
          "data": {
            "text/plain": [
              "1    16965\n",
              "0     2943\n",
              "Name: repaid, dtype: int64"
            ]
          },
          "metadata": {},
          "execution_count": 42
        }
      ],
      "source": [
        "mapping_dict = {'Charged Off':0, 'Fully Paid':1}\n",
        "loan_df['repaid'] = loan_df.loan_status.map(mapping_dict)\n",
        "loan_df.repaid.value_counts()\n"
      ]
    },
    {
      "cell_type": "markdown",
      "metadata": {
        "id": "7Vam9QwjbBqS"
      },
      "source": [
        "### Paid Off Rate\n",
        "With the newly created repaid column, I can calculate paid-off rate of all the loans in the dataset with the mean value of the column, which is about 85%, as shown in the next code cell."
      ]
    },
    {
      "cell_type": "code",
      "execution_count": 43,
      "metadata": {
        "id": "aLXph7L-bBqS",
        "colab": {
          "base_uri": "https://localhost:8080/"
        },
        "outputId": "bcd3b7c2-41ea-40a0-f0d5-2e13c20736b7"
      },
      "outputs": [
        {
          "output_type": "execute_result",
          "data": {
            "text/plain": [
              "0.8521699819168174"
            ]
          },
          "metadata": {},
          "execution_count": 43
        }
      ],
      "source": [
        "loan_df.repaid.mean()"
      ]
    },
    {
      "cell_type": "markdown",
      "metadata": {
        "id": "FBT3dgwqbBqS"
      },
      "source": [
        "\n",
        "### 2.1: Loan Term in Year\n",
        "\n",
        "Creating a new column `loan_term_year` in loan_df, which has integer value 3 if the loan term is '36 months', and 5 if the loan term is '60 months'.\n",
        "\n",
        "Then calculating repaid rate of loans with different loan_term_year."
      ]
    },
    {
      "cell_type": "code",
      "execution_count": 44,
      "metadata": {
        "id": "RNi1blfibBqS",
        "colab": {
          "base_uri": "https://localhost:8080/"
        },
        "outputId": "5540e2c1-2cc6-4c29-e6a0-564345c3b4ad"
      },
      "outputs": [
        {
          "output_type": "execute_result",
          "data": {
            "text/plain": [
              "0    3\n",
              "1    3\n",
              "2    3\n",
              "3    5\n",
              "4    5\n",
              "Name: loan_term_year, dtype: int64"
            ]
          },
          "metadata": {},
          "execution_count": 44
        }
      ],
      "source": [
        "mapping_loanterm={'36 months':3,'60 months':5}\n",
        "loan_df['loan_term_year']=loan_df.term.map(mapping_loanterm)\n",
        "loan_df.loan_term_year.head()"
      ]
    },
    {
      "cell_type": "code",
      "source": [
        "repaid_rate=loan_df.groupby('loan_term_year').agg({'repaid':'mean'})\n",
        "repaid_rate"
      ],
      "metadata": {
        "colab": {
          "base_uri": "https://localhost:8080/",
          "height": 143
        },
        "id": "DzbmX4V-T6sg",
        "outputId": "1efe428c-21f1-4215-b6b6-a896a9c1fab0"
      },
      "execution_count": 45,
      "outputs": [
        {
          "output_type": "execute_result",
          "data": {
            "text/plain": [
              "                  repaid\n",
              "loan_term_year          \n",
              "3               0.883652\n",
              "5               0.759691"
            ],
            "text/html": [
              "\n",
              "  <div id=\"df-38d3a21d-3104-472b-8a42-51bc5a6cc035\">\n",
              "    <div class=\"colab-df-container\">\n",
              "      <div>\n",
              "<style scoped>\n",
              "    .dataframe tbody tr th:only-of-type {\n",
              "        vertical-align: middle;\n",
              "    }\n",
              "\n",
              "    .dataframe tbody tr th {\n",
              "        vertical-align: top;\n",
              "    }\n",
              "\n",
              "    .dataframe thead th {\n",
              "        text-align: right;\n",
              "    }\n",
              "</style>\n",
              "<table border=\"1\" class=\"dataframe\">\n",
              "  <thead>\n",
              "    <tr style=\"text-align: right;\">\n",
              "      <th></th>\n",
              "      <th>repaid</th>\n",
              "    </tr>\n",
              "    <tr>\n",
              "      <th>loan_term_year</th>\n",
              "      <th></th>\n",
              "    </tr>\n",
              "  </thead>\n",
              "  <tbody>\n",
              "    <tr>\n",
              "      <th>3</th>\n",
              "      <td>0.883652</td>\n",
              "    </tr>\n",
              "    <tr>\n",
              "      <th>5</th>\n",
              "      <td>0.759691</td>\n",
              "    </tr>\n",
              "  </tbody>\n",
              "</table>\n",
              "</div>\n",
              "      <button class=\"colab-df-convert\" onclick=\"convertToInteractive('df-38d3a21d-3104-472b-8a42-51bc5a6cc035')\"\n",
              "              title=\"Convert this dataframe to an interactive table.\"\n",
              "              style=\"display:none;\">\n",
              "        \n",
              "  <svg xmlns=\"http://www.w3.org/2000/svg\" height=\"24px\"viewBox=\"0 0 24 24\"\n",
              "       width=\"24px\">\n",
              "    <path d=\"M0 0h24v24H0V0z\" fill=\"none\"/>\n",
              "    <path d=\"M18.56 5.44l.94 2.06.94-2.06 2.06-.94-2.06-.94-.94-2.06-.94 2.06-2.06.94zm-11 1L8.5 8.5l.94-2.06 2.06-.94-2.06-.94L8.5 2.5l-.94 2.06-2.06.94zm10 10l.94 2.06.94-2.06 2.06-.94-2.06-.94-.94-2.06-.94 2.06-2.06.94z\"/><path d=\"M17.41 7.96l-1.37-1.37c-.4-.4-.92-.59-1.43-.59-.52 0-1.04.2-1.43.59L10.3 9.45l-7.72 7.72c-.78.78-.78 2.05 0 2.83L4 21.41c.39.39.9.59 1.41.59.51 0 1.02-.2 1.41-.59l7.78-7.78 2.81-2.81c.8-.78.8-2.07 0-2.86zM5.41 20L4 18.59l7.72-7.72 1.47 1.35L5.41 20z\"/>\n",
              "  </svg>\n",
              "      </button>\n",
              "      \n",
              "  <style>\n",
              "    .colab-df-container {\n",
              "      display:flex;\n",
              "      flex-wrap:wrap;\n",
              "      gap: 12px;\n",
              "    }\n",
              "\n",
              "    .colab-df-convert {\n",
              "      background-color: #E8F0FE;\n",
              "      border: none;\n",
              "      border-radius: 50%;\n",
              "      cursor: pointer;\n",
              "      display: none;\n",
              "      fill: #1967D2;\n",
              "      height: 32px;\n",
              "      padding: 0 0 0 0;\n",
              "      width: 32px;\n",
              "    }\n",
              "\n",
              "    .colab-df-convert:hover {\n",
              "      background-color: #E2EBFA;\n",
              "      box-shadow: 0px 1px 2px rgba(60, 64, 67, 0.3), 0px 1px 3px 1px rgba(60, 64, 67, 0.15);\n",
              "      fill: #174EA6;\n",
              "    }\n",
              "\n",
              "    [theme=dark] .colab-df-convert {\n",
              "      background-color: #3B4455;\n",
              "      fill: #D2E3FC;\n",
              "    }\n",
              "\n",
              "    [theme=dark] .colab-df-convert:hover {\n",
              "      background-color: #434B5C;\n",
              "      box-shadow: 0px 1px 3px 1px rgba(0, 0, 0, 0.15);\n",
              "      filter: drop-shadow(0px 1px 2px rgba(0, 0, 0, 0.3));\n",
              "      fill: #FFFFFF;\n",
              "    }\n",
              "  </style>\n",
              "\n",
              "      <script>\n",
              "        const buttonEl =\n",
              "          document.querySelector('#df-38d3a21d-3104-472b-8a42-51bc5a6cc035 button.colab-df-convert');\n",
              "        buttonEl.style.display =\n",
              "          google.colab.kernel.accessAllowed ? 'block' : 'none';\n",
              "\n",
              "        async function convertToInteractive(key) {\n",
              "          const element = document.querySelector('#df-38d3a21d-3104-472b-8a42-51bc5a6cc035');\n",
              "          const dataTable =\n",
              "            await google.colab.kernel.invokeFunction('convertToInteractive',\n",
              "                                                     [key], {});\n",
              "          if (!dataTable) return;\n",
              "\n",
              "          const docLinkHtml = 'Like what you see? Visit the ' +\n",
              "            '<a target=\"_blank\" href=https://colab.research.google.com/notebooks/data_table.ipynb>data table notebook</a>'\n",
              "            + ' to learn more about interactive tables.';\n",
              "          element.innerHTML = '';\n",
              "          dataTable['output_type'] = 'display_data';\n",
              "          await google.colab.output.renderOutput(dataTable, element);\n",
              "          const docLink = document.createElement('div');\n",
              "          docLink.innerHTML = docLinkHtml;\n",
              "          element.appendChild(docLink);\n",
              "        }\n",
              "      </script>\n",
              "    </div>\n",
              "  </div>\n",
              "  "
            ]
          },
          "metadata": {},
          "execution_count": 45
        }
      ]
    },
    {
      "cell_type": "markdown",
      "metadata": {
        "id": "HVUwY0KlbBqS"
      },
      "source": [
        "### 2.2: Encode Categorical Features\n",
        "\n",
        "Exploring the relationship between following categorical features and repaid.\n",
        "- purpose\n",
        "- grade\n",
        "- home_ownership\n",
        "- addr_state\n",
        "\n",
        "Then encoding them with label encoding and creating following new columns in loan_df.\n",
        "\n",
        "- purpose_code\n",
        "- grade_code\n",
        "- home_ownership_code\n",
        "- addr_state_code\n",
        "\n",
        "Checking if there are missing values in the newly created features.\n"
      ]
    },
    {
      "cell_type": "code",
      "execution_count": 46,
      "metadata": {
        "id": "aUZCg6YubBqT",
        "colab": {
          "base_uri": "https://localhost:8080/",
          "height": 519
        },
        "outputId": "c5ebd70d-d5d6-45d9-b561-d36d1ea4725a"
      },
      "outputs": [
        {
          "output_type": "execute_result",
          "data": {
            "text/plain": [
              "                      repaid  issue_d\n",
              "purpose                              \n",
              "small_business      0.728177      905\n",
              "educational         0.801242      161\n",
              "house               0.823864      176\n",
              "moving              0.829653      317\n",
              "other               0.843689     2060\n",
              "debt_consolidation  0.845670     9389\n",
              "medical             0.854286      350\n",
              "vacation            0.859296      199\n",
              "renewable_energy    0.862745       51\n",
              "home_improvement    0.875188     1330\n",
              "credit_card         0.885757     2696\n",
              "major_purchase      0.887405     1048\n",
              "car                 0.892285      687\n",
              "wedding             0.894249      539"
            ],
            "text/html": [
              "\n",
              "  <div id=\"df-7912b697-b399-45e4-a06e-ddb222298c14\">\n",
              "    <div class=\"colab-df-container\">\n",
              "      <div>\n",
              "<style scoped>\n",
              "    .dataframe tbody tr th:only-of-type {\n",
              "        vertical-align: middle;\n",
              "    }\n",
              "\n",
              "    .dataframe tbody tr th {\n",
              "        vertical-align: top;\n",
              "    }\n",
              "\n",
              "    .dataframe thead th {\n",
              "        text-align: right;\n",
              "    }\n",
              "</style>\n",
              "<table border=\"1\" class=\"dataframe\">\n",
              "  <thead>\n",
              "    <tr style=\"text-align: right;\">\n",
              "      <th></th>\n",
              "      <th>repaid</th>\n",
              "      <th>issue_d</th>\n",
              "    </tr>\n",
              "    <tr>\n",
              "      <th>purpose</th>\n",
              "      <th></th>\n",
              "      <th></th>\n",
              "    </tr>\n",
              "  </thead>\n",
              "  <tbody>\n",
              "    <tr>\n",
              "      <th>small_business</th>\n",
              "      <td>0.728177</td>\n",
              "      <td>905</td>\n",
              "    </tr>\n",
              "    <tr>\n",
              "      <th>educational</th>\n",
              "      <td>0.801242</td>\n",
              "      <td>161</td>\n",
              "    </tr>\n",
              "    <tr>\n",
              "      <th>house</th>\n",
              "      <td>0.823864</td>\n",
              "      <td>176</td>\n",
              "    </tr>\n",
              "    <tr>\n",
              "      <th>moving</th>\n",
              "      <td>0.829653</td>\n",
              "      <td>317</td>\n",
              "    </tr>\n",
              "    <tr>\n",
              "      <th>other</th>\n",
              "      <td>0.843689</td>\n",
              "      <td>2060</td>\n",
              "    </tr>\n",
              "    <tr>\n",
              "      <th>debt_consolidation</th>\n",
              "      <td>0.845670</td>\n",
              "      <td>9389</td>\n",
              "    </tr>\n",
              "    <tr>\n",
              "      <th>medical</th>\n",
              "      <td>0.854286</td>\n",
              "      <td>350</td>\n",
              "    </tr>\n",
              "    <tr>\n",
              "      <th>vacation</th>\n",
              "      <td>0.859296</td>\n",
              "      <td>199</td>\n",
              "    </tr>\n",
              "    <tr>\n",
              "      <th>renewable_energy</th>\n",
              "      <td>0.862745</td>\n",
              "      <td>51</td>\n",
              "    </tr>\n",
              "    <tr>\n",
              "      <th>home_improvement</th>\n",
              "      <td>0.875188</td>\n",
              "      <td>1330</td>\n",
              "    </tr>\n",
              "    <tr>\n",
              "      <th>credit_card</th>\n",
              "      <td>0.885757</td>\n",
              "      <td>2696</td>\n",
              "    </tr>\n",
              "    <tr>\n",
              "      <th>major_purchase</th>\n",
              "      <td>0.887405</td>\n",
              "      <td>1048</td>\n",
              "    </tr>\n",
              "    <tr>\n",
              "      <th>car</th>\n",
              "      <td>0.892285</td>\n",
              "      <td>687</td>\n",
              "    </tr>\n",
              "    <tr>\n",
              "      <th>wedding</th>\n",
              "      <td>0.894249</td>\n",
              "      <td>539</td>\n",
              "    </tr>\n",
              "  </tbody>\n",
              "</table>\n",
              "</div>\n",
              "      <button class=\"colab-df-convert\" onclick=\"convertToInteractive('df-7912b697-b399-45e4-a06e-ddb222298c14')\"\n",
              "              title=\"Convert this dataframe to an interactive table.\"\n",
              "              style=\"display:none;\">\n",
              "        \n",
              "  <svg xmlns=\"http://www.w3.org/2000/svg\" height=\"24px\"viewBox=\"0 0 24 24\"\n",
              "       width=\"24px\">\n",
              "    <path d=\"M0 0h24v24H0V0z\" fill=\"none\"/>\n",
              "    <path d=\"M18.56 5.44l.94 2.06.94-2.06 2.06-.94-2.06-.94-.94-2.06-.94 2.06-2.06.94zm-11 1L8.5 8.5l.94-2.06 2.06-.94-2.06-.94L8.5 2.5l-.94 2.06-2.06.94zm10 10l.94 2.06.94-2.06 2.06-.94-2.06-.94-.94-2.06-.94 2.06-2.06.94z\"/><path d=\"M17.41 7.96l-1.37-1.37c-.4-.4-.92-.59-1.43-.59-.52 0-1.04.2-1.43.59L10.3 9.45l-7.72 7.72c-.78.78-.78 2.05 0 2.83L4 21.41c.39.39.9.59 1.41.59.51 0 1.02-.2 1.41-.59l7.78-7.78 2.81-2.81c.8-.78.8-2.07 0-2.86zM5.41 20L4 18.59l7.72-7.72 1.47 1.35L5.41 20z\"/>\n",
              "  </svg>\n",
              "      </button>\n",
              "      \n",
              "  <style>\n",
              "    .colab-df-container {\n",
              "      display:flex;\n",
              "      flex-wrap:wrap;\n",
              "      gap: 12px;\n",
              "    }\n",
              "\n",
              "    .colab-df-convert {\n",
              "      background-color: #E8F0FE;\n",
              "      border: none;\n",
              "      border-radius: 50%;\n",
              "      cursor: pointer;\n",
              "      display: none;\n",
              "      fill: #1967D2;\n",
              "      height: 32px;\n",
              "      padding: 0 0 0 0;\n",
              "      width: 32px;\n",
              "    }\n",
              "\n",
              "    .colab-df-convert:hover {\n",
              "      background-color: #E2EBFA;\n",
              "      box-shadow: 0px 1px 2px rgba(60, 64, 67, 0.3), 0px 1px 3px 1px rgba(60, 64, 67, 0.15);\n",
              "      fill: #174EA6;\n",
              "    }\n",
              "\n",
              "    [theme=dark] .colab-df-convert {\n",
              "      background-color: #3B4455;\n",
              "      fill: #D2E3FC;\n",
              "    }\n",
              "\n",
              "    [theme=dark] .colab-df-convert:hover {\n",
              "      background-color: #434B5C;\n",
              "      box-shadow: 0px 1px 3px 1px rgba(0, 0, 0, 0.15);\n",
              "      filter: drop-shadow(0px 1px 2px rgba(0, 0, 0, 0.3));\n",
              "      fill: #FFFFFF;\n",
              "    }\n",
              "  </style>\n",
              "\n",
              "      <script>\n",
              "        const buttonEl =\n",
              "          document.querySelector('#df-7912b697-b399-45e4-a06e-ddb222298c14 button.colab-df-convert');\n",
              "        buttonEl.style.display =\n",
              "          google.colab.kernel.accessAllowed ? 'block' : 'none';\n",
              "\n",
              "        async function convertToInteractive(key) {\n",
              "          const element = document.querySelector('#df-7912b697-b399-45e4-a06e-ddb222298c14');\n",
              "          const dataTable =\n",
              "            await google.colab.kernel.invokeFunction('convertToInteractive',\n",
              "                                                     [key], {});\n",
              "          if (!dataTable) return;\n",
              "\n",
              "          const docLinkHtml = 'Like what you see? Visit the ' +\n",
              "            '<a target=\"_blank\" href=https://colab.research.google.com/notebooks/data_table.ipynb>data table notebook</a>'\n",
              "            + ' to learn more about interactive tables.';\n",
              "          element.innerHTML = '';\n",
              "          dataTable['output_type'] = 'display_data';\n",
              "          await google.colab.output.renderOutput(dataTable, element);\n",
              "          const docLink = document.createElement('div');\n",
              "          docLink.innerHTML = docLinkHtml;\n",
              "          element.appendChild(docLink);\n",
              "        }\n",
              "      </script>\n",
              "    </div>\n",
              "  </div>\n",
              "  "
            ]
          },
          "metadata": {},
          "execution_count": 46
        }
      ],
      "source": [
        "#relationship between purpose and repaid rate\n",
        "loan_df.groupby('purpose').agg({'repaid':'mean', 'issue_d':'count'}).sort_values(by='repaid')"
      ]
    },
    {
      "cell_type": "code",
      "execution_count": 47,
      "metadata": {
        "id": "s_dA7ze7bBqT",
        "colab": {
          "base_uri": "https://localhost:8080/"
        },
        "outputId": "b73801d5-b6a8-4d59-a733-44b6d0dd9122"
      },
      "outputs": [
        {
          "output_type": "execute_result",
          "data": {
            "text/plain": [
              "0    11\n",
              "1     9\n",
              "2     0\n",
              "3    11\n",
              "4     9\n",
              "Name: purpose_code, dtype: int64"
            ]
          },
          "metadata": {},
          "execution_count": 47
        }
      ],
      "source": [
        "#encode purpose to create purpose_code\n",
        "from sklearn.preprocessing import LabelEncoder\n",
        "\n",
        "le = LabelEncoder()\n",
        "loan_df['purpose_code'] = le.fit_transform(loan_df.purpose)\n",
        "\n",
        "loan_df['purpose_code'].head()"
      ]
    },
    {
      "cell_type": "code",
      "source": [
        "loan_df['purpose'].head()"
      ],
      "metadata": {
        "colab": {
          "base_uri": "https://localhost:8080/"
        },
        "id": "DUl5c2RgZLgp",
        "outputId": "0981bfd4-19c0-45eb-e039-fe7b4627b770"
      },
      "execution_count": 48,
      "outputs": [
        {
          "output_type": "execute_result",
          "data": {
            "text/plain": [
              "0    small_business\n",
              "1             other\n",
              "2               car\n",
              "3    small_business\n",
              "4             other\n",
              "Name: purpose, dtype: object"
            ]
          },
          "metadata": {},
          "execution_count": 48
        }
      ]
    },
    {
      "cell_type": "markdown",
      "metadata": {
        "id": "IpR27kORbBqT"
      },
      "source": [
        "#### Your Code"
      ]
    },
    {
      "cell_type": "code",
      "execution_count": 49,
      "metadata": {
        "id": "dUbhhMvXbBqT",
        "colab": {
          "base_uri": "https://localhost:8080/"
        },
        "outputId": "5a51b044-b473-4cf9-aff5-8d5ae4137446"
      },
      "outputs": [
        {
          "output_type": "execute_result",
          "data": {
            "text/plain": [
              "0    2\n",
              "1    2\n",
              "2    4\n",
              "3    5\n",
              "4    1\n",
              "Name: grade_code, dtype: int64"
            ]
          },
          "metadata": {},
          "execution_count": 49
        }
      ],
      "source": [
        "loan_df['grade_code'] = le.fit_transform(loan_df.grade)\n",
        "loan_df.grade_code.head()"
      ]
    },
    {
      "cell_type": "code",
      "source": [
        "loan_df.grade.head()"
      ],
      "metadata": {
        "colab": {
          "base_uri": "https://localhost:8080/"
        },
        "id": "f7r95F6YZtA5",
        "outputId": "99eb6df1-4fb4-495d-e96f-bf466a9333ea"
      },
      "execution_count": 50,
      "outputs": [
        {
          "output_type": "execute_result",
          "data": {
            "text/plain": [
              "0    C\n",
              "1    C\n",
              "2    E\n",
              "3    F\n",
              "4    B\n",
              "Name: grade, dtype: object"
            ]
          },
          "metadata": {},
          "execution_count": 50
        }
      ]
    },
    {
      "cell_type": "code",
      "source": [
        "loan_df['home_ownership_code'] = le.fit_transform(loan_df.home_ownership)\n",
        "loan_df.home_ownership_code.head()"
      ],
      "metadata": {
        "colab": {
          "base_uri": "https://localhost:8080/"
        },
        "id": "K0h2JXgrZ2lV",
        "outputId": "de16eeec-b111-4f7c-b10f-4ad314efa405"
      },
      "execution_count": 51,
      "outputs": [
        {
          "output_type": "execute_result",
          "data": {
            "text/plain": [
              "0    4\n",
              "1    4\n",
              "2    4\n",
              "3    3\n",
              "4    4\n",
              "Name: home_ownership_code, dtype: int64"
            ]
          },
          "metadata": {},
          "execution_count": 51
        }
      ]
    },
    {
      "cell_type": "code",
      "source": [
        "loan_df.home_ownership.head()"
      ],
      "metadata": {
        "colab": {
          "base_uri": "https://localhost:8080/"
        },
        "id": "W8NQprJaaQIu",
        "outputId": "0b46610c-c793-4412-e69c-b9117f10d3d9"
      },
      "execution_count": 52,
      "outputs": [
        {
          "output_type": "execute_result",
          "data": {
            "text/plain": [
              "0    RENT\n",
              "1    RENT\n",
              "2    RENT\n",
              "3     OWN\n",
              "4    RENT\n",
              "Name: home_ownership, dtype: object"
            ]
          },
          "metadata": {},
          "execution_count": 52
        }
      ]
    },
    {
      "cell_type": "code",
      "source": [
        "loan_df['addr_state_code'] = le.fit_transform(loan_df.addr_state)\n",
        "loan_df.addr_state_code.head()"
      ],
      "metadata": {
        "colab": {
          "base_uri": "https://localhost:8080/"
        },
        "id": "DX-gIBJTaThS",
        "outputId": "1e82981b-4363-4371-9bf4-997ba9877758"
      },
      "execution_count": 53,
      "outputs": [
        {
          "output_type": "execute_result",
          "data": {
            "text/plain": [
              "0    2\n",
              "1    0\n",
              "2    0\n",
              "3    0\n",
              "4    5\n",
              "Name: addr_state_code, dtype: int64"
            ]
          },
          "metadata": {},
          "execution_count": 53
        }
      ]
    },
    {
      "cell_type": "code",
      "source": [
        "loan_df.addr_state_code.isnull().sum()"
      ],
      "metadata": {
        "colab": {
          "base_uri": "https://localhost:8080/"
        },
        "id": "J9CDJgxQac5k",
        "outputId": "1dd8962d-dd2f-40cb-c93e-6de0983052fb"
      },
      "execution_count": 54,
      "outputs": [
        {
          "output_type": "execute_result",
          "data": {
            "text/plain": [
              "0"
            ]
          },
          "metadata": {},
          "execution_count": 54
        }
      ]
    },
    {
      "cell_type": "code",
      "source": [],
      "metadata": {
        "id": "dNHNekX2cHs7"
      },
      "execution_count": null,
      "outputs": []
    },
    {
      "cell_type": "markdown",
      "metadata": {
        "id": "VmRMLxktbBqT"
      },
      "source": [
        "### 2.3: Manage Missing Values\n",
        "\n",
        "- Filling missing values in `revol_util` with the mean value of the column in loan_df.\n",
        "- Filling missing values in `pub_rec_bankruptcies` with 0 (which is the mode of the column) in loan_df.\n",
        "\n",
        "After the missing values are filled, checking loan_df again to make sure there is no missing values in the two columns."
      ]
    },
    {
      "cell_type": "code",
      "execution_count": 55,
      "metadata": {
        "id": "HEKFkigLbBqT"
      },
      "outputs": [],
      "source": [
        "loan_df['revol_util'].fillna(loan_df['revol_util'].mean(), inplace = True)"
      ]
    },
    {
      "cell_type": "code",
      "source": [
        "loan_df.revol_util.isnull().sum()"
      ],
      "metadata": {
        "colab": {
          "base_uri": "https://localhost:8080/"
        },
        "id": "fYLvsvAjb8xS",
        "outputId": "65a2d059-4d05-4758-e1da-dbc2a1e4997f"
      },
      "execution_count": 56,
      "outputs": [
        {
          "output_type": "execute_result",
          "data": {
            "text/plain": [
              "0"
            ]
          },
          "metadata": {},
          "execution_count": 56
        }
      ]
    },
    {
      "cell_type": "code",
      "source": [
        "loan_df['pub_rec_bankruptcies'].fillna(0,inplace=True)\n",
        "loan_df.pub_rec_bankruptcies.isnull().sum()"
      ],
      "metadata": {
        "colab": {
          "base_uri": "https://localhost:8080/"
        },
        "id": "8wJOwydncEbd",
        "outputId": "ff4b33a7-4e1c-48b0-b5d2-f7dc4a972208"
      },
      "execution_count": 57,
      "outputs": [
        {
          "output_type": "execute_result",
          "data": {
            "text/plain": [
              "0"
            ]
          },
          "metadata": {},
          "execution_count": 57
        }
      ]
    },
    {
      "cell_type": "markdown",
      "metadata": {
        "id": "9ZzvF70zbBqT"
      },
      "source": [
        "## Modeling and Model Evaluation\n",
        "\n",
        "Constructing a classification model to predict whether a loan will be fully paid. Column 'repaid' will be the label. The purpose of the model is to identify loans that are likely to be fully paid.\n",
        "\n",
        "I will complete following steps:\n",
        "- Identify columns we need for modeling and the next steps.\n",
        "- Create a clean DataFrame `df` with needed columns only.\n",
        "- Split the DataFrame to train and test.\n",
        "- Identify columns needed to train the classification model.\n",
        "- Create train and test set for the classification model.\n",
        "- Create train and test label for the classification model.\n",
        "- Train the classification model.\n",
        "- Predict with the classification model.\n",
        "- Evaluate the classification model.\n",
        "\n",
        "I will demonstrate these steps with RandomForestClassifier."
      ]
    },
    {
      "cell_type": "markdown",
      "metadata": {
        "id": "laCwzw2ibBqT"
      },
      "source": [
        "### Keep Columns\n",
        "\n",
        "I will create a clean DataFrame `df` which keeps following columns in the original DataFrame `loan_df`.\n",
        "- funded_amnt\n",
        "- loan_term_year\n",
        "- int_rate\n",
        "- grade_code\n",
        "- purpose_code\n",
        "- addr_state_code\n",
        "- home_ownership_code\n",
        "- annual_inc\n",
        "- dti\n",
        "- revol_util\n",
        "- pub_rec_bankruptcies\n",
        "- repaid\n",
        "- total_pymnt\n",
        "\n",
        "Among all keeped columns, repaid will be the label, total_pymnt will be used to calculate portfolio return in the next step. Other featues will be used to train classification models.\n",
        "\n",
        "Only features that are available before the loan is initiated can be used in the classification. Features like recoveries, total_rec_prncp, which are only available after the loan is closed, will not be included in the training features."
      ]
    },
    {
      "cell_type": "code",
      "source": [
        "loan_df.head()"
      ],
      "metadata": {
        "colab": {
          "base_uri": "https://localhost:8080/",
          "height": 409
        },
        "id": "3xyVm81ddNoE",
        "outputId": "fc2296d3-8993-4a64-a668-09a8e5cd435c"
      },
      "execution_count": 58,
      "outputs": [
        {
          "output_type": "execute_result",
          "data": {
            "text/plain": [
              "   loan_amnt  funded_amnt  funded_amnt_inv       term  int_rate  installment  \\\n",
              "0       2400         2400           2400.0  36 months     15.96        84.33   \n",
              "1      10000        10000          10000.0  36 months     13.49       339.31   \n",
              "2       3000         3000           3000.0  36 months     18.64       109.43   \n",
              "3       5600         5600           5600.0  60 months     21.28       152.39   \n",
              "4       5375         5375           5350.0  60 months     12.69       121.45   \n",
              "\n",
              "  grade sub_grade            emp_title emp_length home_ownership  annual_inc  \\\n",
              "0     C        C5                  NaN  10+ years           RENT     12252.0   \n",
              "1     C        C1  AIR RESOURCES BOARD  10+ years           RENT     49200.0   \n",
              "2     E        E1      MKC Accounting     9 years           RENT     48000.0   \n",
              "3     F        F2                  NaN    4 years            OWN     40000.0   \n",
              "4     B        B5            Starbucks   < 1 year           RENT     15000.0   \n",
              "\n",
              "  verification_status    issue_d  loan_status pymnt_plan         purpose  \\\n",
              "0        Not Verified 2011-12-01   Fully Paid          n  small_business   \n",
              "1     Source Verified 2011-12-01   Fully Paid          n           other   \n",
              "2     Source Verified 2011-12-01   Fully Paid          n             car   \n",
              "3     Source Verified 2011-12-01  Charged Off          n  small_business   \n",
              "4            Verified 2011-12-01  Charged Off          n           other   \n",
              "\n",
              "                                  title zip_code addr_state    dti  \\\n",
              "0                  real estate business    606xx         IL   8.72   \n",
              "1                              personel    917xx         CA  20.00   \n",
              "2                       Car Downpayment    900xx         CA   5.35   \n",
              "3  Expand Business & Buy Debt Portfolio    958xx         CA   5.55   \n",
              "4           Building my credit history.    774xx         TX  18.08   \n",
              "\n",
              "   delinq_2yrs earliest_cr_line  inq_last_6mths  mths_since_last_delinq  \\\n",
              "0          0.0         Nov-2001             2.0                     NaN   \n",
              "1          0.0         Feb-1996             1.0                    35.0   \n",
              "2          0.0         Jan-2007             2.0                     NaN   \n",
              "3          0.0         Apr-2004             2.0                     NaN   \n",
              "4          0.0         Sep-2004             0.0                     NaN   \n",
              "\n",
              "   mths_since_last_record  open_acc  pub_rec  revol_bal  revol_util  \\\n",
              "0                     NaN       2.0      0.0       2956        98.5   \n",
              "1                     NaN      10.0      0.0       5598        21.0   \n",
              "2                     NaN       4.0      0.0       8221        87.5   \n",
              "3                     NaN      11.0      0.0       5210        32.6   \n",
              "4                     NaN       2.0      0.0       9279        36.5   \n",
              "\n",
              "   total_acc initial_list_status  out_prncp  out_prncp_inv   total_pymnt  \\\n",
              "0       10.0                   f        0.0            0.0   3005.666844   \n",
              "1       37.0                   f        0.0            0.0  12231.890000   \n",
              "2        4.0                   f        0.0            0.0   3939.135294   \n",
              "3       13.0                   f        0.0            0.0    647.500000   \n",
              "4        3.0                   f        0.0            0.0   1484.590000   \n",
              "\n",
              "   total_pymnt_inv  total_rec_prncp  total_rec_int  total_rec_late_fee  \\\n",
              "0          3005.67          2400.00         605.67                0.00   \n",
              "1         12231.89         10000.00        2214.92               16.97   \n",
              "2          3939.14          3000.00         939.14                0.00   \n",
              "3           647.50           162.02         294.94                0.00   \n",
              "4          1477.70           673.48         533.42                0.00   \n",
              "\n",
              "   recoveries  collection_recovery_fee last_pymnt_d  last_pymnt_amnt  \\\n",
              "0        0.00                     0.00     Jun-2014           649.91   \n",
              "1        0.00                     0.00     Jan-2015           357.48   \n",
              "2        0.00                     0.00     Jan-2015           111.34   \n",
              "3      190.54                     2.09     Apr-2012           152.39   \n",
              "4      277.69                     2.52     Nov-2012           121.45   \n",
              "\n",
              "   next_pymnt_d last_credit_pull_d  collections_12_mths_ex_med  \\\n",
              "0           NaN           Jun-2017                         0.0   \n",
              "1           NaN           Apr-2016                         0.0   \n",
              "2           NaN           Dec-2014                         0.0   \n",
              "3           NaN           Oct-2016                         0.0   \n",
              "4           NaN           Dec-2016                         0.0   \n",
              "\n",
              "   mths_since_last_major_derog  policy_code application_type  acc_now_delinq  \\\n",
              "0                          NaN            1       Individual             0.0   \n",
              "1                          NaN            1       Individual             0.0   \n",
              "2                          NaN            1       Individual             0.0   \n",
              "3                          NaN            1       Individual             0.0   \n",
              "4                          NaN            1       Individual             0.0   \n",
              "\n",
              "   chargeoff_within_12_mths  delinq_amnt  pub_rec_bankruptcies  tax_liens  \\\n",
              "0                       0.0          0.0                   0.0        0.0   \n",
              "1                       0.0          0.0                   0.0        0.0   \n",
              "2                       0.0          0.0                   0.0        0.0   \n",
              "3                       0.0          0.0                   0.0        0.0   \n",
              "4                       0.0          0.0                   0.0        0.0   \n",
              "\n",
              "  hardship_flag disbursement_method debt_settlement_flag  \\\n",
              "0             N                Cash                    N   \n",
              "1             N                Cash                    N   \n",
              "2             N                Cash                    N   \n",
              "3             N                Cash                    N   \n",
              "4             N                Cash                    N   \n",
              "\n",
              "  debt_settlement_flag_date  issue_year  repaid  loan_term_year  purpose_code  \\\n",
              "0                       NaN        2011       1               3            11   \n",
              "1                       NaN        2011       1               3             9   \n",
              "2                       NaN        2011       1               3             0   \n",
              "3                       NaN        2011       0               5            11   \n",
              "4                       NaN        2011       0               5             9   \n",
              "\n",
              "   grade_code  home_ownership_code  addr_state_code  \n",
              "0           2                    4                2  \n",
              "1           2                    4                0  \n",
              "2           4                    4                0  \n",
              "3           5                    3                0  \n",
              "4           1                    4                5  "
            ],
            "text/html": [
              "\n",
              "  <div id=\"df-d4d22931-e7e1-479a-bf5f-599222981abd\">\n",
              "    <div class=\"colab-df-container\">\n",
              "      <div>\n",
              "<style scoped>\n",
              "    .dataframe tbody tr th:only-of-type {\n",
              "        vertical-align: middle;\n",
              "    }\n",
              "\n",
              "    .dataframe tbody tr th {\n",
              "        vertical-align: top;\n",
              "    }\n",
              "\n",
              "    .dataframe thead th {\n",
              "        text-align: right;\n",
              "    }\n",
              "</style>\n",
              "<table border=\"1\" class=\"dataframe\">\n",
              "  <thead>\n",
              "    <tr style=\"text-align: right;\">\n",
              "      <th></th>\n",
              "      <th>loan_amnt</th>\n",
              "      <th>funded_amnt</th>\n",
              "      <th>funded_amnt_inv</th>\n",
              "      <th>term</th>\n",
              "      <th>int_rate</th>\n",
              "      <th>installment</th>\n",
              "      <th>grade</th>\n",
              "      <th>sub_grade</th>\n",
              "      <th>emp_title</th>\n",
              "      <th>emp_length</th>\n",
              "      <th>home_ownership</th>\n",
              "      <th>annual_inc</th>\n",
              "      <th>verification_status</th>\n",
              "      <th>issue_d</th>\n",
              "      <th>loan_status</th>\n",
              "      <th>pymnt_plan</th>\n",
              "      <th>purpose</th>\n",
              "      <th>title</th>\n",
              "      <th>zip_code</th>\n",
              "      <th>addr_state</th>\n",
              "      <th>dti</th>\n",
              "      <th>delinq_2yrs</th>\n",
              "      <th>earliest_cr_line</th>\n",
              "      <th>inq_last_6mths</th>\n",
              "      <th>mths_since_last_delinq</th>\n",
              "      <th>mths_since_last_record</th>\n",
              "      <th>open_acc</th>\n",
              "      <th>pub_rec</th>\n",
              "      <th>revol_bal</th>\n",
              "      <th>revol_util</th>\n",
              "      <th>total_acc</th>\n",
              "      <th>initial_list_status</th>\n",
              "      <th>out_prncp</th>\n",
              "      <th>out_prncp_inv</th>\n",
              "      <th>total_pymnt</th>\n",
              "      <th>total_pymnt_inv</th>\n",
              "      <th>total_rec_prncp</th>\n",
              "      <th>total_rec_int</th>\n",
              "      <th>total_rec_late_fee</th>\n",
              "      <th>recoveries</th>\n",
              "      <th>collection_recovery_fee</th>\n",
              "      <th>last_pymnt_d</th>\n",
              "      <th>last_pymnt_amnt</th>\n",
              "      <th>next_pymnt_d</th>\n",
              "      <th>last_credit_pull_d</th>\n",
              "      <th>collections_12_mths_ex_med</th>\n",
              "      <th>mths_since_last_major_derog</th>\n",
              "      <th>policy_code</th>\n",
              "      <th>application_type</th>\n",
              "      <th>acc_now_delinq</th>\n",
              "      <th>chargeoff_within_12_mths</th>\n",
              "      <th>delinq_amnt</th>\n",
              "      <th>pub_rec_bankruptcies</th>\n",
              "      <th>tax_liens</th>\n",
              "      <th>hardship_flag</th>\n",
              "      <th>disbursement_method</th>\n",
              "      <th>debt_settlement_flag</th>\n",
              "      <th>debt_settlement_flag_date</th>\n",
              "      <th>issue_year</th>\n",
              "      <th>repaid</th>\n",
              "      <th>loan_term_year</th>\n",
              "      <th>purpose_code</th>\n",
              "      <th>grade_code</th>\n",
              "      <th>home_ownership_code</th>\n",
              "      <th>addr_state_code</th>\n",
              "    </tr>\n",
              "  </thead>\n",
              "  <tbody>\n",
              "    <tr>\n",
              "      <th>0</th>\n",
              "      <td>2400</td>\n",
              "      <td>2400</td>\n",
              "      <td>2400.0</td>\n",
              "      <td>36 months</td>\n",
              "      <td>15.96</td>\n",
              "      <td>84.33</td>\n",
              "      <td>C</td>\n",
              "      <td>C5</td>\n",
              "      <td>NaN</td>\n",
              "      <td>10+ years</td>\n",
              "      <td>RENT</td>\n",
              "      <td>12252.0</td>\n",
              "      <td>Not Verified</td>\n",
              "      <td>2011-12-01</td>\n",
              "      <td>Fully Paid</td>\n",
              "      <td>n</td>\n",
              "      <td>small_business</td>\n",
              "      <td>real estate business</td>\n",
              "      <td>606xx</td>\n",
              "      <td>IL</td>\n",
              "      <td>8.72</td>\n",
              "      <td>0.0</td>\n",
              "      <td>Nov-2001</td>\n",
              "      <td>2.0</td>\n",
              "      <td>NaN</td>\n",
              "      <td>NaN</td>\n",
              "      <td>2.0</td>\n",
              "      <td>0.0</td>\n",
              "      <td>2956</td>\n",
              "      <td>98.5</td>\n",
              "      <td>10.0</td>\n",
              "      <td>f</td>\n",
              "      <td>0.0</td>\n",
              "      <td>0.0</td>\n",
              "      <td>3005.666844</td>\n",
              "      <td>3005.67</td>\n",
              "      <td>2400.00</td>\n",
              "      <td>605.67</td>\n",
              "      <td>0.00</td>\n",
              "      <td>0.00</td>\n",
              "      <td>0.00</td>\n",
              "      <td>Jun-2014</td>\n",
              "      <td>649.91</td>\n",
              "      <td>NaN</td>\n",
              "      <td>Jun-2017</td>\n",
              "      <td>0.0</td>\n",
              "      <td>NaN</td>\n",
              "      <td>1</td>\n",
              "      <td>Individual</td>\n",
              "      <td>0.0</td>\n",
              "      <td>0.0</td>\n",
              "      <td>0.0</td>\n",
              "      <td>0.0</td>\n",
              "      <td>0.0</td>\n",
              "      <td>N</td>\n",
              "      <td>Cash</td>\n",
              "      <td>N</td>\n",
              "      <td>NaN</td>\n",
              "      <td>2011</td>\n",
              "      <td>1</td>\n",
              "      <td>3</td>\n",
              "      <td>11</td>\n",
              "      <td>2</td>\n",
              "      <td>4</td>\n",
              "      <td>2</td>\n",
              "    </tr>\n",
              "    <tr>\n",
              "      <th>1</th>\n",
              "      <td>10000</td>\n",
              "      <td>10000</td>\n",
              "      <td>10000.0</td>\n",
              "      <td>36 months</td>\n",
              "      <td>13.49</td>\n",
              "      <td>339.31</td>\n",
              "      <td>C</td>\n",
              "      <td>C1</td>\n",
              "      <td>AIR RESOURCES BOARD</td>\n",
              "      <td>10+ years</td>\n",
              "      <td>RENT</td>\n",
              "      <td>49200.0</td>\n",
              "      <td>Source Verified</td>\n",
              "      <td>2011-12-01</td>\n",
              "      <td>Fully Paid</td>\n",
              "      <td>n</td>\n",
              "      <td>other</td>\n",
              "      <td>personel</td>\n",
              "      <td>917xx</td>\n",
              "      <td>CA</td>\n",
              "      <td>20.00</td>\n",
              "      <td>0.0</td>\n",
              "      <td>Feb-1996</td>\n",
              "      <td>1.0</td>\n",
              "      <td>35.0</td>\n",
              "      <td>NaN</td>\n",
              "      <td>10.0</td>\n",
              "      <td>0.0</td>\n",
              "      <td>5598</td>\n",
              "      <td>21.0</td>\n",
              "      <td>37.0</td>\n",
              "      <td>f</td>\n",
              "      <td>0.0</td>\n",
              "      <td>0.0</td>\n",
              "      <td>12231.890000</td>\n",
              "      <td>12231.89</td>\n",
              "      <td>10000.00</td>\n",
              "      <td>2214.92</td>\n",
              "      <td>16.97</td>\n",
              "      <td>0.00</td>\n",
              "      <td>0.00</td>\n",
              "      <td>Jan-2015</td>\n",
              "      <td>357.48</td>\n",
              "      <td>NaN</td>\n",
              "      <td>Apr-2016</td>\n",
              "      <td>0.0</td>\n",
              "      <td>NaN</td>\n",
              "      <td>1</td>\n",
              "      <td>Individual</td>\n",
              "      <td>0.0</td>\n",
              "      <td>0.0</td>\n",
              "      <td>0.0</td>\n",
              "      <td>0.0</td>\n",
              "      <td>0.0</td>\n",
              "      <td>N</td>\n",
              "      <td>Cash</td>\n",
              "      <td>N</td>\n",
              "      <td>NaN</td>\n",
              "      <td>2011</td>\n",
              "      <td>1</td>\n",
              "      <td>3</td>\n",
              "      <td>9</td>\n",
              "      <td>2</td>\n",
              "      <td>4</td>\n",
              "      <td>0</td>\n",
              "    </tr>\n",
              "    <tr>\n",
              "      <th>2</th>\n",
              "      <td>3000</td>\n",
              "      <td>3000</td>\n",
              "      <td>3000.0</td>\n",
              "      <td>36 months</td>\n",
              "      <td>18.64</td>\n",
              "      <td>109.43</td>\n",
              "      <td>E</td>\n",
              "      <td>E1</td>\n",
              "      <td>MKC Accounting</td>\n",
              "      <td>9 years</td>\n",
              "      <td>RENT</td>\n",
              "      <td>48000.0</td>\n",
              "      <td>Source Verified</td>\n",
              "      <td>2011-12-01</td>\n",
              "      <td>Fully Paid</td>\n",
              "      <td>n</td>\n",
              "      <td>car</td>\n",
              "      <td>Car Downpayment</td>\n",
              "      <td>900xx</td>\n",
              "      <td>CA</td>\n",
              "      <td>5.35</td>\n",
              "      <td>0.0</td>\n",
              "      <td>Jan-2007</td>\n",
              "      <td>2.0</td>\n",
              "      <td>NaN</td>\n",
              "      <td>NaN</td>\n",
              "      <td>4.0</td>\n",
              "      <td>0.0</td>\n",
              "      <td>8221</td>\n",
              "      <td>87.5</td>\n",
              "      <td>4.0</td>\n",
              "      <td>f</td>\n",
              "      <td>0.0</td>\n",
              "      <td>0.0</td>\n",
              "      <td>3939.135294</td>\n",
              "      <td>3939.14</td>\n",
              "      <td>3000.00</td>\n",
              "      <td>939.14</td>\n",
              "      <td>0.00</td>\n",
              "      <td>0.00</td>\n",
              "      <td>0.00</td>\n",
              "      <td>Jan-2015</td>\n",
              "      <td>111.34</td>\n",
              "      <td>NaN</td>\n",
              "      <td>Dec-2014</td>\n",
              "      <td>0.0</td>\n",
              "      <td>NaN</td>\n",
              "      <td>1</td>\n",
              "      <td>Individual</td>\n",
              "      <td>0.0</td>\n",
              "      <td>0.0</td>\n",
              "      <td>0.0</td>\n",
              "      <td>0.0</td>\n",
              "      <td>0.0</td>\n",
              "      <td>N</td>\n",
              "      <td>Cash</td>\n",
              "      <td>N</td>\n",
              "      <td>NaN</td>\n",
              "      <td>2011</td>\n",
              "      <td>1</td>\n",
              "      <td>3</td>\n",
              "      <td>0</td>\n",
              "      <td>4</td>\n",
              "      <td>4</td>\n",
              "      <td>0</td>\n",
              "    </tr>\n",
              "    <tr>\n",
              "      <th>3</th>\n",
              "      <td>5600</td>\n",
              "      <td>5600</td>\n",
              "      <td>5600.0</td>\n",
              "      <td>60 months</td>\n",
              "      <td>21.28</td>\n",
              "      <td>152.39</td>\n",
              "      <td>F</td>\n",
              "      <td>F2</td>\n",
              "      <td>NaN</td>\n",
              "      <td>4 years</td>\n",
              "      <td>OWN</td>\n",
              "      <td>40000.0</td>\n",
              "      <td>Source Verified</td>\n",
              "      <td>2011-12-01</td>\n",
              "      <td>Charged Off</td>\n",
              "      <td>n</td>\n",
              "      <td>small_business</td>\n",
              "      <td>Expand Business &amp; Buy Debt Portfolio</td>\n",
              "      <td>958xx</td>\n",
              "      <td>CA</td>\n",
              "      <td>5.55</td>\n",
              "      <td>0.0</td>\n",
              "      <td>Apr-2004</td>\n",
              "      <td>2.0</td>\n",
              "      <td>NaN</td>\n",
              "      <td>NaN</td>\n",
              "      <td>11.0</td>\n",
              "      <td>0.0</td>\n",
              "      <td>5210</td>\n",
              "      <td>32.6</td>\n",
              "      <td>13.0</td>\n",
              "      <td>f</td>\n",
              "      <td>0.0</td>\n",
              "      <td>0.0</td>\n",
              "      <td>647.500000</td>\n",
              "      <td>647.50</td>\n",
              "      <td>162.02</td>\n",
              "      <td>294.94</td>\n",
              "      <td>0.00</td>\n",
              "      <td>190.54</td>\n",
              "      <td>2.09</td>\n",
              "      <td>Apr-2012</td>\n",
              "      <td>152.39</td>\n",
              "      <td>NaN</td>\n",
              "      <td>Oct-2016</td>\n",
              "      <td>0.0</td>\n",
              "      <td>NaN</td>\n",
              "      <td>1</td>\n",
              "      <td>Individual</td>\n",
              "      <td>0.0</td>\n",
              "      <td>0.0</td>\n",
              "      <td>0.0</td>\n",
              "      <td>0.0</td>\n",
              "      <td>0.0</td>\n",
              "      <td>N</td>\n",
              "      <td>Cash</td>\n",
              "      <td>N</td>\n",
              "      <td>NaN</td>\n",
              "      <td>2011</td>\n",
              "      <td>0</td>\n",
              "      <td>5</td>\n",
              "      <td>11</td>\n",
              "      <td>5</td>\n",
              "      <td>3</td>\n",
              "      <td>0</td>\n",
              "    </tr>\n",
              "    <tr>\n",
              "      <th>4</th>\n",
              "      <td>5375</td>\n",
              "      <td>5375</td>\n",
              "      <td>5350.0</td>\n",
              "      <td>60 months</td>\n",
              "      <td>12.69</td>\n",
              "      <td>121.45</td>\n",
              "      <td>B</td>\n",
              "      <td>B5</td>\n",
              "      <td>Starbucks</td>\n",
              "      <td>&lt; 1 year</td>\n",
              "      <td>RENT</td>\n",
              "      <td>15000.0</td>\n",
              "      <td>Verified</td>\n",
              "      <td>2011-12-01</td>\n",
              "      <td>Charged Off</td>\n",
              "      <td>n</td>\n",
              "      <td>other</td>\n",
              "      <td>Building my credit history.</td>\n",
              "      <td>774xx</td>\n",
              "      <td>TX</td>\n",
              "      <td>18.08</td>\n",
              "      <td>0.0</td>\n",
              "      <td>Sep-2004</td>\n",
              "      <td>0.0</td>\n",
              "      <td>NaN</td>\n",
              "      <td>NaN</td>\n",
              "      <td>2.0</td>\n",
              "      <td>0.0</td>\n",
              "      <td>9279</td>\n",
              "      <td>36.5</td>\n",
              "      <td>3.0</td>\n",
              "      <td>f</td>\n",
              "      <td>0.0</td>\n",
              "      <td>0.0</td>\n",
              "      <td>1484.590000</td>\n",
              "      <td>1477.70</td>\n",
              "      <td>673.48</td>\n",
              "      <td>533.42</td>\n",
              "      <td>0.00</td>\n",
              "      <td>277.69</td>\n",
              "      <td>2.52</td>\n",
              "      <td>Nov-2012</td>\n",
              "      <td>121.45</td>\n",
              "      <td>NaN</td>\n",
              "      <td>Dec-2016</td>\n",
              "      <td>0.0</td>\n",
              "      <td>NaN</td>\n",
              "      <td>1</td>\n",
              "      <td>Individual</td>\n",
              "      <td>0.0</td>\n",
              "      <td>0.0</td>\n",
              "      <td>0.0</td>\n",
              "      <td>0.0</td>\n",
              "      <td>0.0</td>\n",
              "      <td>N</td>\n",
              "      <td>Cash</td>\n",
              "      <td>N</td>\n",
              "      <td>NaN</td>\n",
              "      <td>2011</td>\n",
              "      <td>0</td>\n",
              "      <td>5</td>\n",
              "      <td>9</td>\n",
              "      <td>1</td>\n",
              "      <td>4</td>\n",
              "      <td>5</td>\n",
              "    </tr>\n",
              "  </tbody>\n",
              "</table>\n",
              "</div>\n",
              "      <button class=\"colab-df-convert\" onclick=\"convertToInteractive('df-d4d22931-e7e1-479a-bf5f-599222981abd')\"\n",
              "              title=\"Convert this dataframe to an interactive table.\"\n",
              "              style=\"display:none;\">\n",
              "        \n",
              "  <svg xmlns=\"http://www.w3.org/2000/svg\" height=\"24px\"viewBox=\"0 0 24 24\"\n",
              "       width=\"24px\">\n",
              "    <path d=\"M0 0h24v24H0V0z\" fill=\"none\"/>\n",
              "    <path d=\"M18.56 5.44l.94 2.06.94-2.06 2.06-.94-2.06-.94-.94-2.06-.94 2.06-2.06.94zm-11 1L8.5 8.5l.94-2.06 2.06-.94-2.06-.94L8.5 2.5l-.94 2.06-2.06.94zm10 10l.94 2.06.94-2.06 2.06-.94-2.06-.94-.94-2.06-.94 2.06-2.06.94z\"/><path d=\"M17.41 7.96l-1.37-1.37c-.4-.4-.92-.59-1.43-.59-.52 0-1.04.2-1.43.59L10.3 9.45l-7.72 7.72c-.78.78-.78 2.05 0 2.83L4 21.41c.39.39.9.59 1.41.59.51 0 1.02-.2 1.41-.59l7.78-7.78 2.81-2.81c.8-.78.8-2.07 0-2.86zM5.41 20L4 18.59l7.72-7.72 1.47 1.35L5.41 20z\"/>\n",
              "  </svg>\n",
              "      </button>\n",
              "      \n",
              "  <style>\n",
              "    .colab-df-container {\n",
              "      display:flex;\n",
              "      flex-wrap:wrap;\n",
              "      gap: 12px;\n",
              "    }\n",
              "\n",
              "    .colab-df-convert {\n",
              "      background-color: #E8F0FE;\n",
              "      border: none;\n",
              "      border-radius: 50%;\n",
              "      cursor: pointer;\n",
              "      display: none;\n",
              "      fill: #1967D2;\n",
              "      height: 32px;\n",
              "      padding: 0 0 0 0;\n",
              "      width: 32px;\n",
              "    }\n",
              "\n",
              "    .colab-df-convert:hover {\n",
              "      background-color: #E2EBFA;\n",
              "      box-shadow: 0px 1px 2px rgba(60, 64, 67, 0.3), 0px 1px 3px 1px rgba(60, 64, 67, 0.15);\n",
              "      fill: #174EA6;\n",
              "    }\n",
              "\n",
              "    [theme=dark] .colab-df-convert {\n",
              "      background-color: #3B4455;\n",
              "      fill: #D2E3FC;\n",
              "    }\n",
              "\n",
              "    [theme=dark] .colab-df-convert:hover {\n",
              "      background-color: #434B5C;\n",
              "      box-shadow: 0px 1px 3px 1px rgba(0, 0, 0, 0.15);\n",
              "      filter: drop-shadow(0px 1px 2px rgba(0, 0, 0, 0.3));\n",
              "      fill: #FFFFFF;\n",
              "    }\n",
              "  </style>\n",
              "\n",
              "      <script>\n",
              "        const buttonEl =\n",
              "          document.querySelector('#df-d4d22931-e7e1-479a-bf5f-599222981abd button.colab-df-convert');\n",
              "        buttonEl.style.display =\n",
              "          google.colab.kernel.accessAllowed ? 'block' : 'none';\n",
              "\n",
              "        async function convertToInteractive(key) {\n",
              "          const element = document.querySelector('#df-d4d22931-e7e1-479a-bf5f-599222981abd');\n",
              "          const dataTable =\n",
              "            await google.colab.kernel.invokeFunction('convertToInteractive',\n",
              "                                                     [key], {});\n",
              "          if (!dataTable) return;\n",
              "\n",
              "          const docLinkHtml = 'Like what you see? Visit the ' +\n",
              "            '<a target=\"_blank\" href=https://colab.research.google.com/notebooks/data_table.ipynb>data table notebook</a>'\n",
              "            + ' to learn more about interactive tables.';\n",
              "          element.innerHTML = '';\n",
              "          dataTable['output_type'] = 'display_data';\n",
              "          await google.colab.output.renderOutput(dataTable, element);\n",
              "          const docLink = document.createElement('div');\n",
              "          docLink.innerHTML = docLinkHtml;\n",
              "          element.appendChild(docLink);\n",
              "        }\n",
              "      </script>\n",
              "    </div>\n",
              "  </div>\n",
              "  "
            ]
          },
          "metadata": {},
          "execution_count": 58
        }
      ]
    },
    {
      "cell_type": "code",
      "execution_count": 59,
      "metadata": {
        "id": "nzpyT_Z7bBqT"
      },
      "outputs": [],
      "source": [
        "#columns needed for the classification AND the next steps\n",
        "keep_columns = ['funded_amnt', 'loan_term_year', 'int_rate', 'grade_code', 'purpose_code',\n",
        "                'addr_state_code', 'home_ownership_code', 'annual_inc', 'dti', 'revol_util',\n",
        "                'pub_rec_bankruptcies', 'repaid', 'total_pymnt']"
      ]
    },
    {
      "cell_type": "code",
      "execution_count": 60,
      "metadata": {
        "id": "rtp9MJMtbBqU"
      },
      "outputs": [],
      "source": [
        "#Create a clean DataFrame\n",
        "df = loan_df[keep_columns].copy()"
      ]
    },
    {
      "cell_type": "code",
      "execution_count": 61,
      "metadata": {
        "scrolled": true,
        "id": "iwjfOYvAbBqU",
        "colab": {
          "base_uri": "https://localhost:8080/"
        },
        "outputId": "a6eb17d0-a73d-44cf-d8cc-6c6a07e7b659"
      },
      "outputs": [
        {
          "output_type": "stream",
          "name": "stdout",
          "text": [
            "<class 'pandas.core.frame.DataFrame'>\n",
            "RangeIndex: 19908 entries, 0 to 19907\n",
            "Data columns (total 13 columns):\n",
            " #   Column                Non-Null Count  Dtype  \n",
            "---  ------                --------------  -----  \n",
            " 0   funded_amnt           19908 non-null  int64  \n",
            " 1   loan_term_year        19908 non-null  int64  \n",
            " 2   int_rate              19908 non-null  float64\n",
            " 3   grade_code            19908 non-null  int64  \n",
            " 4   purpose_code          19908 non-null  int64  \n",
            " 5   addr_state_code       19908 non-null  int64  \n",
            " 6   home_ownership_code   19908 non-null  int64  \n",
            " 7   annual_inc            19908 non-null  float64\n",
            " 8   dti                   19908 non-null  float64\n",
            " 9   revol_util            19908 non-null  float64\n",
            " 10  pub_rec_bankruptcies  19908 non-null  float64\n",
            " 11  repaid                19908 non-null  int64  \n",
            " 12  total_pymnt           19908 non-null  float64\n",
            "dtypes: float64(6), int64(7)\n",
            "memory usage: 2.0 MB\n"
          ]
        }
      ],
      "source": [
        "df.info()"
      ]
    },
    {
      "cell_type": "markdown",
      "metadata": {
        "id": "aXS6YFXebBqU"
      },
      "source": [
        "### Split DataFrame to Train and Test\n",
        "\n",
        "- Splitting the clean DataFrame `df` to `df_train` and `df_test`.\n",
        "- Creating train and test features, `d_train` and `d_test`.\n",
        "- Creating train and test labels, `l_train` and `l_test`.\n",
        "\n",
        "For demonstration, I will use following features for the classification model:\n",
        "- funded_amnt\n",
        "- purpose_code\n",
        "- addr_state_code\n",
        "- home_ownership_code\n",
        "- annual_inc\n",
        "- dti\n",
        "- revol_util\n",
        "- pub_rec_bankruptcies\n"
      ]
    },
    {
      "cell_type": "code",
      "execution_count": 62,
      "metadata": {
        "id": "vYoiuikxbBqU"
      },
      "outputs": [],
      "source": [
        "#columns for the classification\n",
        "model_columns = ['funded_amnt', 'purpose_code', 'addr_state_code', 'home_ownership_code', 'annual_inc',\n",
        "                 'dti', 'revol_util', 'pub_rec_bankruptcies']\n",
        "\n",
        "from sklearn.model_selection import train_test_split\n",
        "df_train, df_test = train_test_split(df, test_size=0.4, random_state=23)\n",
        "d_train = df_train[model_columns]\n",
        "d_test = df_test[model_columns]\n",
        "l_train = df_train.repaid\n",
        "l_test = df_test.repaid"
      ]
    },
    {
      "cell_type": "markdown",
      "metadata": {
        "id": "lEWSo6GFbBqU"
      },
      "source": [
        "### Random Forest Classifier\n",
        "\n",
        "I will demonstrate the classification with two Random Forest Classifiers. The first one with default hyperparameters and the second one with `class_weight='balanced'`. We set `random_state=23` in both classifiers just to ensure repeatability.\n",
        "\n",
        "The first classifier achieve accuracy rate 83.5%, which is actually worse than the zero model. A zero model always predicts with the majority class, which is 1 in the dataset. Since the overal repaid rate is 85.2%, so the accuracy rate of the zero model is 85.2%.\n",
        "\n",
        "In this project, the accuracy rate is not what we are looking for. The purpose of the classification model is to help us select loans that are more likely to be repaid. So our focus is on the precision rate of class 1. From the classification report of the first model, we can see that the precision rate of class 1 is 0.86, or 86%. This means among all the loans identified as to be fully paid by the classification model, 86% of them are actually fully paid. This is a not much better than the repaid rate of the whole test set, which is about 85%. The reason is that the model only has 0.07 recall rate on class 0, which means, for all loans that are charged off, the model only identifies 7% of them as charged off.\n",
        "\n",
        "The dataset is highly imbalanced, with 85% class 1 and 15% class 0, we can achieve better class 1 precision by setting balanced class_weight. In the second model, we set `class_weight='balanced'`. The default RandomForestClassifier is not very senstive to class_weight change, so we also limit `max_depth` to increase the effectiveness of class_weight change.\n",
        "\n",
        "From the classification report of the second Random Forest Classifier, we can see that even though the accuracy rate drops to 65%, the model has a lot larger class 0 recall at 0.44. It means the model identifies 44% of all charged off loans correctly. More importantly, we get better class 1 precission, 88%, which means, among all loans that are predicted as to be fully paid by the model, 88% of them are actually fully paid.\n",
        "\n",
        "We can also see the prediction details from the confusion matrix."
      ]
    },
    {
      "cell_type": "code",
      "execution_count": 63,
      "metadata": {
        "scrolled": false,
        "id": "nmyTkQdUbBqU",
        "colab": {
          "base_uri": "https://localhost:8080/"
        },
        "outputId": "46509118-1286-4740-b74d-53d5f9cbc7d8"
      },
      "outputs": [
        {
          "output_type": "stream",
          "name": "stdout",
          "text": [
            "Accuracy Score: 0.8496986438975389\n",
            "Confusion Matrix:\n",
            "[[   9 1177]\n",
            " [  20 6758]]\n",
            "Classification Report:\n",
            "              precision    recall  f1-score   support\n",
            "\n",
            "           0       0.31      0.01      0.01      1186\n",
            "           1       0.85      1.00      0.92      6778\n",
            "\n",
            "    accuracy                           0.85      7964\n",
            "   macro avg       0.58      0.50      0.47      7964\n",
            "weighted avg       0.77      0.85      0.78      7964\n",
            "\n"
          ]
        }
      ],
      "source": [
        "from sklearn.ensemble import RandomForestClassifier\n",
        "from sklearn import metrics\n",
        "\n",
        "# Create Regressor with default properties\n",
        "rfc1 = RandomForestClassifier(random_state=23)\n",
        "\n",
        "# Fit estimator and display score\n",
        "rfc1 = rfc1.fit(d_train, l_train)\n",
        "print(f'Accuracy Score: {rfc1.score(d_test, l_test)}')\n",
        "pred = rfc1.predict(d_test)\n",
        "print(f'Confusion Matrix:\\n{metrics.confusion_matrix(l_test, pred)}')\n",
        "print(f'Classification Report:\\n{metrics.classification_report(l_test, pred)}')"
      ]
    },
    {
      "cell_type": "code",
      "execution_count": 65,
      "metadata": {
        "id": "be_rd28jbBqU",
        "colab": {
          "base_uri": "https://localhost:8080/"
        },
        "outputId": "970fbe50-6192-48c4-d177-6f700ecfe181"
      },
      "outputs": [
        {
          "output_type": "execute_result",
          "data": {
            "text/plain": [
              "0.8510798593671521"
            ]
          },
          "metadata": {},
          "execution_count": 65
        }
      ],
      "source": [
        "#zero model accuracy\n",
        "df_test.repaid.mean()"
      ]
    },
    {
      "cell_type": "code",
      "execution_count": 66,
      "metadata": {
        "id": "3GLnyLEbbBqU",
        "colab": {
          "base_uri": "https://localhost:8080/"
        },
        "outputId": "a47454ef-e2e2-4384-83e3-06f2e4aa9a9a"
      },
      "outputs": [
        {
          "output_type": "stream",
          "name": "stdout",
          "text": [
            "Accuracy Score: 0.6761677548970366\n",
            "Confusion Matrix:\n",
            "[[ 535  651]\n",
            " [1928 4850]]\n",
            "Classification Report:\n",
            "              precision    recall  f1-score   support\n",
            "\n",
            "           0       0.22      0.45      0.29      1186\n",
            "           1       0.88      0.72      0.79      6778\n",
            "\n",
            "    accuracy                           0.68      7964\n",
            "   macro avg       0.55      0.58      0.54      7964\n",
            "weighted avg       0.78      0.68      0.72      7964\n",
            "\n"
          ]
        }
      ],
      "source": [
        "rfc2 = RandomForestClassifier(max_depth=7, class_weight='balanced', random_state=23)\n",
        "\n",
        "# Fit estimator and display score\n",
        "rfc2 = rfc2.fit(d_train, l_train)\n",
        "print(f'Accuracy Score: {rfc2.score(d_test, l_test)}')\n",
        "pred = rfc2.predict(d_test)\n",
        "print(f'Confusion Matrix:\\n{metrics.confusion_matrix(l_test, pred)}')\n",
        "print(f'Classification Report:\\n{metrics.classification_report(l_test, pred)}')"
      ]
    },
    {
      "cell_type": "markdown",
      "metadata": {
        "id": "uUF2UPunbBqU"
      },
      "source": [
        "### 2.4: Logistic Regression with Default Class Weight\n",
        "\n",
        "Constructing a Logistic Regression model with default class_weight. Training and evaluating the model.\n"
      ]
    },
    {
      "cell_type": "code",
      "execution_count": 67,
      "metadata": {
        "id": "Whg3oogSbBqV",
        "colab": {
          "base_uri": "https://localhost:8080/"
        },
        "outputId": "5b33903b-ecf5-413a-e26a-44b734ad497a"
      },
      "outputs": [
        {
          "output_type": "stream",
          "name": "stdout",
          "text": [
            "Accuracy: 0.8510798593671521\n"
          ]
        }
      ],
      "source": [
        "from sklearn.linear_model import LogisticRegression\n",
        "from sklearn.metrics import accuracy_score\n",
        "\n",
        "model=LogisticRegression()\n",
        "model.fit(d_train, l_train)\n",
        "predictions = model.predict(d_test)\n",
        "accuracy = accuracy_score(l_test, predictions)\n",
        "print(\"Accuracy:\", accuracy)\n"
      ]
    },
    {
      "cell_type": "markdown",
      "metadata": {
        "id": "jQg6gHlAbBqV"
      },
      "source": [
        "### 2.5: Logistic Regression with Balanced Class Weight\n",
        "\n",
        "Constructing a Logistic Regression model with `class_weight='balanced'`. Training and evaluating the model.\n",
        "\n",
        "Using the same features as the first LogisticRegression model.\n"
      ]
    },
    {
      "cell_type": "code",
      "execution_count": 68,
      "metadata": {
        "id": "7dB0ELM-bBqV",
        "colab": {
          "base_uri": "https://localhost:8080/"
        },
        "outputId": "f1761f63-85e5-4bc3-d80a-3b42462947a9"
      },
      "outputs": [
        {
          "output_type": "stream",
          "name": "stdout",
          "text": [
            "Accuracy: 0.48329984932194875\n"
          ]
        }
      ],
      "source": [
        "model=LogisticRegression(class_weight='balanced')\n",
        "model.fit(d_train, l_train)\n",
        "predictions = model.predict(d_test)\n",
        "accuracy = accuracy_score(l_test, predictions)\n",
        "print(\"Accuracy:\", accuracy)"
      ]
    },
    {
      "cell_type": "markdown",
      "source": [
        "Here, as accuracy of Random forest classifier is better, hence we will use Random Forest Classifier for Building the loan portfolio"
      ],
      "metadata": {
        "id": "4CIgNyCtM_3D"
      }
    },
    {
      "cell_type": "markdown",
      "metadata": {
        "id": "0qlc420NbBqV"
      },
      "source": [
        "### Portfolio Annual Return\n",
        "\n",
        "Calculation of loan return is very complicated since the loan is paid by monthly installments. In this project, I simplified the calculation by using the total payment and funded amount. We can use following formula to calculate the total return:\n",
        "\n",
        "$TotalReturn = \\frac{Total Payment}{Funded Amount} - 1$\n",
        "\n",
        "The total return doesn't reflect loan profitability since loans have different terms. It's more accurate to compare annual returns. There are only two terms in the dataset, 36 months and 60 months. The formula to calculate annual return is:\n",
        "\n",
        "$Annualized Return = (1+Total Return)^{(1/years)} - 1$.\n",
        "\n",
        "For example, if total return of a 36 month loan is 10%, then annualized return = `(1 + 0.1)**(1/3) - 1` = `0.032`.\n",
        "\n",
        "This is not the true annualized return of a loan. But the goal of this project is to identify loans to invest, so we just need a benchmark to evaluate loan portfolio performance.\n",
        "\n",
        "In the following code cells, we define a function to calculate annual return of a loan portfolio. The function calculates annual return for 36 month and 60 month loans in a portfolio separately.\n",
        "\n",
        "Then we use the `get_portfolio_annual_return()` function to find out the annual returns of all 36 months and 60 months loans in the test dataset. There are 5960 36 months loans, with annual return 2.69%, and 2004 60 months loans, with annual return 2.74%.\n"
      ]
    },
    {
      "cell_type": "code",
      "execution_count": 90,
      "metadata": {
        "id": "2TP2nolAbBqV"
      },
      "outputs": [],
      "source": [
        "def get_portfolio_annual_return(df):\n",
        "    '''\n",
        "    Get annual return of 36 and 60 month loans in the portfolio df.\n",
        "    '''\n",
        "    annual_return_36, annual_return_60 = 0, 0\n",
        "    df_36 = df[df.loan_term_year==3]\n",
        "    if(len(df_36)>0):\n",
        "        return_36 = df_36.total_pymnt.sum()/df_36.funded_amnt.sum()-1\n",
        "        annual_return_36 = (1+return_36)**(1/3)-1\n",
        "    df_60 = df[df.loan_term_year==5]\n",
        "    if(len(df_60)>0):\n",
        "        return_60 = df_60.total_pymnt.sum()/df_60.funded_amnt.sum()-1\n",
        "        annual_return_60 = (1+return_60)**(1/5)-1\n",
        "    print (f'36 months loan:{len(df_36)}, Annual return:{round(annual_return_36, 4)}')\n",
        "    print (f'60 months loan:{len(df_60)}, Annual return:{round(annual_return_60, 4)}')"
      ]
    },
    {
      "cell_type": "code",
      "execution_count": 70,
      "metadata": {
        "id": "xi_pLjeYbBqV",
        "colab": {
          "base_uri": "https://localhost:8080/"
        },
        "outputId": "3d571cda-5834-46f2-c86e-07853c450b86"
      },
      "outputs": [
        {
          "output_type": "stream",
          "name": "stdout",
          "text": [
            "36 months loan:5960, Annual return:0.0269\n",
            "60 months loan:2004, Annual return:0.0274\n"
          ]
        }
      ],
      "source": [
        "#get return of the test set.\n",
        "get_portfolio_annual_return(df_test)"
      ]
    },
    {
      "cell_type": "markdown",
      "metadata": {
        "id": "OrqbPDD3bBqV"
      },
      "source": [
        "### Construct Loan Portfolio with RandomForestClassifier\n",
        "\n",
        "I will use the RandomForestClassifier model with `class_weight='balanced'` (rfc2) to select loans from the test set. Then we will compare the annual return of the selected loans with that of the test set.\n",
        "\n",
        "The RandomForestClassifier mode selects 4121 loans from 5960 36 months loans, with annual return 2.95%; and selects 1233 loans from 2004 60 months loans, with annual return 2.87. The portfolio achieves better return on both 36 months loans and 60 months loans comparing to the whole test set, which are 2.69% and 2.74% respectively.\n"
      ]
    },
    {
      "cell_type": "code",
      "execution_count": 91,
      "metadata": {
        "id": "zRSGwxPEbBqV"
      },
      "outputs": [],
      "source": [
        "keep_columns = ['funded_amnt', 'loan_term_year', 'int_rate', 'grade_code', 'purpose_code',\n",
        "                'addr_state_code', 'home_ownership_code', 'annual_inc', 'dti', 'revol_util',\n",
        "                'pub_rec_bankruptcies', 'repaid', 'total_pymnt']\n",
        "\n",
        "df = loan_df[keep_columns].copy()\n",
        "\n",
        "model_columns = ['funded_amnt', 'purpose_code', 'addr_state_code', 'home_ownership_code', 'annual_inc',\n",
        "                 'dti', 'revol_util', 'pub_rec_bankruptcies']\n",
        "\n",
        "from sklearn.model_selection import train_test_split\n",
        "df_train, df_test = train_test_split(df, test_size=0.4, random_state=23)\n",
        "d_train = df_train[model_columns]\n",
        "d_test = df_test[model_columns]\n",
        "l_train = df_train.repaid\n",
        "l_test = df_test.repaid\n",
        "\n",
        "rfc2 = RandomForestClassifier(max_depth=7, class_weight='balanced', random_state=23)\n",
        "rfc2 = rfc2.fit(d_train, l_train)\n",
        "pred = rfc2.predict(d_test)\n",
        "\n",
        "# create prediction column in the test set.\n",
        "df_test['prediction'] = pred\n",
        "portfolio_rfc2 = df_test[df_test.prediction==1]"
      ]
    },
    {
      "cell_type": "code",
      "execution_count": 92,
      "metadata": {
        "id": "pd7H7RndbBqW",
        "colab": {
          "base_uri": "https://localhost:8080/",
          "height": 740
        },
        "outputId": "783ed0e9-8e6c-4784-8717-a6947ef080dc"
      },
      "outputs": [
        {
          "output_type": "execute_result",
          "data": {
            "text/plain": [
              "       funded_amnt  loan_term_year  int_rate  grade_code  purpose_code  \\\n",
              "12111        10000               3      6.54           0             2   \n",
              "19791         7200               3     12.36           3             9   \n",
              "1136         20000               5     12.42           1             2   \n",
              "4539          6000               3     11.99           1             1   \n",
              "8639          6000               3     10.37           1             2   \n",
              "11020        25000               3      9.99           1             1   \n",
              "255          10400               3     12.69           1             1   \n",
              "9896         16000               5     15.28           3             2   \n",
              "14904        14725               5      7.88           0             4   \n",
              "12583         6000               3      7.14           0             9   \n",
              "1366         12000               3     10.65           1             2   \n",
              "244          18800               3      7.51           0             2   \n",
              "18668         6000               3      8.00           0            13   \n",
              "13319        15000               5     17.19           4             2   \n",
              "8511         16300               3     14.91           3             1   \n",
              "3992          7000               3     11.49           1             0   \n",
              "10690         6000               5     18.54           5             2   \n",
              "14630         6900               5     11.86           1             2   \n",
              "3404          3500               5     11.71           1             9   \n",
              "18835         9000               3     15.05           3             1   \n",
              "\n",
              "       addr_state_code  home_ownership_code  annual_inc    dti  revol_util  \\\n",
              "12111                0                    4     75000.0  18.27        50.1   \n",
              "19791                4                    4     17280.0   4.58         0.0   \n",
              "1136                 4                    4     80000.0  15.48        63.1   \n",
              "4539                 0                    4     65000.0   4.50        66.5   \n",
              "8639                 0                    4     85000.0   6.58        55.3   \n",
              "11020                2                    4     48000.0  19.40        57.6   \n",
              "255                  0                    4     44000.0  19.91        90.1   \n",
              "9896                 4                    4     42000.0  15.77        38.9   \n",
              "14904                1                    0     60000.0  10.44        21.7   \n",
              "12583                3                    4     26004.0   5.54        21.3   \n",
              "1366                 4                    4    110000.0  11.88        88.4   \n",
              "244                  0                    0     82000.0  13.76        17.3   \n",
              "18668                4                    4     60000.0   1.06        16.4   \n",
              "13319                0                    0     83000.0  17.55        55.5   \n",
              "8511                 1                    0     62664.0  24.17        79.5   \n",
              "3992                 0                    4     32000.0   8.36        19.3   \n",
              "10690                0                    4     55929.0  18.41        41.8   \n",
              "14630                3                    4     72000.0  19.10        45.3   \n",
              "3404                 0                    0     44004.0  10.23        22.1   \n",
              "18835                0                    4     54000.0  23.80        89.4   \n",
              "\n",
              "       pub_rec_bankruptcies  repaid   total_pymnt  prediction  \n",
              "12111                   0.0       1  11040.406014           1  \n",
              "19791                   0.0       1   8653.732987           1  \n",
              "1136                    0.0       1  22031.386995           1  \n",
              "4539                    0.0       1   7153.725843           1  \n",
              "8639                    0.0       1   6575.244652           1  \n",
              "11020                   0.0       1  29037.951035           1  \n",
              "255                     0.0       1  12559.160014           1  \n",
              "9896                    0.0       1  20609.185447           1  \n",
              "14904                   0.0       1  16845.988546           1  \n",
              "12583                   0.0       1   6681.037486           1  \n",
              "1366                    0.0       1  14071.622023           1  \n",
              "244                     0.0       1  21055.769997           1  \n",
              "18668                   0.0       1   6413.378796           1  \n",
              "13319                   0.0       0   7112.270000           1  \n",
              "8511                    0.0       0   5643.300000           1  \n",
              "3992                    0.0       1   8308.750001           1  \n",
              "10690                   0.0       1   6798.871910           1  \n",
              "14630                   0.0       0   3937.400000           1  \n",
              "3404                    0.0       1   4640.483479           1  \n",
              "18835                   0.0       0   1314.440000           1  "
            ],
            "text/html": [
              "\n",
              "  <div id=\"df-f801eb24-3159-496a-8c91-afd306c582e0\">\n",
              "    <div class=\"colab-df-container\">\n",
              "      <div>\n",
              "<style scoped>\n",
              "    .dataframe tbody tr th:only-of-type {\n",
              "        vertical-align: middle;\n",
              "    }\n",
              "\n",
              "    .dataframe tbody tr th {\n",
              "        vertical-align: top;\n",
              "    }\n",
              "\n",
              "    .dataframe thead th {\n",
              "        text-align: right;\n",
              "    }\n",
              "</style>\n",
              "<table border=\"1\" class=\"dataframe\">\n",
              "  <thead>\n",
              "    <tr style=\"text-align: right;\">\n",
              "      <th></th>\n",
              "      <th>funded_amnt</th>\n",
              "      <th>loan_term_year</th>\n",
              "      <th>int_rate</th>\n",
              "      <th>grade_code</th>\n",
              "      <th>purpose_code</th>\n",
              "      <th>addr_state_code</th>\n",
              "      <th>home_ownership_code</th>\n",
              "      <th>annual_inc</th>\n",
              "      <th>dti</th>\n",
              "      <th>revol_util</th>\n",
              "      <th>pub_rec_bankruptcies</th>\n",
              "      <th>repaid</th>\n",
              "      <th>total_pymnt</th>\n",
              "      <th>prediction</th>\n",
              "    </tr>\n",
              "  </thead>\n",
              "  <tbody>\n",
              "    <tr>\n",
              "      <th>12111</th>\n",
              "      <td>10000</td>\n",
              "      <td>3</td>\n",
              "      <td>6.54</td>\n",
              "      <td>0</td>\n",
              "      <td>2</td>\n",
              "      <td>0</td>\n",
              "      <td>4</td>\n",
              "      <td>75000.0</td>\n",
              "      <td>18.27</td>\n",
              "      <td>50.1</td>\n",
              "      <td>0.0</td>\n",
              "      <td>1</td>\n",
              "      <td>11040.406014</td>\n",
              "      <td>1</td>\n",
              "    </tr>\n",
              "    <tr>\n",
              "      <th>19791</th>\n",
              "      <td>7200</td>\n",
              "      <td>3</td>\n",
              "      <td>12.36</td>\n",
              "      <td>3</td>\n",
              "      <td>9</td>\n",
              "      <td>4</td>\n",
              "      <td>4</td>\n",
              "      <td>17280.0</td>\n",
              "      <td>4.58</td>\n",
              "      <td>0.0</td>\n",
              "      <td>0.0</td>\n",
              "      <td>1</td>\n",
              "      <td>8653.732987</td>\n",
              "      <td>1</td>\n",
              "    </tr>\n",
              "    <tr>\n",
              "      <th>1136</th>\n",
              "      <td>20000</td>\n",
              "      <td>5</td>\n",
              "      <td>12.42</td>\n",
              "      <td>1</td>\n",
              "      <td>2</td>\n",
              "      <td>4</td>\n",
              "      <td>4</td>\n",
              "      <td>80000.0</td>\n",
              "      <td>15.48</td>\n",
              "      <td>63.1</td>\n",
              "      <td>0.0</td>\n",
              "      <td>1</td>\n",
              "      <td>22031.386995</td>\n",
              "      <td>1</td>\n",
              "    </tr>\n",
              "    <tr>\n",
              "      <th>4539</th>\n",
              "      <td>6000</td>\n",
              "      <td>3</td>\n",
              "      <td>11.99</td>\n",
              "      <td>1</td>\n",
              "      <td>1</td>\n",
              "      <td>0</td>\n",
              "      <td>4</td>\n",
              "      <td>65000.0</td>\n",
              "      <td>4.50</td>\n",
              "      <td>66.5</td>\n",
              "      <td>0.0</td>\n",
              "      <td>1</td>\n",
              "      <td>7153.725843</td>\n",
              "      <td>1</td>\n",
              "    </tr>\n",
              "    <tr>\n",
              "      <th>8639</th>\n",
              "      <td>6000</td>\n",
              "      <td>3</td>\n",
              "      <td>10.37</td>\n",
              "      <td>1</td>\n",
              "      <td>2</td>\n",
              "      <td>0</td>\n",
              "      <td>4</td>\n",
              "      <td>85000.0</td>\n",
              "      <td>6.58</td>\n",
              "      <td>55.3</td>\n",
              "      <td>0.0</td>\n",
              "      <td>1</td>\n",
              "      <td>6575.244652</td>\n",
              "      <td>1</td>\n",
              "    </tr>\n",
              "    <tr>\n",
              "      <th>11020</th>\n",
              "      <td>25000</td>\n",
              "      <td>3</td>\n",
              "      <td>9.99</td>\n",
              "      <td>1</td>\n",
              "      <td>1</td>\n",
              "      <td>2</td>\n",
              "      <td>4</td>\n",
              "      <td>48000.0</td>\n",
              "      <td>19.40</td>\n",
              "      <td>57.6</td>\n",
              "      <td>0.0</td>\n",
              "      <td>1</td>\n",
              "      <td>29037.951035</td>\n",
              "      <td>1</td>\n",
              "    </tr>\n",
              "    <tr>\n",
              "      <th>255</th>\n",
              "      <td>10400</td>\n",
              "      <td>3</td>\n",
              "      <td>12.69</td>\n",
              "      <td>1</td>\n",
              "      <td>1</td>\n",
              "      <td>0</td>\n",
              "      <td>4</td>\n",
              "      <td>44000.0</td>\n",
              "      <td>19.91</td>\n",
              "      <td>90.1</td>\n",
              "      <td>0.0</td>\n",
              "      <td>1</td>\n",
              "      <td>12559.160014</td>\n",
              "      <td>1</td>\n",
              "    </tr>\n",
              "    <tr>\n",
              "      <th>9896</th>\n",
              "      <td>16000</td>\n",
              "      <td>5</td>\n",
              "      <td>15.28</td>\n",
              "      <td>3</td>\n",
              "      <td>2</td>\n",
              "      <td>4</td>\n",
              "      <td>4</td>\n",
              "      <td>42000.0</td>\n",
              "      <td>15.77</td>\n",
              "      <td>38.9</td>\n",
              "      <td>0.0</td>\n",
              "      <td>1</td>\n",
              "      <td>20609.185447</td>\n",
              "      <td>1</td>\n",
              "    </tr>\n",
              "    <tr>\n",
              "      <th>14904</th>\n",
              "      <td>14725</td>\n",
              "      <td>5</td>\n",
              "      <td>7.88</td>\n",
              "      <td>0</td>\n",
              "      <td>4</td>\n",
              "      <td>1</td>\n",
              "      <td>0</td>\n",
              "      <td>60000.0</td>\n",
              "      <td>10.44</td>\n",
              "      <td>21.7</td>\n",
              "      <td>0.0</td>\n",
              "      <td>1</td>\n",
              "      <td>16845.988546</td>\n",
              "      <td>1</td>\n",
              "    </tr>\n",
              "    <tr>\n",
              "      <th>12583</th>\n",
              "      <td>6000</td>\n",
              "      <td>3</td>\n",
              "      <td>7.14</td>\n",
              "      <td>0</td>\n",
              "      <td>9</td>\n",
              "      <td>3</td>\n",
              "      <td>4</td>\n",
              "      <td>26004.0</td>\n",
              "      <td>5.54</td>\n",
              "      <td>21.3</td>\n",
              "      <td>0.0</td>\n",
              "      <td>1</td>\n",
              "      <td>6681.037486</td>\n",
              "      <td>1</td>\n",
              "    </tr>\n",
              "    <tr>\n",
              "      <th>1366</th>\n",
              "      <td>12000</td>\n",
              "      <td>3</td>\n",
              "      <td>10.65</td>\n",
              "      <td>1</td>\n",
              "      <td>2</td>\n",
              "      <td>4</td>\n",
              "      <td>4</td>\n",
              "      <td>110000.0</td>\n",
              "      <td>11.88</td>\n",
              "      <td>88.4</td>\n",
              "      <td>0.0</td>\n",
              "      <td>1</td>\n",
              "      <td>14071.622023</td>\n",
              "      <td>1</td>\n",
              "    </tr>\n",
              "    <tr>\n",
              "      <th>244</th>\n",
              "      <td>18800</td>\n",
              "      <td>3</td>\n",
              "      <td>7.51</td>\n",
              "      <td>0</td>\n",
              "      <td>2</td>\n",
              "      <td>0</td>\n",
              "      <td>0</td>\n",
              "      <td>82000.0</td>\n",
              "      <td>13.76</td>\n",
              "      <td>17.3</td>\n",
              "      <td>0.0</td>\n",
              "      <td>1</td>\n",
              "      <td>21055.769997</td>\n",
              "      <td>1</td>\n",
              "    </tr>\n",
              "    <tr>\n",
              "      <th>18668</th>\n",
              "      <td>6000</td>\n",
              "      <td>3</td>\n",
              "      <td>8.00</td>\n",
              "      <td>0</td>\n",
              "      <td>13</td>\n",
              "      <td>4</td>\n",
              "      <td>4</td>\n",
              "      <td>60000.0</td>\n",
              "      <td>1.06</td>\n",
              "      <td>16.4</td>\n",
              "      <td>0.0</td>\n",
              "      <td>1</td>\n",
              "      <td>6413.378796</td>\n",
              "      <td>1</td>\n",
              "    </tr>\n",
              "    <tr>\n",
              "      <th>13319</th>\n",
              "      <td>15000</td>\n",
              "      <td>5</td>\n",
              "      <td>17.19</td>\n",
              "      <td>4</td>\n",
              "      <td>2</td>\n",
              "      <td>0</td>\n",
              "      <td>0</td>\n",
              "      <td>83000.0</td>\n",
              "      <td>17.55</td>\n",
              "      <td>55.5</td>\n",
              "      <td>0.0</td>\n",
              "      <td>0</td>\n",
              "      <td>7112.270000</td>\n",
              "      <td>1</td>\n",
              "    </tr>\n",
              "    <tr>\n",
              "      <th>8511</th>\n",
              "      <td>16300</td>\n",
              "      <td>3</td>\n",
              "      <td>14.91</td>\n",
              "      <td>3</td>\n",
              "      <td>1</td>\n",
              "      <td>1</td>\n",
              "      <td>0</td>\n",
              "      <td>62664.0</td>\n",
              "      <td>24.17</td>\n",
              "      <td>79.5</td>\n",
              "      <td>0.0</td>\n",
              "      <td>0</td>\n",
              "      <td>5643.300000</td>\n",
              "      <td>1</td>\n",
              "    </tr>\n",
              "    <tr>\n",
              "      <th>3992</th>\n",
              "      <td>7000</td>\n",
              "      <td>3</td>\n",
              "      <td>11.49</td>\n",
              "      <td>1</td>\n",
              "      <td>0</td>\n",
              "      <td>0</td>\n",
              "      <td>4</td>\n",
              "      <td>32000.0</td>\n",
              "      <td>8.36</td>\n",
              "      <td>19.3</td>\n",
              "      <td>0.0</td>\n",
              "      <td>1</td>\n",
              "      <td>8308.750001</td>\n",
              "      <td>1</td>\n",
              "    </tr>\n",
              "    <tr>\n",
              "      <th>10690</th>\n",
              "      <td>6000</td>\n",
              "      <td>5</td>\n",
              "      <td>18.54</td>\n",
              "      <td>5</td>\n",
              "      <td>2</td>\n",
              "      <td>0</td>\n",
              "      <td>4</td>\n",
              "      <td>55929.0</td>\n",
              "      <td>18.41</td>\n",
              "      <td>41.8</td>\n",
              "      <td>0.0</td>\n",
              "      <td>1</td>\n",
              "      <td>6798.871910</td>\n",
              "      <td>1</td>\n",
              "    </tr>\n",
              "    <tr>\n",
              "      <th>14630</th>\n",
              "      <td>6900</td>\n",
              "      <td>5</td>\n",
              "      <td>11.86</td>\n",
              "      <td>1</td>\n",
              "      <td>2</td>\n",
              "      <td>3</td>\n",
              "      <td>4</td>\n",
              "      <td>72000.0</td>\n",
              "      <td>19.10</td>\n",
              "      <td>45.3</td>\n",
              "      <td>0.0</td>\n",
              "      <td>0</td>\n",
              "      <td>3937.400000</td>\n",
              "      <td>1</td>\n",
              "    </tr>\n",
              "    <tr>\n",
              "      <th>3404</th>\n",
              "      <td>3500</td>\n",
              "      <td>5</td>\n",
              "      <td>11.71</td>\n",
              "      <td>1</td>\n",
              "      <td>9</td>\n",
              "      <td>0</td>\n",
              "      <td>0</td>\n",
              "      <td>44004.0</td>\n",
              "      <td>10.23</td>\n",
              "      <td>22.1</td>\n",
              "      <td>0.0</td>\n",
              "      <td>1</td>\n",
              "      <td>4640.483479</td>\n",
              "      <td>1</td>\n",
              "    </tr>\n",
              "    <tr>\n",
              "      <th>18835</th>\n",
              "      <td>9000</td>\n",
              "      <td>3</td>\n",
              "      <td>15.05</td>\n",
              "      <td>3</td>\n",
              "      <td>1</td>\n",
              "      <td>0</td>\n",
              "      <td>4</td>\n",
              "      <td>54000.0</td>\n",
              "      <td>23.80</td>\n",
              "      <td>89.4</td>\n",
              "      <td>0.0</td>\n",
              "      <td>0</td>\n",
              "      <td>1314.440000</td>\n",
              "      <td>1</td>\n",
              "    </tr>\n",
              "  </tbody>\n",
              "</table>\n",
              "</div>\n",
              "      <button class=\"colab-df-convert\" onclick=\"convertToInteractive('df-f801eb24-3159-496a-8c91-afd306c582e0')\"\n",
              "              title=\"Convert this dataframe to an interactive table.\"\n",
              "              style=\"display:none;\">\n",
              "        \n",
              "  <svg xmlns=\"http://www.w3.org/2000/svg\" height=\"24px\"viewBox=\"0 0 24 24\"\n",
              "       width=\"24px\">\n",
              "    <path d=\"M0 0h24v24H0V0z\" fill=\"none\"/>\n",
              "    <path d=\"M18.56 5.44l.94 2.06.94-2.06 2.06-.94-2.06-.94-.94-2.06-.94 2.06-2.06.94zm-11 1L8.5 8.5l.94-2.06 2.06-.94-2.06-.94L8.5 2.5l-.94 2.06-2.06.94zm10 10l.94 2.06.94-2.06 2.06-.94-2.06-.94-.94-2.06-.94 2.06-2.06.94z\"/><path d=\"M17.41 7.96l-1.37-1.37c-.4-.4-.92-.59-1.43-.59-.52 0-1.04.2-1.43.59L10.3 9.45l-7.72 7.72c-.78.78-.78 2.05 0 2.83L4 21.41c.39.39.9.59 1.41.59.51 0 1.02-.2 1.41-.59l7.78-7.78 2.81-2.81c.8-.78.8-2.07 0-2.86zM5.41 20L4 18.59l7.72-7.72 1.47 1.35L5.41 20z\"/>\n",
              "  </svg>\n",
              "      </button>\n",
              "      \n",
              "  <style>\n",
              "    .colab-df-container {\n",
              "      display:flex;\n",
              "      flex-wrap:wrap;\n",
              "      gap: 12px;\n",
              "    }\n",
              "\n",
              "    .colab-df-convert {\n",
              "      background-color: #E8F0FE;\n",
              "      border: none;\n",
              "      border-radius: 50%;\n",
              "      cursor: pointer;\n",
              "      display: none;\n",
              "      fill: #1967D2;\n",
              "      height: 32px;\n",
              "      padding: 0 0 0 0;\n",
              "      width: 32px;\n",
              "    }\n",
              "\n",
              "    .colab-df-convert:hover {\n",
              "      background-color: #E2EBFA;\n",
              "      box-shadow: 0px 1px 2px rgba(60, 64, 67, 0.3), 0px 1px 3px 1px rgba(60, 64, 67, 0.15);\n",
              "      fill: #174EA6;\n",
              "    }\n",
              "\n",
              "    [theme=dark] .colab-df-convert {\n",
              "      background-color: #3B4455;\n",
              "      fill: #D2E3FC;\n",
              "    }\n",
              "\n",
              "    [theme=dark] .colab-df-convert:hover {\n",
              "      background-color: #434B5C;\n",
              "      box-shadow: 0px 1px 3px 1px rgba(0, 0, 0, 0.15);\n",
              "      filter: drop-shadow(0px 1px 2px rgba(0, 0, 0, 0.3));\n",
              "      fill: #FFFFFF;\n",
              "    }\n",
              "  </style>\n",
              "\n",
              "      <script>\n",
              "        const buttonEl =\n",
              "          document.querySelector('#df-f801eb24-3159-496a-8c91-afd306c582e0 button.colab-df-convert');\n",
              "        buttonEl.style.display =\n",
              "          google.colab.kernel.accessAllowed ? 'block' : 'none';\n",
              "\n",
              "        async function convertToInteractive(key) {\n",
              "          const element = document.querySelector('#df-f801eb24-3159-496a-8c91-afd306c582e0');\n",
              "          const dataTable =\n",
              "            await google.colab.kernel.invokeFunction('convertToInteractive',\n",
              "                                                     [key], {});\n",
              "          if (!dataTable) return;\n",
              "\n",
              "          const docLinkHtml = 'Like what you see? Visit the ' +\n",
              "            '<a target=\"_blank\" href=https://colab.research.google.com/notebooks/data_table.ipynb>data table notebook</a>'\n",
              "            + ' to learn more about interactive tables.';\n",
              "          element.innerHTML = '';\n",
              "          dataTable['output_type'] = 'display_data';\n",
              "          await google.colab.output.renderOutput(dataTable, element);\n",
              "          const docLink = document.createElement('div');\n",
              "          docLink.innerHTML = docLinkHtml;\n",
              "          element.appendChild(docLink);\n",
              "        }\n",
              "      </script>\n",
              "    </div>\n",
              "  </div>\n",
              "  "
            ]
          },
          "metadata": {},
          "execution_count": 92
        }
      ],
      "source": [
        "portfolio_rfc2.sample(20)"
      ]
    },
    {
      "cell_type": "code",
      "execution_count": 93,
      "metadata": {
        "id": "I0QJJNvdbBqW",
        "colab": {
          "base_uri": "https://localhost:8080/"
        },
        "outputId": "60a95519-de82-4ce2-a581-4b08b4dbeb98"
      },
      "outputs": [
        {
          "output_type": "execute_result",
          "data": {
            "text/plain": [
              "0.8510798593671521"
            ]
          },
          "metadata": {},
          "execution_count": 93
        }
      ],
      "source": [
        "df_test.repaid.mean()"
      ]
    },
    {
      "cell_type": "code",
      "execution_count": 94,
      "metadata": {
        "id": "0uynAUedbBqW",
        "colab": {
          "base_uri": "https://localhost:8080/"
        },
        "outputId": "e28e2922-e7c7-4959-87c4-26a5f1b711e8"
      },
      "outputs": [
        {
          "output_type": "execute_result",
          "data": {
            "text/plain": [
              "0.8816578803853845"
            ]
          },
          "metadata": {},
          "execution_count": 94
        }
      ],
      "source": [
        "\n",
        "portfolio_rfc2.repaid.mean()"
      ]
    },
    {
      "cell_type": "code",
      "execution_count": 95,
      "metadata": {
        "id": "L7tsCzn4bBqW",
        "colab": {
          "base_uri": "https://localhost:8080/"
        },
        "outputId": "fe33fbf1-0b61-461f-b706-c06edf8afda1"
      },
      "outputs": [
        {
          "output_type": "stream",
          "name": "stdout",
          "text": [
            "36 months loan:5960, Annual return:0.0269\n",
            "60 months loan:2004, Annual return:0.0274\n"
          ]
        }
      ],
      "source": [
        "\n",
        "get_portfolio_annual_return(df_test)"
      ]
    },
    {
      "cell_type": "code",
      "execution_count": 96,
      "metadata": {
        "id": "IsGuyaQEbBqW",
        "colab": {
          "base_uri": "https://localhost:8080/"
        },
        "outputId": "52050ee4-d45f-42a9-ce8e-06904c2140ab"
      },
      "outputs": [
        {
          "output_type": "stream",
          "name": "stdout",
          "text": [
            "36 months loan:4223, Annual return:0.0295\n",
            "60 months loan:1278, Annual return:0.0306\n"
          ]
        }
      ],
      "source": [
        "#return of the loan portfolio selected by rfc2\n",
        "get_portfolio_annual_return(portfolio_rfc2)"
      ]
    },
    {
      "cell_type": "markdown",
      "metadata": {
        "id": "XWl8jYc0bBqW"
      },
      "source": [
        "### Impact of Loan Term\n",
        "\n",
        "In the RandomForestClassifier demo, I didn't include loan term in the training features. But as shown in 2.1, 36 months loans have much higher paid-off rate than that of 60 months loans. It seems obvious that loan term should be included in the training feature.\n",
        "\n",
        "In the following code cells, I will add loan_term_year to the training feature and train the RandomForestClassifier with class_weight='balanced'.\n",
        "\n",
        "First, I will add loan_term_year to model_columns.\n",
        "Then, I will create d_train with the new model_columns.\n",
        "Then, I will train and predict with the RandomForestClassifier.\n",
        "Fianlly, i will check the portfolio return.\n",
        "\n",
        "Comparing to the portfolio selected by rfc2, in the new portfolio, 36 months loan return drops a bit and 60 months loan return increases a bit. But the biggest impact is that in the new portfolio, there are 10 times more 36 months loans than 60 months loans. While in the dataset, the ratio is about 3 to 1. The reason is that since 36 months loans have much higher repaid rate, when we set class_weight='balanced', the model will bias toward 36 months loans."
      ]
    },
    {
      "cell_type": "code",
      "execution_count": 77,
      "metadata": {
        "id": "l1U-hNnIbBqW",
        "colab": {
          "base_uri": "https://localhost:8080/",
          "height": 143
        },
        "outputId": "0de9ea38-5644-4879-b005-1a17d2663763"
      },
      "outputs": [
        {
          "output_type": "execute_result",
          "data": {
            "text/plain": [
              "                  repaid\n",
              "loan_term_year          \n",
              "3               0.883652\n",
              "5               0.759691"
            ],
            "text/html": [
              "\n",
              "  <div id=\"df-0f25fe7a-0d3b-4371-8ed6-117daaeb5369\">\n",
              "    <div class=\"colab-df-container\">\n",
              "      <div>\n",
              "<style scoped>\n",
              "    .dataframe tbody tr th:only-of-type {\n",
              "        vertical-align: middle;\n",
              "    }\n",
              "\n",
              "    .dataframe tbody tr th {\n",
              "        vertical-align: top;\n",
              "    }\n",
              "\n",
              "    .dataframe thead th {\n",
              "        text-align: right;\n",
              "    }\n",
              "</style>\n",
              "<table border=\"1\" class=\"dataframe\">\n",
              "  <thead>\n",
              "    <tr style=\"text-align: right;\">\n",
              "      <th></th>\n",
              "      <th>repaid</th>\n",
              "    </tr>\n",
              "    <tr>\n",
              "      <th>loan_term_year</th>\n",
              "      <th></th>\n",
              "    </tr>\n",
              "  </thead>\n",
              "  <tbody>\n",
              "    <tr>\n",
              "      <th>3</th>\n",
              "      <td>0.883652</td>\n",
              "    </tr>\n",
              "    <tr>\n",
              "      <th>5</th>\n",
              "      <td>0.759691</td>\n",
              "    </tr>\n",
              "  </tbody>\n",
              "</table>\n",
              "</div>\n",
              "      <button class=\"colab-df-convert\" onclick=\"convertToInteractive('df-0f25fe7a-0d3b-4371-8ed6-117daaeb5369')\"\n",
              "              title=\"Convert this dataframe to an interactive table.\"\n",
              "              style=\"display:none;\">\n",
              "        \n",
              "  <svg xmlns=\"http://www.w3.org/2000/svg\" height=\"24px\"viewBox=\"0 0 24 24\"\n",
              "       width=\"24px\">\n",
              "    <path d=\"M0 0h24v24H0V0z\" fill=\"none\"/>\n",
              "    <path d=\"M18.56 5.44l.94 2.06.94-2.06 2.06-.94-2.06-.94-.94-2.06-.94 2.06-2.06.94zm-11 1L8.5 8.5l.94-2.06 2.06-.94-2.06-.94L8.5 2.5l-.94 2.06-2.06.94zm10 10l.94 2.06.94-2.06 2.06-.94-2.06-.94-.94-2.06-.94 2.06-2.06.94z\"/><path d=\"M17.41 7.96l-1.37-1.37c-.4-.4-.92-.59-1.43-.59-.52 0-1.04.2-1.43.59L10.3 9.45l-7.72 7.72c-.78.78-.78 2.05 0 2.83L4 21.41c.39.39.9.59 1.41.59.51 0 1.02-.2 1.41-.59l7.78-7.78 2.81-2.81c.8-.78.8-2.07 0-2.86zM5.41 20L4 18.59l7.72-7.72 1.47 1.35L5.41 20z\"/>\n",
              "  </svg>\n",
              "      </button>\n",
              "      \n",
              "  <style>\n",
              "    .colab-df-container {\n",
              "      display:flex;\n",
              "      flex-wrap:wrap;\n",
              "      gap: 12px;\n",
              "    }\n",
              "\n",
              "    .colab-df-convert {\n",
              "      background-color: #E8F0FE;\n",
              "      border: none;\n",
              "      border-radius: 50%;\n",
              "      cursor: pointer;\n",
              "      display: none;\n",
              "      fill: #1967D2;\n",
              "      height: 32px;\n",
              "      padding: 0 0 0 0;\n",
              "      width: 32px;\n",
              "    }\n",
              "\n",
              "    .colab-df-convert:hover {\n",
              "      background-color: #E2EBFA;\n",
              "      box-shadow: 0px 1px 2px rgba(60, 64, 67, 0.3), 0px 1px 3px 1px rgba(60, 64, 67, 0.15);\n",
              "      fill: #174EA6;\n",
              "    }\n",
              "\n",
              "    [theme=dark] .colab-df-convert {\n",
              "      background-color: #3B4455;\n",
              "      fill: #D2E3FC;\n",
              "    }\n",
              "\n",
              "    [theme=dark] .colab-df-convert:hover {\n",
              "      background-color: #434B5C;\n",
              "      box-shadow: 0px 1px 3px 1px rgba(0, 0, 0, 0.15);\n",
              "      filter: drop-shadow(0px 1px 2px rgba(0, 0, 0, 0.3));\n",
              "      fill: #FFFFFF;\n",
              "    }\n",
              "  </style>\n",
              "\n",
              "      <script>\n",
              "        const buttonEl =\n",
              "          document.querySelector('#df-0f25fe7a-0d3b-4371-8ed6-117daaeb5369 button.colab-df-convert');\n",
              "        buttonEl.style.display =\n",
              "          google.colab.kernel.accessAllowed ? 'block' : 'none';\n",
              "\n",
              "        async function convertToInteractive(key) {\n",
              "          const element = document.querySelector('#df-0f25fe7a-0d3b-4371-8ed6-117daaeb5369');\n",
              "          const dataTable =\n",
              "            await google.colab.kernel.invokeFunction('convertToInteractive',\n",
              "                                                     [key], {});\n",
              "          if (!dataTable) return;\n",
              "\n",
              "          const docLinkHtml = 'Like what you see? Visit the ' +\n",
              "            '<a target=\"_blank\" href=https://colab.research.google.com/notebooks/data_table.ipynb>data table notebook</a>'\n",
              "            + ' to learn more about interactive tables.';\n",
              "          element.innerHTML = '';\n",
              "          dataTable['output_type'] = 'display_data';\n",
              "          await google.colab.output.renderOutput(dataTable, element);\n",
              "          const docLink = document.createElement('div');\n",
              "          docLink.innerHTML = docLinkHtml;\n",
              "          element.appendChild(docLink);\n",
              "        }\n",
              "      </script>\n",
              "    </div>\n",
              "  </div>\n",
              "  "
            ]
          },
          "metadata": {},
          "execution_count": 77
        }
      ],
      "source": [
        "#check repaid rate of 36 months loans and 60 months loans\n",
        "loan_df.groupby('loan_term_year').agg({'repaid':'mean'})"
      ]
    },
    {
      "cell_type": "code",
      "execution_count": 98,
      "metadata": {
        "id": "1OIrBvfXbBqW",
        "colab": {
          "base_uri": "https://localhost:8080/"
        },
        "outputId": "acd272d6-b56f-4127-e95e-e7cfb34ba016"
      },
      "outputs": [
        {
          "output_type": "stream",
          "name": "stdout",
          "text": [
            "36 months loan:5226, Annual return:0.0278\n",
            "60 months loan:404, Annual return:0.0331\n"
          ]
        }
      ],
      "source": [
        "# Add loan_term_year to training feature\n",
        "model_columns2 = ['funded_amnt', 'purpose_code', 'addr_state_code', 'home_ownership_code', 'annual_inc',\n",
        "                'dti', 'revol_util', 'pub_rec_bankruptcies', 'loan_term_year']\n",
        "d_train = df_train[model_columns2]\n",
        "d_test = df_test[model_columns2]\n",
        "\n",
        "# Train RandomForestClassifier with new features\n",
        "rfc3 = RandomForestClassifier(max_depth=7, class_weight='balanced', random_state=23)\n",
        "rfc3 = rfc3.fit(d_train, l_train)\n",
        "pred = rfc3.predict(d_test)\n",
        "\n",
        "# Create portfolio and check return\n",
        "df_test['prediction'] = pred\n",
        "portfolio_rfc3 = df_test[df_test.prediction==1]\n",
        "#return of the loan portfolio selected by rfc3\n",
        "get_portfolio_annual_return(portfolio_rfc3)\n"
      ]
    },
    {
      "cell_type": "code",
      "execution_count": 79,
      "metadata": {
        "id": "VglWCb8sbBqW",
        "colab": {
          "base_uri": "https://localhost:8080/"
        },
        "outputId": "78ce2f93-d8fd-43bb-8f57-5d97738e2aa7"
      },
      "outputs": [
        {
          "output_type": "stream",
          "name": "stdout",
          "text": [
            "36 months loan:4223, Annual return:0.0295\n",
            "60 months loan:1278, Annual return:0.0306\n"
          ]
        }
      ],
      "source": [
        "get_portfolio_annual_return(portfolio_rfc2)"
      ]
    },
    {
      "cell_type": "code",
      "execution_count": 80,
      "metadata": {
        "id": "0mj60L9-bBqW",
        "colab": {
          "base_uri": "https://localhost:8080/"
        },
        "outputId": "913f84d0-e535-4053-e757-140f23e43ddd"
      },
      "outputs": [
        {
          "output_type": "stream",
          "name": "stdout",
          "text": [
            "36 months loan:5960, Annual return:0.0269\n",
            "60 months loan:2004, Annual return:0.0274\n"
          ]
        }
      ],
      "source": [
        "get_portfolio_annual_return(df_test)"
      ]
    },
    {
      "cell_type": "code",
      "execution_count": 99,
      "metadata": {
        "id": "ofOWUPfQbBqX",
        "colab": {
          "base_uri": "https://localhost:8080/"
        },
        "outputId": "9628dd8e-bbe3-40c4-99e3-1cfa492ad0a2"
      },
      "outputs": [
        {
          "output_type": "execute_result",
          "data": {
            "text/plain": [
              "3    5226\n",
              "5     404\n",
              "Name: loan_term_year, dtype: int64"
            ]
          },
          "metadata": {},
          "execution_count": 99
        }
      ],
      "source": [
        "#Check number of 36 months and 60 months loans\n",
        "portfolio_rfc3.loan_term_year.value_counts()"
      ]
    },
    {
      "cell_type": "markdown",
      "metadata": {
        "id": "B-pUfHkTbBqX"
      },
      "source": [
        "### Improvements with Filters\n",
        "\n",
        "pub_rec_bankruptcies is the number of public record bankruptcies of a loan borrower. As show in the next code cell, vast majority of loans have pub_rec_bankruptcies = 0, which means no public record of bankruptcies.\n"
      ]
    },
    {
      "cell_type": "code",
      "execution_count": 100,
      "metadata": {
        "id": "rkfMbaEKbBqX",
        "colab": {
          "base_uri": "https://localhost:8080/"
        },
        "outputId": "a4a7c43e-fbdd-4aac-9941-59304495ea12"
      },
      "outputs": [
        {
          "output_type": "execute_result",
          "data": {
            "text/plain": [
              "0.0    19165\n",
              "1.0      742\n",
              "2.0        1\n",
              "Name: pub_rec_bankruptcies, dtype: int64"
            ]
          },
          "metadata": {},
          "execution_count": 100
        }
      ],
      "source": [
        "df.pub_rec_bankruptcies.value_counts()"
      ]
    },
    {
      "cell_type": "markdown",
      "metadata": {
        "id": "dpdrEdLBbBqX"
      },
      "source": [
        "I may include pub_rec_bankruptcies in the training features. Another way is to use it as a filter. In the next code cell, I check returns of loans with and without public record bankruptcies in the data set."
      ]
    },
    {
      "cell_type": "code",
      "execution_count": 101,
      "metadata": {
        "id": "nhk-cZ81bBqX",
        "colab": {
          "base_uri": "https://localhost:8080/"
        },
        "outputId": "3ec2729b-14fb-446a-a426-9e009a0a4a16"
      },
      "outputs": [
        {
          "output_type": "stream",
          "name": "stdout",
          "text": [
            "36 months loan:14316, Annual return:0.029\n",
            "60 months loan:4849, Annual return:0.029\n"
          ]
        }
      ],
      "source": [
        "#returns of loans without bankruptcy record\n",
        "get_portfolio_annual_return(loan_df[loan_df.pub_rec_bankruptcies==0])"
      ]
    },
    {
      "cell_type": "code",
      "execution_count": 84,
      "metadata": {
        "id": "Fahqpz9FbBqX",
        "colab": {
          "base_uri": "https://localhost:8080/"
        },
        "outputId": "80855861-b70d-4414-d110-1bf9eff3950b"
      },
      "outputs": [
        {
          "output_type": "stream",
          "name": "stdout",
          "text": [
            "36 months loan:536, Annual return:0.0156\n",
            "60 months loan:207, Annual return:0.0198\n"
          ]
        }
      ],
      "source": [
        "#returns of loans with bankruptcy record\n",
        "get_portfolio_annual_return(loan_df[loan_df.pub_rec_bankruptcies>0])"
      ]
    },
    {
      "cell_type": "markdown",
      "metadata": {
        "id": "TOIXKpmbbBqX"
      },
      "source": [
        "Since loans without public bankruptcies recrods have significantly higher returns, I will filter out all loans that have public bankruptcies recrods from the portfolio determined by rfc2. The new portfolio has a little better return as shown in the following code cell."
      ]
    },
    {
      "cell_type": "code",
      "execution_count": 102,
      "metadata": {
        "id": "o8v99m6JbBqX",
        "colab": {
          "base_uri": "https://localhost:8080/"
        },
        "outputId": "07882dd5-59d1-4ba8-f7ba-1dcd649758b4"
      },
      "outputs": [
        {
          "output_type": "stream",
          "name": "stdout",
          "text": [
            "36 months loan:4078, Annual return:0.0299\n",
            "60 months loan:1219, Annual return:0.0319\n"
          ]
        }
      ],
      "source": [
        "portfolio_rfc2_no_prb = portfolio_rfc2[portfolio_rfc2.pub_rec_bankruptcies==0]\n",
        "get_portfolio_annual_return(portfolio_rfc2_no_prb)"
      ]
    },
    {
      "cell_type": "markdown",
      "source": [
        "Now, we can use this model to find the portfolio of loans that an investor should likely invest in considering that the loan will be repaid\n",
        "\n",
        "Thanks for your attention!"
      ],
      "metadata": {
        "id": "vQ9RWPIwNuHu"
      }
    },
    {
      "cell_type": "code",
      "source": [],
      "metadata": {
        "id": "1FsCO0SvN8mx"
      },
      "execution_count": null,
      "outputs": []
    }
  ],
  "metadata": {
    "kernelspec": {
      "display_name": "Python 3",
      "language": "python",
      "name": "python3"
    },
    "language_info": {
      "codemirror_mode": {
        "name": "ipython",
        "version": 3
      },
      "file_extension": ".py",
      "mimetype": "text/x-python",
      "name": "python",
      "nbconvert_exporter": "python",
      "pygments_lexer": "ipython3",
      "version": "3.8.5"
    },
    "colab": {
      "provenance": [],
      "include_colab_link": true
    }
  },
  "nbformat": 4,
  "nbformat_minor": 0
}